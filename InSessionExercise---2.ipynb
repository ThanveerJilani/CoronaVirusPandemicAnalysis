{
 "cells": [
  {
   "cell_type": "code",
   "execution_count": 1,
   "metadata": {},
   "outputs": [],
   "source": [
    "# States are in alphabetical order.\n",
    "# Listing out the states in a list.\n",
    "list1 = [\"Andaman And Nicobar\" , \"Andhra Pradesh\" , \"Arunachal Pradesh\" , \"Assam\" , \"Bihar\" ]\n",
    "# Listing out the number of infected cases  list1 in a list.\n",
    "list2 = [\"100\" , \"15252\" , \"195\" , \"8582\" , \"10249\"]\n",
    "# Listing out the number of recovered in a tuple.\n",
    "tuple_recovered = (50 , 6988 , 66 , 5851 , 7946)\n",
    "# Listing out states as keys and infected cases as values in a dictionary.\n",
    "dictionary = {\"Andaman And Nicobar\":100 , \"Andhra Pradesh\":15252 , \"Arunachal Pradesh\":195 , \"Assam\":8582 , \"Bihar\":10249}"
   ]
  },
  {
   "cell_type": "code",
   "execution_count": 2,
   "metadata": {},
   "outputs": [
    {
     "name": "stdout",
     "output_type": "stream",
     "text": [
      "['Andaman And Nicobar', 'Andhra Pradesh', 'Arunachal Pradesh', 'Assam', 'Bihar']\n",
      "['100', '15252', '195', '8582', '10249']\n",
      "(50, 6988, 66, 5851, 7946)\n",
      "{'Andaman And Nicobar': 100, 'Andhra Pradesh': 15252, 'Arunachal Pradesh': 195, 'Assam': 8582, 'Bihar': 10249}\n"
     ]
    }
   ],
   "source": [
    "# Displaying the data on to the console.\n",
    "print(list1)\n",
    "print(list2)\n",
    "print(tuple_recovered)\n",
    "print(dictionary)"
   ]
  }
 ],
 "metadata": {
  "kernelspec": {
   "display_name": "Python 3",
   "language": "python",
   "name": "python3"
  },
  "language_info": {
   "codemirror_mode": {
    "name": "ipython",
    "version": 3
   },
   "file_extension": ".py",
   "mimetype": "text/x-python",
   "name": "python",
   "nbconvert_exporter": "python",
   "pygments_lexer": "ipython3",
   "version": "3.7.6"
  }
 },
 "nbformat": 4,
 "nbformat_minor": 4
}
