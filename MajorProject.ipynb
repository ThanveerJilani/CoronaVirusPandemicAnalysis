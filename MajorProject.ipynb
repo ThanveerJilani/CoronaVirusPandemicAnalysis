{
 "cells": [
  {
   "attachments": {},
   "cell_type": "markdown",
   "metadata": {},
   "source": [
    "# 𝘐𝘯𝘴𝘪𝘨𝘩𝘵𝘴 𝘰𝘧 𝘔𝘪𝘯𝘰𝘳 𝘗𝘳𝘰𝘫𝘦𝘤𝘵\n",
    "\n",
    "==> 𝘛𝘩𝘦 𝘐𝘯𝘧𝘢𝘯𝘵 𝘔𝘰𝘳𝘵𝘢𝘭𝘪𝘵𝘺 𝘙𝘢𝘵𝘦 (𝘐𝘍𝘙) 𝘢𝘯𝘥 𝘊𝘳𝘶𝘥𝘦 𝘔𝘰𝘳𝘵𝘢𝘭𝘪𝘵𝘺𝘙𝘢𝘵𝘦 (𝘊𝘔𝘙) 𝘪𝘯 𝘞𝘦𝘴𝘵 𝘉𝘦𝘯𝘨𝘢𝘭 𝘢𝘴 𝘧𝘰𝘭𝘭𝘰𝘸𝘴 :\n",
    "\n",
    "                                      𝘐𝘍𝘙 = 3.2461 , 𝘊𝘔𝘙 = 0.000876.\n",
    "\n",
    "\n",
    "𝘚𝘵𝘢𝘵𝘦 𝘈𝘴𝘴𝘪𝘨𝘯𝘦𝘥 : 𝘞𝘦𝘴𝘵 𝘉𝘦𝘯𝘨𝘢𝘭.\n",
    "\n",
    "𝘔𝘦𝘯𝘵𝘰𝘳 𝘈𝘴𝘴𝘪𝘨𝘯𝘦𝘥 : 𝘑𝘢𝘴𝘮𝘪𝘯𝘦 𝘔𝘢𝘥𝘢𝘮.\n",
    "\n",
    "𝘛𝘩𝘪𝘴 𝘱𝘳𝘰𝘫𝘦𝘤𝘵 𝘪𝘴 𝘥𝘪𝘷𝘪𝘥𝘦𝘥 𝘪𝘯𝘵𝘰 4 𝘴𝘦𝘤𝘵𝘪𝘰𝘯𝘴 :\n",
    "\n",
    "(𝘈) 𝘗𝘳𝘦𝘴𝘦𝘯𝘵 𝘚𝘵𝘢𝘵𝘦 𝘈𝘯𝘢𝘭𝘺𝘵𝘪𝘤𝘴 : 𝘝𝘪𝘴𝘶𝘢𝘭𝘪𝘻𝘪𝘯𝘨 𝘵𝘩𝘦 𝘴𝘵𝘢𝘵𝘦'𝘴 𝘤𝘶𝘳𝘳𝘦𝘯𝘵 𝘴𝘤𝘦𝘯𝘦𝘳𝘪𝘰.\n",
    "\n",
    "(𝘉) 𝘊𝘰𝘳𝘳𝘦𝘭𝘢𝘵𝘪𝘰𝘯 𝘏𝘦𝘢𝘵𝘮𝘢𝘱 : 𝘝𝘪𝘴𝘶𝘢𝘭𝘪𝘻𝘪𝘯𝘨 𝘵𝘩𝘦 𝘊𝘰𝘳𝘳𝘦𝘭𝘢𝘵𝘪𝘰𝘯.\n",
    "\n",
    "(𝘊) 𝘉𝘶𝘪𝘭𝘪𝘥𝘯𝘨 𝘢 𝘔𝘰𝘥𝘦𝘭 𝘛𝘩𝘢𝘵 𝘗𝘳𝘦𝘥𝘪𝘤𝘵𝘴 𝘊𝘰𝘯𝘧𝘪𝘳𝘮𝘦𝘥 𝘈𝘯𝘥 𝘙𝘦𝘤𝘰𝘷𝘦𝘳𝘦𝘥 𝘊𝘢𝘴𝘦𝘴.\n",
    "\n",
    "(𝘋) 𝘉𝘶𝘪𝘭𝘥𝘪𝘯𝘨 𝘢 𝘤𝘭𝘢𝘴𝘴𝘪𝘧𝘪𝘦𝘳 𝘵𝘩𝘢𝘵 𝘱𝘳𝘦𝘥𝘪𝘤𝘵𝘴 𝘵𝘩𝘦 𝘭𝘦𝘷𝘦𝘭 𝘰𝘧 𝘴𝘺𝘮𝘱𝘵𝘰𝘮𝘴 𝘭𝘪𝘬𝘦 𝘮𝘪𝘭𝘥 , 𝘮𝘰𝘥𝘦𝘳𝘢𝘵𝘦 𝘢𝘯𝘥 𝘴𝘦𝘷𝘦𝘳𝘦 𝘰𝘧 𝘊𝘰𝘳𝘰𝘯𝘢 𝘝𝘪𝘳𝘶𝘴.\n",
    "\n",
    "\n",
    " \n"
   ]
  },
  {
   "cell_type": "markdown",
   "metadata": {},
   "source": [
    "# 𝘐𝘮𝘱𝘰𝘳𝘵𝘪𝘯𝘨 𝘢𝘭𝘭 𝘦𝘴𝘴𝘦𝘯𝘵𝘪𝘢𝘭 𝘗𝘢𝘤𝘬𝘢𝘨𝘦𝘴.\n",
    " "
   ]
  },
  {
   "cell_type": "code",
   "execution_count": 1,
   "metadata": {},
   "outputs": [],
   "source": [
    "import pandas as pd\n",
    "import numpy as np\n",
    "import matplotlib.pyplot as plt\n",
    "import seaborn as sns\n",
    "from pandas.plotting import scatter_matrix\n",
    "from bokeh.plotting import figure, output_file, show"
   ]
  },
  {
   "cell_type": "markdown",
   "metadata": {},
   "source": [
    "#  𝘈𝘯𝘢𝘭𝘺𝘻𝘪𝘯𝘨 𝘵𝘩𝘦 𝘥𝘢𝘵𝘢.\n"
   ]
  },
  {
   "cell_type": "code",
   "execution_count": 2,
   "metadata": {},
   "outputs": [],
   "source": [
    "# Loading the dataset.\n",
    "df = pd.read_csv('complete.csv')"
   ]
  },
  {
   "cell_type": "code",
   "execution_count": 3,
   "metadata": {},
   "outputs": [
    {
     "name": "stdout",
     "output_type": "stream",
     "text": [
      "<class 'pandas.core.frame.DataFrame'>\n",
      "RangeIndex: 3790 entries, 0 to 3789\n",
      "Data columns (total 10 columns):\n",
      " #   Column                     Non-Null Count  Dtype  \n",
      "---  ------                     --------------  -----  \n",
      " 0   Date                       3790 non-null   object \n",
      " 1   Name of State / UT         3790 non-null   object \n",
      " 2   Latitude                   3790 non-null   float64\n",
      " 3   Longitude                  3790 non-null   float64\n",
      " 4   Total Confirmed cases      3790 non-null   int64  \n",
      " 5   Death                      3790 non-null   int64  \n",
      " 6   Cured/Discharged/Migrated  3790 non-null   int64  \n",
      " 7   New cases                  3790 non-null   int64  \n",
      " 8   New deaths                 3790 non-null   int64  \n",
      " 9   New recovered              3790 non-null   int64  \n",
      "dtypes: float64(2), int64(6), object(2)\n",
      "memory usage: 296.2+ KB\n"
     ]
    }
   ],
   "source": [
    "# Let's see some information regarding the dataset like rows,columns and datatypes with info() function.\n",
    "df.info()"
   ]
  },
  {
   "cell_type": "code",
   "execution_count": 4,
   "metadata": {},
   "outputs": [
    {
     "data": {
      "text/html": [
       "<div>\n",
       "<style scoped>\n",
       "    .dataframe tbody tr th:only-of-type {\n",
       "        vertical-align: middle;\n",
       "    }\n",
       "\n",
       "    .dataframe tbody tr th {\n",
       "        vertical-align: top;\n",
       "    }\n",
       "\n",
       "    .dataframe thead th {\n",
       "        text-align: right;\n",
       "    }\n",
       "</style>\n",
       "<table border=\"1\" class=\"dataframe\">\n",
       "  <thead>\n",
       "    <tr style=\"text-align: right;\">\n",
       "      <th></th>\n",
       "      <th>Date</th>\n",
       "      <th>Name of State / UT</th>\n",
       "      <th>Latitude</th>\n",
       "      <th>Longitude</th>\n",
       "      <th>Total Confirmed cases</th>\n",
       "      <th>Death</th>\n",
       "      <th>Cured/Discharged/Migrated</th>\n",
       "      <th>New cases</th>\n",
       "      <th>New deaths</th>\n",
       "      <th>New recovered</th>\n",
       "    </tr>\n",
       "  </thead>\n",
       "  <tbody>\n",
       "    <tr>\n",
       "      <th>0</th>\n",
       "      <td>2020-01-30</td>\n",
       "      <td>Kerala</td>\n",
       "      <td>10.8505</td>\n",
       "      <td>76.2711</td>\n",
       "      <td>1</td>\n",
       "      <td>0</td>\n",
       "      <td>0</td>\n",
       "      <td>0</td>\n",
       "      <td>0</td>\n",
       "      <td>0</td>\n",
       "    </tr>\n",
       "    <tr>\n",
       "      <th>1</th>\n",
       "      <td>2020-01-31</td>\n",
       "      <td>Kerala</td>\n",
       "      <td>10.8505</td>\n",
       "      <td>76.2711</td>\n",
       "      <td>1</td>\n",
       "      <td>0</td>\n",
       "      <td>0</td>\n",
       "      <td>0</td>\n",
       "      <td>0</td>\n",
       "      <td>0</td>\n",
       "    </tr>\n",
       "    <tr>\n",
       "      <th>2</th>\n",
       "      <td>2020-02-01</td>\n",
       "      <td>Kerala</td>\n",
       "      <td>10.8505</td>\n",
       "      <td>76.2711</td>\n",
       "      <td>2</td>\n",
       "      <td>0</td>\n",
       "      <td>0</td>\n",
       "      <td>1</td>\n",
       "      <td>0</td>\n",
       "      <td>0</td>\n",
       "    </tr>\n",
       "    <tr>\n",
       "      <th>3</th>\n",
       "      <td>2020-02-02</td>\n",
       "      <td>Kerala</td>\n",
       "      <td>10.8505</td>\n",
       "      <td>76.2711</td>\n",
       "      <td>3</td>\n",
       "      <td>0</td>\n",
       "      <td>0</td>\n",
       "      <td>1</td>\n",
       "      <td>0</td>\n",
       "      <td>0</td>\n",
       "    </tr>\n",
       "    <tr>\n",
       "      <th>4</th>\n",
       "      <td>2020-02-03</td>\n",
       "      <td>Kerala</td>\n",
       "      <td>10.8505</td>\n",
       "      <td>76.2711</td>\n",
       "      <td>3</td>\n",
       "      <td>0</td>\n",
       "      <td>0</td>\n",
       "      <td>0</td>\n",
       "      <td>0</td>\n",
       "      <td>0</td>\n",
       "    </tr>\n",
       "  </tbody>\n",
       "</table>\n",
       "</div>"
      ],
      "text/plain": [
       "         Date Name of State / UT  Latitude  Longitude  Total Confirmed cases  \\\n",
       "0  2020-01-30             Kerala   10.8505    76.2711                      1   \n",
       "1  2020-01-31             Kerala   10.8505    76.2711                      1   \n",
       "2  2020-02-01             Kerala   10.8505    76.2711                      2   \n",
       "3  2020-02-02             Kerala   10.8505    76.2711                      3   \n",
       "4  2020-02-03             Kerala   10.8505    76.2711                      3   \n",
       "\n",
       "   Death  Cured/Discharged/Migrated  New cases  New deaths  New recovered  \n",
       "0      0                          0          0           0              0  \n",
       "1      0                          0          0           0              0  \n",
       "2      0                          0          1           0              0  \n",
       "3      0                          0          1           0              0  \n",
       "4      0                          0          0           0              0  "
      ]
     },
     "execution_count": 4,
     "metadata": {},
     "output_type": "execute_result"
    }
   ],
   "source": [
    "# Let's look onto the data. The head() function displays first 5 rows of our data.\n",
    "df.head()"
   ]
  },
  {
   "cell_type": "code",
   "execution_count": 5,
   "metadata": {},
   "outputs": [
    {
     "data": {
      "text/html": [
       "<div>\n",
       "<style scoped>\n",
       "    .dataframe tbody tr th:only-of-type {\n",
       "        vertical-align: middle;\n",
       "    }\n",
       "\n",
       "    .dataframe tbody tr th {\n",
       "        vertical-align: top;\n",
       "    }\n",
       "\n",
       "    .dataframe thead th {\n",
       "        text-align: right;\n",
       "    }\n",
       "</style>\n",
       "<table border=\"1\" class=\"dataframe\">\n",
       "  <thead>\n",
       "    <tr style=\"text-align: right;\">\n",
       "      <th></th>\n",
       "      <th>Date</th>\n",
       "      <th>Name of State / UT</th>\n",
       "      <th>Latitude</th>\n",
       "      <th>Longitude</th>\n",
       "      <th>Total Confirmed cases</th>\n",
       "      <th>Death</th>\n",
       "      <th>Cured/Discharged/Migrated</th>\n",
       "      <th>New cases</th>\n",
       "      <th>New deaths</th>\n",
       "      <th>New recovered</th>\n",
       "    </tr>\n",
       "  </thead>\n",
       "  <tbody>\n",
       "    <tr>\n",
       "      <th>3785</th>\n",
       "      <td>2020-07-11</td>\n",
       "      <td>Telangana</td>\n",
       "      <td>18.1124</td>\n",
       "      <td>79.0193</td>\n",
       "      <td>32224</td>\n",
       "      <td>339</td>\n",
       "      <td>19205</td>\n",
       "      <td>1278</td>\n",
       "      <td>8</td>\n",
       "      <td>1013</td>\n",
       "    </tr>\n",
       "    <tr>\n",
       "      <th>3786</th>\n",
       "      <td>2020-07-11</td>\n",
       "      <td>Tripura</td>\n",
       "      <td>23.9408</td>\n",
       "      <td>91.9882</td>\n",
       "      <td>1918</td>\n",
       "      <td>1</td>\n",
       "      <td>1372</td>\n",
       "      <td>142</td>\n",
       "      <td>0</td>\n",
       "      <td>34</td>\n",
       "    </tr>\n",
       "    <tr>\n",
       "      <th>3787</th>\n",
       "      <td>2020-07-11</td>\n",
       "      <td>Uttar Pradesh</td>\n",
       "      <td>26.8467</td>\n",
       "      <td>80.9462</td>\n",
       "      <td>33700</td>\n",
       "      <td>889</td>\n",
       "      <td>21787</td>\n",
       "      <td>1338</td>\n",
       "      <td>27</td>\n",
       "      <td>660</td>\n",
       "    </tr>\n",
       "    <tr>\n",
       "      <th>3788</th>\n",
       "      <td>2020-07-11</td>\n",
       "      <td>Uttarakhand</td>\n",
       "      <td>30.0668</td>\n",
       "      <td>79.0193</td>\n",
       "      <td>3373</td>\n",
       "      <td>46</td>\n",
       "      <td>2706</td>\n",
       "      <td>68</td>\n",
       "      <td>0</td>\n",
       "      <td>34</td>\n",
       "    </tr>\n",
       "    <tr>\n",
       "      <th>3789</th>\n",
       "      <td>2020-07-11</td>\n",
       "      <td>West Bengal</td>\n",
       "      <td>22.9868</td>\n",
       "      <td>87.8550</td>\n",
       "      <td>27109</td>\n",
       "      <td>880</td>\n",
       "      <td>17348</td>\n",
       "      <td>1198</td>\n",
       "      <td>26</td>\n",
       "      <td>522</td>\n",
       "    </tr>\n",
       "  </tbody>\n",
       "</table>\n",
       "</div>"
      ],
      "text/plain": [
       "            Date Name of State / UT  Latitude  Longitude  \\\n",
       "3785  2020-07-11          Telangana   18.1124    79.0193   \n",
       "3786  2020-07-11            Tripura   23.9408    91.9882   \n",
       "3787  2020-07-11      Uttar Pradesh   26.8467    80.9462   \n",
       "3788  2020-07-11        Uttarakhand   30.0668    79.0193   \n",
       "3789  2020-07-11        West Bengal   22.9868    87.8550   \n",
       "\n",
       "      Total Confirmed cases  Death  Cured/Discharged/Migrated  New cases  \\\n",
       "3785                  32224    339                      19205       1278   \n",
       "3786                   1918      1                       1372        142   \n",
       "3787                  33700    889                      21787       1338   \n",
       "3788                   3373     46                       2706         68   \n",
       "3789                  27109    880                      17348       1198   \n",
       "\n",
       "      New deaths  New recovered  \n",
       "3785           8           1013  \n",
       "3786           0             34  \n",
       "3787          27            660  \n",
       "3788           0             34  \n",
       "3789          26            522  "
      ]
     },
     "execution_count": 5,
     "metadata": {},
     "output_type": "execute_result"
    }
   ],
   "source": [
    "# Similarly , The tail() function displays last 5 rows of our data.\n",
    "df.tail()"
   ]
  },
  {
   "cell_type": "code",
   "execution_count": 6,
   "metadata": {},
   "outputs": [
    {
     "data": {
      "text/html": [
       "<div>\n",
       "<style scoped>\n",
       "    .dataframe tbody tr th:only-of-type {\n",
       "        vertical-align: middle;\n",
       "    }\n",
       "\n",
       "    .dataframe tbody tr th {\n",
       "        vertical-align: top;\n",
       "    }\n",
       "\n",
       "    .dataframe thead th {\n",
       "        text-align: right;\n",
       "    }\n",
       "</style>\n",
       "<table border=\"1\" class=\"dataframe\">\n",
       "  <thead>\n",
       "    <tr style=\"text-align: right;\">\n",
       "      <th></th>\n",
       "      <th>Latitude</th>\n",
       "      <th>Longitude</th>\n",
       "      <th>Total Confirmed cases</th>\n",
       "      <th>Death</th>\n",
       "      <th>Cured/Discharged/Migrated</th>\n",
       "      <th>New cases</th>\n",
       "      <th>New deaths</th>\n",
       "      <th>New recovered</th>\n",
       "    </tr>\n",
       "  </thead>\n",
       "  <tbody>\n",
       "    <tr>\n",
       "      <th>count</th>\n",
       "      <td>3790.000000</td>\n",
       "      <td>3790.000000</td>\n",
       "      <td>3790.000000</td>\n",
       "      <td>3790.000000</td>\n",
       "      <td>3790.000000</td>\n",
       "      <td>3790.000000</td>\n",
       "      <td>3790.000000</td>\n",
       "      <td>3790.000000</td>\n",
       "    </tr>\n",
       "    <tr>\n",
       "      <th>mean</th>\n",
       "      <td>23.148444</td>\n",
       "      <td>81.337723</td>\n",
       "      <td>4978.511873</td>\n",
       "      <td>150.002111</td>\n",
       "      <td>2671.105277</td>\n",
       "      <td>215.629815</td>\n",
       "      <td>5.834565</td>\n",
       "      <td>135.939314</td>\n",
       "    </tr>\n",
       "    <tr>\n",
       "      <th>std</th>\n",
       "      <td>6.680502</td>\n",
       "      <td>6.776024</td>\n",
       "      <td>17276.690371</td>\n",
       "      <td>665.131654</td>\n",
       "      <td>9559.838165</td>\n",
       "      <td>737.027994</td>\n",
       "      <td>32.728662</td>\n",
       "      <td>530.336395</td>\n",
       "    </tr>\n",
       "    <tr>\n",
       "      <th>min</th>\n",
       "      <td>10.850500</td>\n",
       "      <td>71.192400</td>\n",
       "      <td>1.000000</td>\n",
       "      <td>0.000000</td>\n",
       "      <td>0.000000</td>\n",
       "      <td>0.000000</td>\n",
       "      <td>-1.000000</td>\n",
       "      <td>-1.000000</td>\n",
       "    </tr>\n",
       "    <tr>\n",
       "      <th>25%</th>\n",
       "      <td>18.112400</td>\n",
       "      <td>76.271100</td>\n",
       "      <td>24.000000</td>\n",
       "      <td>0.000000</td>\n",
       "      <td>3.000000</td>\n",
       "      <td>0.000000</td>\n",
       "      <td>0.000000</td>\n",
       "      <td>0.000000</td>\n",
       "    </tr>\n",
       "    <tr>\n",
       "      <th>50%</th>\n",
       "      <td>23.610200</td>\n",
       "      <td>79.019300</td>\n",
       "      <td>259.000000</td>\n",
       "      <td>3.000000</td>\n",
       "      <td>58.000000</td>\n",
       "      <td>12.000000</td>\n",
       "      <td>0.000000</td>\n",
       "      <td>2.000000</td>\n",
       "    </tr>\n",
       "    <tr>\n",
       "      <th>75%</th>\n",
       "      <td>28.704100</td>\n",
       "      <td>85.313100</td>\n",
       "      <td>2470.750000</td>\n",
       "      <td>33.000000</td>\n",
       "      <td>1167.750000</td>\n",
       "      <td>117.000000</td>\n",
       "      <td>2.000000</td>\n",
       "      <td>58.000000</td>\n",
       "    </tr>\n",
       "    <tr>\n",
       "      <th>max</th>\n",
       "      <td>34.299600</td>\n",
       "      <td>94.727800</td>\n",
       "      <td>238461.000000</td>\n",
       "      <td>9893.000000</td>\n",
       "      <td>132625.000000</td>\n",
       "      <td>13438.000000</td>\n",
       "      <td>1409.000000</td>\n",
       "      <td>8381.000000</td>\n",
       "    </tr>\n",
       "  </tbody>\n",
       "</table>\n",
       "</div>"
      ],
      "text/plain": [
       "          Latitude    Longitude  Total Confirmed cases        Death  \\\n",
       "count  3790.000000  3790.000000            3790.000000  3790.000000   \n",
       "mean     23.148444    81.337723            4978.511873   150.002111   \n",
       "std       6.680502     6.776024           17276.690371   665.131654   \n",
       "min      10.850500    71.192400               1.000000     0.000000   \n",
       "25%      18.112400    76.271100              24.000000     0.000000   \n",
       "50%      23.610200    79.019300             259.000000     3.000000   \n",
       "75%      28.704100    85.313100            2470.750000    33.000000   \n",
       "max      34.299600    94.727800          238461.000000  9893.000000   \n",
       "\n",
       "       Cured/Discharged/Migrated     New cases   New deaths  New recovered  \n",
       "count                3790.000000   3790.000000  3790.000000    3790.000000  \n",
       "mean                 2671.105277    215.629815     5.834565     135.939314  \n",
       "std                  9559.838165    737.027994    32.728662     530.336395  \n",
       "min                     0.000000      0.000000    -1.000000      -1.000000  \n",
       "25%                     3.000000      0.000000     0.000000       0.000000  \n",
       "50%                    58.000000     12.000000     0.000000       2.000000  \n",
       "75%                  1167.750000    117.000000     2.000000      58.000000  \n",
       "max                132625.000000  13438.000000  1409.000000    8381.000000  "
      ]
     },
     "execution_count": 6,
     "metadata": {},
     "output_type": "execute_result"
    }
   ],
   "source": [
    "# Let's see some basic statistics results that are predefined with describe() function.\n",
    "df.describe()"
   ]
  },
  {
   "cell_type": "code",
   "execution_count": 7,
   "metadata": {},
   "outputs": [
    {
     "data": {
      "text/plain": [
       "0"
      ]
     },
     "execution_count": 7,
     "metadata": {},
     "output_type": "execute_result"
    }
   ],
   "source": [
    "# Now, let see if our data has rows and columns with missing values(NAN) with isnull() function.\n",
    "df.isnull().sum().sum()"
   ]
  },
  {
   "cell_type": "markdown",
   "metadata": {},
   "source": [
    "### 𝘌𝘹𝘤𝘦𝘭𝘭𝘦𝘯𝘵 , 𝘞𝘦 𝘥𝘰𝘯'𝘵 𝘩𝘢𝘷𝘦 𝘢𝘯𝘺 𝘮𝘪𝘴𝘴𝘪𝘯𝘨 𝘷𝘢𝘭𝘶𝘦𝘴.\n"
   ]
  },
  {
   "cell_type": "code",
   "execution_count": 8,
   "metadata": {},
   "outputs": [
    {
     "data": {
      "text/plain": [
       "Index(['Date', 'Name of State / UT', 'Latitude', 'Longitude',\n",
       "       'Total Confirmed cases', 'Death', 'Cured/Discharged/Migrated',\n",
       "       'New cases', 'New deaths', 'New recovered'],\n",
       "      dtype='object')"
      ]
     },
     "execution_count": 8,
     "metadata": {},
     "output_type": "execute_result"
    }
   ],
   "source": [
    "# Displaying the columns.\n",
    "df.columns"
   ]
  },
  {
   "cell_type": "code",
   "execution_count": 9,
   "metadata": {},
   "outputs": [],
   "source": [
    "# Dropping Unncessary columns.\n",
    "df = df.drop(columns = [\"Latitude\" , \"Longitude\"])"
   ]
  },
  {
   "cell_type": "code",
   "execution_count": 10,
   "metadata": {},
   "outputs": [
    {
     "data": {
      "text/html": [
       "<div>\n",
       "<style scoped>\n",
       "    .dataframe tbody tr th:only-of-type {\n",
       "        vertical-align: middle;\n",
       "    }\n",
       "\n",
       "    .dataframe tbody tr th {\n",
       "        vertical-align: top;\n",
       "    }\n",
       "\n",
       "    .dataframe thead th {\n",
       "        text-align: right;\n",
       "    }\n",
       "</style>\n",
       "<table border=\"1\" class=\"dataframe\">\n",
       "  <thead>\n",
       "    <tr style=\"text-align: right;\">\n",
       "      <th></th>\n",
       "      <th>Date</th>\n",
       "      <th>Name of State / UT</th>\n",
       "      <th>Total Confirmed cases</th>\n",
       "      <th>Death</th>\n",
       "      <th>Cured/Discharged/Migrated</th>\n",
       "      <th>New cases</th>\n",
       "      <th>New deaths</th>\n",
       "      <th>New recovered</th>\n",
       "    </tr>\n",
       "  </thead>\n",
       "  <tbody>\n",
       "    <tr>\n",
       "      <th>0</th>\n",
       "      <td>2020-01-30</td>\n",
       "      <td>Kerala</td>\n",
       "      <td>1</td>\n",
       "      <td>0</td>\n",
       "      <td>0</td>\n",
       "      <td>0</td>\n",
       "      <td>0</td>\n",
       "      <td>0</td>\n",
       "    </tr>\n",
       "    <tr>\n",
       "      <th>1</th>\n",
       "      <td>2020-01-31</td>\n",
       "      <td>Kerala</td>\n",
       "      <td>1</td>\n",
       "      <td>0</td>\n",
       "      <td>0</td>\n",
       "      <td>0</td>\n",
       "      <td>0</td>\n",
       "      <td>0</td>\n",
       "    </tr>\n",
       "    <tr>\n",
       "      <th>2</th>\n",
       "      <td>2020-02-01</td>\n",
       "      <td>Kerala</td>\n",
       "      <td>2</td>\n",
       "      <td>0</td>\n",
       "      <td>0</td>\n",
       "      <td>1</td>\n",
       "      <td>0</td>\n",
       "      <td>0</td>\n",
       "    </tr>\n",
       "    <tr>\n",
       "      <th>3</th>\n",
       "      <td>2020-02-02</td>\n",
       "      <td>Kerala</td>\n",
       "      <td>3</td>\n",
       "      <td>0</td>\n",
       "      <td>0</td>\n",
       "      <td>1</td>\n",
       "      <td>0</td>\n",
       "      <td>0</td>\n",
       "    </tr>\n",
       "    <tr>\n",
       "      <th>4</th>\n",
       "      <td>2020-02-03</td>\n",
       "      <td>Kerala</td>\n",
       "      <td>3</td>\n",
       "      <td>0</td>\n",
       "      <td>0</td>\n",
       "      <td>0</td>\n",
       "      <td>0</td>\n",
       "      <td>0</td>\n",
       "    </tr>\n",
       "    <tr>\n",
       "      <th>...</th>\n",
       "      <td>...</td>\n",
       "      <td>...</td>\n",
       "      <td>...</td>\n",
       "      <td>...</td>\n",
       "      <td>...</td>\n",
       "      <td>...</td>\n",
       "      <td>...</td>\n",
       "      <td>...</td>\n",
       "    </tr>\n",
       "    <tr>\n",
       "      <th>3785</th>\n",
       "      <td>2020-07-11</td>\n",
       "      <td>Telangana</td>\n",
       "      <td>32224</td>\n",
       "      <td>339</td>\n",
       "      <td>19205</td>\n",
       "      <td>1278</td>\n",
       "      <td>8</td>\n",
       "      <td>1013</td>\n",
       "    </tr>\n",
       "    <tr>\n",
       "      <th>3786</th>\n",
       "      <td>2020-07-11</td>\n",
       "      <td>Tripura</td>\n",
       "      <td>1918</td>\n",
       "      <td>1</td>\n",
       "      <td>1372</td>\n",
       "      <td>142</td>\n",
       "      <td>0</td>\n",
       "      <td>34</td>\n",
       "    </tr>\n",
       "    <tr>\n",
       "      <th>3787</th>\n",
       "      <td>2020-07-11</td>\n",
       "      <td>Uttar Pradesh</td>\n",
       "      <td>33700</td>\n",
       "      <td>889</td>\n",
       "      <td>21787</td>\n",
       "      <td>1338</td>\n",
       "      <td>27</td>\n",
       "      <td>660</td>\n",
       "    </tr>\n",
       "    <tr>\n",
       "      <th>3788</th>\n",
       "      <td>2020-07-11</td>\n",
       "      <td>Uttarakhand</td>\n",
       "      <td>3373</td>\n",
       "      <td>46</td>\n",
       "      <td>2706</td>\n",
       "      <td>68</td>\n",
       "      <td>0</td>\n",
       "      <td>34</td>\n",
       "    </tr>\n",
       "    <tr>\n",
       "      <th>3789</th>\n",
       "      <td>2020-07-11</td>\n",
       "      <td>West Bengal</td>\n",
       "      <td>27109</td>\n",
       "      <td>880</td>\n",
       "      <td>17348</td>\n",
       "      <td>1198</td>\n",
       "      <td>26</td>\n",
       "      <td>522</td>\n",
       "    </tr>\n",
       "  </tbody>\n",
       "</table>\n",
       "<p>3790 rows × 8 columns</p>\n",
       "</div>"
      ],
      "text/plain": [
       "            Date Name of State / UT  Total Confirmed cases  Death  \\\n",
       "0     2020-01-30             Kerala                      1      0   \n",
       "1     2020-01-31             Kerala                      1      0   \n",
       "2     2020-02-01             Kerala                      2      0   \n",
       "3     2020-02-02             Kerala                      3      0   \n",
       "4     2020-02-03             Kerala                      3      0   \n",
       "...          ...                ...                    ...    ...   \n",
       "3785  2020-07-11          Telangana                  32224    339   \n",
       "3786  2020-07-11            Tripura                   1918      1   \n",
       "3787  2020-07-11      Uttar Pradesh                  33700    889   \n",
       "3788  2020-07-11        Uttarakhand                   3373     46   \n",
       "3789  2020-07-11        West Bengal                  27109    880   \n",
       "\n",
       "      Cured/Discharged/Migrated  New cases  New deaths  New recovered  \n",
       "0                             0          0           0              0  \n",
       "1                             0          0           0              0  \n",
       "2                             0          1           0              0  \n",
       "3                             0          1           0              0  \n",
       "4                             0          0           0              0  \n",
       "...                         ...        ...         ...            ...  \n",
       "3785                      19205       1278           8           1013  \n",
       "3786                       1372        142           0             34  \n",
       "3787                      21787       1338          27            660  \n",
       "3788                       2706         68           0             34  \n",
       "3789                      17348       1198          26            522  \n",
       "\n",
       "[3790 rows x 8 columns]"
      ]
     },
     "execution_count": 10,
     "metadata": {},
     "output_type": "execute_result"
    }
   ],
   "source": [
    "# Displaying dataframe onto the console.\n",
    "df"
   ]
  },
  {
   "cell_type": "code",
   "execution_count": 11,
   "metadata": {},
   "outputs": [],
   "source": [
    "# We need only West Bengal state. We are going to fiter the data.\n",
    "filt = df[\"Name of State / UT\"] == \"West Bengal\"\n",
    "df = df[filt]"
   ]
  },
  {
   "cell_type": "code",
   "execution_count": 12,
   "metadata": {},
   "outputs": [
    {
     "data": {
      "text/html": [
       "<div>\n",
       "<style scoped>\n",
       "    .dataframe tbody tr th:only-of-type {\n",
       "        vertical-align: middle;\n",
       "    }\n",
       "\n",
       "    .dataframe tbody tr th {\n",
       "        vertical-align: top;\n",
       "    }\n",
       "\n",
       "    .dataframe thead th {\n",
       "        text-align: right;\n",
       "    }\n",
       "</style>\n",
       "<table border=\"1\" class=\"dataframe\">\n",
       "  <thead>\n",
       "    <tr style=\"text-align: right;\">\n",
       "      <th></th>\n",
       "      <th>Date</th>\n",
       "      <th>Name of State / UT</th>\n",
       "      <th>Total Confirmed cases</th>\n",
       "      <th>Death</th>\n",
       "      <th>Cured/Discharged/Migrated</th>\n",
       "      <th>New cases</th>\n",
       "      <th>New deaths</th>\n",
       "      <th>New recovered</th>\n",
       "    </tr>\n",
       "  </thead>\n",
       "  <tbody>\n",
       "    <tr>\n",
       "      <th>207</th>\n",
       "      <td>2020-03-18</td>\n",
       "      <td>West Bengal</td>\n",
       "      <td>1</td>\n",
       "      <td>0</td>\n",
       "      <td>0</td>\n",
       "      <td>0</td>\n",
       "      <td>0</td>\n",
       "      <td>0</td>\n",
       "    </tr>\n",
       "    <tr>\n",
       "      <th>226</th>\n",
       "      <td>2020-03-19</td>\n",
       "      <td>West Bengal</td>\n",
       "      <td>1</td>\n",
       "      <td>0</td>\n",
       "      <td>0</td>\n",
       "      <td>0</td>\n",
       "      <td>0</td>\n",
       "      <td>0</td>\n",
       "    </tr>\n",
       "    <tr>\n",
       "      <th>246</th>\n",
       "      <td>2020-03-20</td>\n",
       "      <td>West Bengal</td>\n",
       "      <td>1</td>\n",
       "      <td>0</td>\n",
       "      <td>0</td>\n",
       "      <td>0</td>\n",
       "      <td>0</td>\n",
       "      <td>0</td>\n",
       "    </tr>\n",
       "    <tr>\n",
       "      <th>268</th>\n",
       "      <td>2020-03-21</td>\n",
       "      <td>West Bengal</td>\n",
       "      <td>3</td>\n",
       "      <td>0</td>\n",
       "      <td>0</td>\n",
       "      <td>2</td>\n",
       "      <td>0</td>\n",
       "      <td>0</td>\n",
       "    </tr>\n",
       "    <tr>\n",
       "      <th>291</th>\n",
       "      <td>2020-03-22</td>\n",
       "      <td>West Bengal</td>\n",
       "      <td>4</td>\n",
       "      <td>0</td>\n",
       "      <td>0</td>\n",
       "      <td>1</td>\n",
       "      <td>0</td>\n",
       "      <td>0</td>\n",
       "    </tr>\n",
       "    <tr>\n",
       "      <th>...</th>\n",
       "      <td>...</td>\n",
       "      <td>...</td>\n",
       "      <td>...</td>\n",
       "      <td>...</td>\n",
       "      <td>...</td>\n",
       "      <td>...</td>\n",
       "      <td>...</td>\n",
       "      <td>...</td>\n",
       "    </tr>\n",
       "    <tr>\n",
       "      <th>3649</th>\n",
       "      <td>2020-07-07</td>\n",
       "      <td>West Bengal</td>\n",
       "      <td>22987</td>\n",
       "      <td>779</td>\n",
       "      <td>15235</td>\n",
       "      <td>1756</td>\n",
       "      <td>43</td>\n",
       "      <td>1069</td>\n",
       "    </tr>\n",
       "    <tr>\n",
       "      <th>3684</th>\n",
       "      <td>2020-07-08</td>\n",
       "      <td>West Bengal</td>\n",
       "      <td>23837</td>\n",
       "      <td>804</td>\n",
       "      <td>15790</td>\n",
       "      <td>850</td>\n",
       "      <td>25</td>\n",
       "      <td>555</td>\n",
       "    </tr>\n",
       "    <tr>\n",
       "      <th>3719</th>\n",
       "      <td>2020-07-09</td>\n",
       "      <td>West Bengal</td>\n",
       "      <td>24823</td>\n",
       "      <td>827</td>\n",
       "      <td>16291</td>\n",
       "      <td>986</td>\n",
       "      <td>23</td>\n",
       "      <td>501</td>\n",
       "    </tr>\n",
       "    <tr>\n",
       "      <th>3754</th>\n",
       "      <td>2020-07-10</td>\n",
       "      <td>West Bengal</td>\n",
       "      <td>25911</td>\n",
       "      <td>854</td>\n",
       "      <td>16826</td>\n",
       "      <td>1088</td>\n",
       "      <td>27</td>\n",
       "      <td>535</td>\n",
       "    </tr>\n",
       "    <tr>\n",
       "      <th>3789</th>\n",
       "      <td>2020-07-11</td>\n",
       "      <td>West Bengal</td>\n",
       "      <td>27109</td>\n",
       "      <td>880</td>\n",
       "      <td>17348</td>\n",
       "      <td>1198</td>\n",
       "      <td>26</td>\n",
       "      <td>522</td>\n",
       "    </tr>\n",
       "  </tbody>\n",
       "</table>\n",
       "<p>110 rows × 8 columns</p>\n",
       "</div>"
      ],
      "text/plain": [
       "            Date Name of State / UT  Total Confirmed cases  Death  \\\n",
       "207   2020-03-18        West Bengal                      1      0   \n",
       "226   2020-03-19        West Bengal                      1      0   \n",
       "246   2020-03-20        West Bengal                      1      0   \n",
       "268   2020-03-21        West Bengal                      3      0   \n",
       "291   2020-03-22        West Bengal                      4      0   \n",
       "...          ...                ...                    ...    ...   \n",
       "3649  2020-07-07        West Bengal                  22987    779   \n",
       "3684  2020-07-08        West Bengal                  23837    804   \n",
       "3719  2020-07-09        West Bengal                  24823    827   \n",
       "3754  2020-07-10        West Bengal                  25911    854   \n",
       "3789  2020-07-11        West Bengal                  27109    880   \n",
       "\n",
       "      Cured/Discharged/Migrated  New cases  New deaths  New recovered  \n",
       "207                           0          0           0              0  \n",
       "226                           0          0           0              0  \n",
       "246                           0          0           0              0  \n",
       "268                           0          2           0              0  \n",
       "291                           0          1           0              0  \n",
       "...                         ...        ...         ...            ...  \n",
       "3649                      15235       1756          43           1069  \n",
       "3684                      15790        850          25            555  \n",
       "3719                      16291        986          23            501  \n",
       "3754                      16826       1088          27            535  \n",
       "3789                      17348       1198          26            522  \n",
       "\n",
       "[110 rows x 8 columns]"
      ]
     },
     "execution_count": 12,
     "metadata": {},
     "output_type": "execute_result"
    }
   ],
   "source": [
    "# Displaying dataframe onto the console.\n",
    "df"
   ]
  },
  {
   "cell_type": "code",
   "execution_count": 13,
   "metadata": {},
   "outputs": [],
   "source": [
    "# Renaming the columns for better understanding.\n",
    "df = df.rename(columns={\"Name of State / UT\": \"States\", \"Total Confirmed cases\": \"Confirmed\" , \"Cured/Discharged/Migrated\": \"Recovered\"})"
   ]
  },
  {
   "cell_type": "code",
   "execution_count": 14,
   "metadata": {},
   "outputs": [],
   "source": [
    "# Renaming the columns for better understanding.\n",
    "df = df.rename(columns={\"New cases\":\"NewConfirmed\" , \"New deaths\":\"NewDeath\" , \"New recovered\":\"NewRecovered\"})"
   ]
  },
  {
   "cell_type": "code",
   "execution_count": 15,
   "metadata": {},
   "outputs": [
    {
     "data": {
      "text/html": [
       "<div>\n",
       "<style scoped>\n",
       "    .dataframe tbody tr th:only-of-type {\n",
       "        vertical-align: middle;\n",
       "    }\n",
       "\n",
       "    .dataframe tbody tr th {\n",
       "        vertical-align: top;\n",
       "    }\n",
       "\n",
       "    .dataframe thead th {\n",
       "        text-align: right;\n",
       "    }\n",
       "</style>\n",
       "<table border=\"1\" class=\"dataframe\">\n",
       "  <thead>\n",
       "    <tr style=\"text-align: right;\">\n",
       "      <th></th>\n",
       "      <th>Date</th>\n",
       "      <th>States</th>\n",
       "      <th>Confirmed</th>\n",
       "      <th>Death</th>\n",
       "      <th>Recovered</th>\n",
       "      <th>NewConfirmed</th>\n",
       "      <th>NewDeath</th>\n",
       "      <th>NewRecovered</th>\n",
       "    </tr>\n",
       "  </thead>\n",
       "  <tbody>\n",
       "    <tr>\n",
       "      <th>207</th>\n",
       "      <td>2020-03-18</td>\n",
       "      <td>West Bengal</td>\n",
       "      <td>1</td>\n",
       "      <td>0</td>\n",
       "      <td>0</td>\n",
       "      <td>0</td>\n",
       "      <td>0</td>\n",
       "      <td>0</td>\n",
       "    </tr>\n",
       "    <tr>\n",
       "      <th>226</th>\n",
       "      <td>2020-03-19</td>\n",
       "      <td>West Bengal</td>\n",
       "      <td>1</td>\n",
       "      <td>0</td>\n",
       "      <td>0</td>\n",
       "      <td>0</td>\n",
       "      <td>0</td>\n",
       "      <td>0</td>\n",
       "    </tr>\n",
       "    <tr>\n",
       "      <th>246</th>\n",
       "      <td>2020-03-20</td>\n",
       "      <td>West Bengal</td>\n",
       "      <td>1</td>\n",
       "      <td>0</td>\n",
       "      <td>0</td>\n",
       "      <td>0</td>\n",
       "      <td>0</td>\n",
       "      <td>0</td>\n",
       "    </tr>\n",
       "    <tr>\n",
       "      <th>268</th>\n",
       "      <td>2020-03-21</td>\n",
       "      <td>West Bengal</td>\n",
       "      <td>3</td>\n",
       "      <td>0</td>\n",
       "      <td>0</td>\n",
       "      <td>2</td>\n",
       "      <td>0</td>\n",
       "      <td>0</td>\n",
       "    </tr>\n",
       "    <tr>\n",
       "      <th>291</th>\n",
       "      <td>2020-03-22</td>\n",
       "      <td>West Bengal</td>\n",
       "      <td>4</td>\n",
       "      <td>0</td>\n",
       "      <td>0</td>\n",
       "      <td>1</td>\n",
       "      <td>0</td>\n",
       "      <td>0</td>\n",
       "    </tr>\n",
       "    <tr>\n",
       "      <th>...</th>\n",
       "      <td>...</td>\n",
       "      <td>...</td>\n",
       "      <td>...</td>\n",
       "      <td>...</td>\n",
       "      <td>...</td>\n",
       "      <td>...</td>\n",
       "      <td>...</td>\n",
       "      <td>...</td>\n",
       "    </tr>\n",
       "    <tr>\n",
       "      <th>3649</th>\n",
       "      <td>2020-07-07</td>\n",
       "      <td>West Bengal</td>\n",
       "      <td>22987</td>\n",
       "      <td>779</td>\n",
       "      <td>15235</td>\n",
       "      <td>1756</td>\n",
       "      <td>43</td>\n",
       "      <td>1069</td>\n",
       "    </tr>\n",
       "    <tr>\n",
       "      <th>3684</th>\n",
       "      <td>2020-07-08</td>\n",
       "      <td>West Bengal</td>\n",
       "      <td>23837</td>\n",
       "      <td>804</td>\n",
       "      <td>15790</td>\n",
       "      <td>850</td>\n",
       "      <td>25</td>\n",
       "      <td>555</td>\n",
       "    </tr>\n",
       "    <tr>\n",
       "      <th>3719</th>\n",
       "      <td>2020-07-09</td>\n",
       "      <td>West Bengal</td>\n",
       "      <td>24823</td>\n",
       "      <td>827</td>\n",
       "      <td>16291</td>\n",
       "      <td>986</td>\n",
       "      <td>23</td>\n",
       "      <td>501</td>\n",
       "    </tr>\n",
       "    <tr>\n",
       "      <th>3754</th>\n",
       "      <td>2020-07-10</td>\n",
       "      <td>West Bengal</td>\n",
       "      <td>25911</td>\n",
       "      <td>854</td>\n",
       "      <td>16826</td>\n",
       "      <td>1088</td>\n",
       "      <td>27</td>\n",
       "      <td>535</td>\n",
       "    </tr>\n",
       "    <tr>\n",
       "      <th>3789</th>\n",
       "      <td>2020-07-11</td>\n",
       "      <td>West Bengal</td>\n",
       "      <td>27109</td>\n",
       "      <td>880</td>\n",
       "      <td>17348</td>\n",
       "      <td>1198</td>\n",
       "      <td>26</td>\n",
       "      <td>522</td>\n",
       "    </tr>\n",
       "  </tbody>\n",
       "</table>\n",
       "<p>110 rows × 8 columns</p>\n",
       "</div>"
      ],
      "text/plain": [
       "            Date       States  Confirmed  Death  Recovered  NewConfirmed  \\\n",
       "207   2020-03-18  West Bengal          1      0          0             0   \n",
       "226   2020-03-19  West Bengal          1      0          0             0   \n",
       "246   2020-03-20  West Bengal          1      0          0             0   \n",
       "268   2020-03-21  West Bengal          3      0          0             2   \n",
       "291   2020-03-22  West Bengal          4      0          0             1   \n",
       "...          ...          ...        ...    ...        ...           ...   \n",
       "3649  2020-07-07  West Bengal      22987    779      15235          1756   \n",
       "3684  2020-07-08  West Bengal      23837    804      15790           850   \n",
       "3719  2020-07-09  West Bengal      24823    827      16291           986   \n",
       "3754  2020-07-10  West Bengal      25911    854      16826          1088   \n",
       "3789  2020-07-11  West Bengal      27109    880      17348          1198   \n",
       "\n",
       "      NewDeath  NewRecovered  \n",
       "207          0             0  \n",
       "226          0             0  \n",
       "246          0             0  \n",
       "268          0             0  \n",
       "291          0             0  \n",
       "...        ...           ...  \n",
       "3649        43          1069  \n",
       "3684        25           555  \n",
       "3719        23           501  \n",
       "3754        27           535  \n",
       "3789        26           522  \n",
       "\n",
       "[110 rows x 8 columns]"
      ]
     },
     "execution_count": 15,
     "metadata": {},
     "output_type": "execute_result"
    }
   ],
   "source": [
    "# Displaying dataframe onto the console.\n",
    "df"
   ]
  },
  {
   "cell_type": "markdown",
   "metadata": {},
   "source": [
    "# 𝘞𝘦'𝘭𝘭 𝘯𝘰𝘵 𝘳𝘦𝘮𝘰𝘷𝘦 𝘵𝘩𝘦 𝘪𝘯𝘥𝘦𝘹 𝘢𝘴 𝘪𝘵 𝘱𝘳𝘰𝘷𝘦𝘴 𝘵𝘩𝘢𝘵 𝘸𝘦 𝘩𝘢𝘷𝘦 𝘶𝘴𝘦𝘥 𝘳𝘪𝘨𝘩𝘵 𝘤𝘭𝘦𝘢𝘯𝘪𝘯𝘨 𝘮𝘦𝘵𝘩𝘰𝘥𝘴."
   ]
  },
  {
   "cell_type": "markdown",
   "metadata": {},
   "source": [
    "𝘍𝘪𝘯𝘢𝘭𝘭𝘺, 𝘞𝘦 𝘩𝘢𝘷𝘦 𝘴𝘶𝘤𝘤𝘦𝘴𝘴𝘧𝘶𝘭𝘭𝘺 𝘤𝘰𝘮𝘱𝘭𝘦𝘵𝘦𝘥 𝘤𝘭𝘦𝘢𝘯𝘪𝘯𝘨 𝘵𝘩𝘦 𝘥𝘢𝘵𝘢."
   ]
  },
  {
   "cell_type": "markdown",
   "metadata": {},
   "source": [
    "# 𝘋𝘢𝘵𝘢 𝘝𝘪𝘴𝘶𝘢𝘭𝘪𝘻𝘢𝘵𝘪𝘰𝘯 "
   ]
  },
  {
   "cell_type": "markdown",
   "metadata": {},
   "source": [
    "𝘛𝘩𝘦𝘳𝘦 𝘢𝘳𝘦 𝘮𝘢𝘯𝘺 𝘰𝘵𝘩𝘦𝘳 𝘱𝘢𝘤𝘬𝘢𝘨𝘦𝘴 𝘢𝘷𝘢𝘪𝘭𝘢𝘣𝘭𝘦 𝘧𝘰𝘳 𝘥𝘢𝘵𝘢 𝘷𝘪𝘴𝘶𝘢𝘭𝘪𝘻𝘢𝘵𝘪𝘰𝘯 𝘭𝘪𝘬𝘦 𝘔𝘢𝘵𝘱𝘭𝘰𝘵𝘭𝘪𝘣 , 𝘚𝘦𝘢𝘣𝘰𝘳𝘯 , 𝘉𝘰𝘬𝘦𝘩 𝘢𝘯𝘥 𝘮𝘢𝘯𝘺 𝘮𝘰𝘳𝘦. 𝘞𝘦 𝘢𝘳𝘦 𝘨𝘰𝘪𝘯𝘨 𝘵𝘰 𝘶𝘴𝘦 𝘢𝘭𝘭 𝘵𝘩𝘦𝘴𝘦 𝘢𝘴 𝘰𝘶𝘳 𝘥𝘢𝘵𝘢 𝘷𝘪𝘴𝘶𝘢𝘭𝘪𝘻𝘢𝘵𝘪𝘰𝘯 𝘱𝘢𝘤𝘬𝘢𝘨𝘦 𝘢𝘴 𝘪𝘵 𝘪𝘴 𝘸𝘪𝘥𝘦𝘭𝘺 𝘶𝘴𝘦𝘥 𝘢𝘤𝘳𝘰𝘴𝘴 𝘵𝘩𝘦 𝘨𝘭𝘰𝘣𝘦 𝘢𝘯𝘥 𝘪𝘵 𝘪𝘴 𝘦𝘢𝘴𝘺 𝘵𝘰 𝘶𝘯𝘥𝘦𝘳𝘴𝘵𝘢𝘯𝘥.\n"
   ]
  },
  {
   "cell_type": "markdown",
   "metadata": {},
   "source": [
    "# 𝘓𝘪𝘯𝘦 𝘗𝘭𝘰𝘵 𝘊𝘩𝘢𝘳𝘵𝘴.\n"
   ]
  },
  {
   "cell_type": "code",
   "execution_count": 16,
   "metadata": {},
   "outputs": [
    {
     "data": {
      "text/plain": [
       "<matplotlib.axes._subplots.AxesSubplot at 0x2ab5c3b9308>"
      ]
     },
     "execution_count": 16,
     "metadata": {},
     "output_type": "execute_result"
    },
    {
     "data": {
      "image/png": "[encoded data removed]",
      "text/plain": [
       "<Figure size 432x288 with 1 Axes>"
      ]
     },
     "metadata": {
      "needs_background": "light"
     },
     "output_type": "display_data"
    }
   ],
   "source": [
    "df.plot(x = \"Date\" , y = [\"Confirmed\" , \"Death\" , \"Recovered\"] , kind = \"line\")"
   ]
  },
  {
   "cell_type": "code",
   "execution_count": 17,
   "metadata": {},
   "outputs": [
    {
     "data": {
      "text/plain": [
       "<matplotlib.axes._subplots.AxesSubplot at 0x2ab5c4bad48>"
      ]
     },
     "execution_count": 17,
     "metadata": {},
     "output_type": "execute_result"
    },
    {
     "data": {
      "image/png": "[encoded data removed]",
      "text/plain": [
       "<Figure size 432x288 with 1 Axes>"
      ]
     },
     "metadata": {
      "needs_background": "light"
     },
     "output_type": "display_data"
    }
   ],
   "source": [
    "df.plot(x = \"Date\" , y = [\"NewConfirmed\" , \"NewDeath\" , \"NewRecovered\"] , kind = \"line\")"
   ]
  },
  {
   "cell_type": "code",
   "execution_count": 18,
   "metadata": {},
   "outputs": [
    {
     "data": {
      "text/plain": [
       "<matplotlib.axes._subplots.AxesSubplot at 0x2ab5c545648>"
      ]
     },
     "execution_count": 18,
     "metadata": {},
     "output_type": "execute_result"
    },
    {
     "data": {
      "image/png": "[encoded data removed]",
      "text/plain": [
       "<Figure size 432x288 with 1 Axes>"
      ]
     },
     "metadata": {
      "needs_background": "light"
     },
     "output_type": "display_data"
    }
   ],
   "source": [
    "df.plot(x = \"Date\" , y = \"Confirmed\", kind = \"line\")"
   ]
  },
  {
   "cell_type": "code",
   "execution_count": 19,
   "metadata": {},
   "outputs": [
    {
     "data": {
      "text/plain": [
       "<matplotlib.axes._subplots.AxesSubplot at 0x2ab5c59f688>"
      ]
     },
     "execution_count": 19,
     "metadata": {},
     "output_type": "execute_result"
    },
    {
     "data": {
      "image/png": "[encoded data removed]",
      "text/plain": [
       "<Figure size 432x288 with 1 Axes>"
      ]
     },
     "metadata": {
      "needs_background": "light"
     },
     "output_type": "display_data"
    }
   ],
   "source": [
    "df.plot(x = \"Date\" , y = \"Death\", kind = \"line\")"
   ]
  },
  {
   "cell_type": "code",
   "execution_count": 20,
   "metadata": {},
   "outputs": [
    {
     "data": {
      "text/plain": [
       "<matplotlib.axes._subplots.AxesSubplot at 0x2ab5c5fffc8>"
      ]
     },
     "execution_count": 20,
     "metadata": {},
     "output_type": "execute_result"
    },
    {
     "data": {
      "image/png": "[encoded data removed]",
      "text/plain": [
       "<Figure size 432x288 with 1 Axes>"
      ]
     },
     "metadata": {
      "needs_background": "light"
     },
     "output_type": "display_data"
    }
   ],
   "source": [
    "df.plot(x = \"Date\" , y = \"Recovered\", kind = \"line\")"
   ]
  },
  {
   "cell_type": "code",
   "execution_count": 21,
   "metadata": {},
   "outputs": [
    {
     "data": {
      "text/plain": [
       "<matplotlib.axes._subplots.AxesSubplot at 0x2ab5c68c548>"
      ]
     },
     "execution_count": 21,
     "metadata": {},
     "output_type": "execute_result"
    },
    {
     "data": {
      "image/png": "[encoded data removed]",
      "text/plain": [
       "<Figure size 432x288 with 1 Axes>"
      ]
     },
     "metadata": {
      "needs_background": "light"
     },
     "output_type": "display_data"
    }
   ],
   "source": [
    "df.plot(x = \"Date\" , y = \"NewRecovered\", kind = \"line\")"
   ]
  },
  {
   "cell_type": "code",
   "execution_count": 22,
   "metadata": {},
   "outputs": [
    {
     "data": {
      "text/plain": [
       "<matplotlib.axes._subplots.AxesSubplot at 0x2ab5c6e6d88>"
      ]
     },
     "execution_count": 22,
     "metadata": {},
     "output_type": "execute_result"
    },
    {
     "data": {
      "image/png": "[encoded data removed]",
      "text/plain": [
       "<Figure size 432x288 with 1 Axes>"
      ]
     },
     "metadata": {
      "needs_background": "light"
     },
     "output_type": "display_data"
    }
   ],
   "source": [
    "df.plot(x = \"Date\" , y = \"NewDeath\", kind = \"line\")"
   ]
  },
  {
   "cell_type": "code",
   "execution_count": 23,
   "metadata": {},
   "outputs": [
    {
     "data": {
      "text/plain": [
       "<matplotlib.axes._subplots.AxesSubplot at 0x2ab5c764108>"
      ]
     },
     "execution_count": 23,
     "metadata": {},
     "output_type": "execute_result"
    },
    {
     "data": {
      "image/png": "[encoded data removed]",
      "text/plain": [
       "<Figure size 432x288 with 1 Axes>"
      ]
     },
     "metadata": {
      "needs_background": "light"
     },
     "output_type": "display_data"
    }
   ],
   "source": [
    "df.plot(x = \"Date\" , y = \"NewConfirmed\", kind = \"line\")"
   ]
  },
  {
   "cell_type": "code",
   "execution_count": 24,
   "metadata": {},
   "outputs": [
    {
     "data": {
      "text/plain": [
       "<matplotlib.axes._subplots.AxesSubplot at 0x2ab5c7c85c8>"
      ]
     },
     "execution_count": 24,
     "metadata": {},
     "output_type": "execute_result"
    },
    {
     "data": {
      "image/png": "[encoded data removed]",
      "text/plain": [
       "<Figure size 432x288 with 1 Axes>"
      ]
     },
     "metadata": {
      "needs_background": "light"
     },
     "output_type": "display_data"
    }
   ],
   "source": [
    "df.plot(x = \"Date\" , y = [\"Confirmed\" , \"NewConfirmed\"] , kind = \"line\")"
   ]
  },
  {
   "cell_type": "code",
   "execution_count": 25,
   "metadata": {},
   "outputs": [
    {
     "data": {
      "text/plain": [
       "<matplotlib.axes._subplots.AxesSubplot at 0x2ab5c845108>"
      ]
     },
     "execution_count": 25,
     "metadata": {},
     "output_type": "execute_result"
    },
    {
     "data": {
      "image/png": "[encoded data removed]",
      "text/plain": [
       "<Figure size 432x288 with 1 Axes>"
      ]
     },
     "metadata": {
      "needs_background": "light"
     },
     "output_type": "display_data"
    }
   ],
   "source": [
    "df.plot(x = \"Date\" , y = [\"Death\" , \"NewDeath\"] , kind = \"line\")"
   ]
  },
  {
   "cell_type": "code",
   "execution_count": 26,
   "metadata": {},
   "outputs": [
    {
     "data": {
      "text/plain": [
       "<matplotlib.axes._subplots.AxesSubplot at 0x2ab5c8b3548>"
      ]
     },
     "execution_count": 26,
     "metadata": {},
     "output_type": "execute_result"
    },
    {
     "data": {
      "image/png": "[encoded data removed]",
      "text/plain": [
       "<Figure size 432x288 with 1 Axes>"
      ]
     },
     "metadata": {
      "needs_background": "light"
     },
     "output_type": "display_data"
    }
   ],
   "source": [
    "df.plot(x = \"Date\" , y = [\"Recovered\" , \"NewRecovered\"] , kind = \"line\")"
   ]
  },
  {
   "cell_type": "markdown",
   "metadata": {},
   "source": [
    "# 𝘏𝘪𝘴𝘵𝘰𝘨𝘳𝘢𝘮 𝘗𝘭𝘰𝘵 𝘊𝘩𝘢𝘳𝘵. "
   ]
  },
  {
   "cell_type": "code",
   "execution_count": 27,
   "metadata": {},
   "outputs": [
    {
     "data": {
      "image/png": "[encoded data removed]",
      "text/plain": [
       "<Figure size 432x288 with 1 Axes>"
      ]
     },
     "metadata": {
      "needs_background": "light"
     },
     "output_type": "display_data"
    }
   ],
   "source": [
    "ax = df.plot.hist(bins=12, alpha=0.5)"
   ]
  },
  {
   "cell_type": "markdown",
   "metadata": {},
   "source": [
    "# 𝘈𝘳𝘦𝘢 𝘗𝘭𝘰𝘵 𝘊𝘩𝘢𝘳𝘵."
   ]
  },
  {
   "cell_type": "code",
   "execution_count": 28,
   "metadata": {},
   "outputs": [
    {
     "data": {
      "image/png": "[encoded data removed]",
      "text/plain": [
       "<Figure size 432x288 with 1 Axes>"
      ]
     },
     "metadata": {
      "needs_background": "light"
     },
     "output_type": "display_data"
    }
   ],
   "source": [
    "index=pd.date_range(start='2020-03-18', end='2020-07-10',\n",
    "                       freq='M')\n",
    "ax = df.plot.area()"
   ]
  },
  {
   "cell_type": "markdown",
   "metadata": {},
   "source": [
    "# 𝘒𝘦𝘳𝘯𝘦𝘭 𝘋𝘦𝘯𝘴𝘪𝘵𝘺 𝘌𝘴𝘵𝘪𝘮𝘢𝘵𝘪𝘰𝘯 (𝘒𝘋𝘌) 𝘗𝘭𝘰𝘵 𝘊𝘩𝘢𝘳𝘵𝘴.\n"
   ]
  },
  {
   "cell_type": "code",
   "execution_count": 29,
   "metadata": {},
   "outputs": [
    {
     "data": {
      "text/plain": [
       "<matplotlib.axes._subplots.AxesSubplot at 0x2ab5cb196c8>"
      ]
     },
     "execution_count": 29,
     "metadata": {},
     "output_type": "execute_result"
    },
    {
     "data": {
      "image/png": "[encoded data removed]",
      "text/plain": [
       "<Figure size 432x288 with 1 Axes>"
      ]
     },
     "metadata": {
      "needs_background": "light"
     },
     "output_type": "display_data"
    }
   ],
   "source": [
    "sns.kdeplot(df.Confirmed)"
   ]
  },
  {
   "cell_type": "code",
   "execution_count": 30,
   "metadata": {},
   "outputs": [
    {
     "data": {
      "text/plain": [
       "<matplotlib.axes._subplots.AxesSubplot at 0x2ab5cb77448>"
      ]
     },
     "execution_count": 30,
     "metadata": {},
     "output_type": "execute_result"
    },
    {
     "data": {
      "image/png": "[encoded data removed]",
      "text/plain": [
       "<Figure size 432x288 with 1 Axes>"
      ]
     },
     "metadata": {
      "needs_background": "light"
     },
     "output_type": "display_data"
    }
   ],
   "source": [
    "sns.kdeplot(df.Death)"
   ]
  },
  {
   "cell_type": "code",
   "execution_count": 31,
   "metadata": {},
   "outputs": [
    {
     "data": {
      "text/plain": [
       "<matplotlib.axes._subplots.AxesSubplot at 0x2ab5ca31288>"
      ]
     },
     "execution_count": 31,
     "metadata": {},
     "output_type": "execute_result"
    },
    {
     "data": {
      "image/png": "[encoded data removed]",
      "text/plain": [
       "<Figure size 432x288 with 1 Axes>"
      ]
     },
     "metadata": {
      "needs_background": "light"
     },
     "output_type": "display_data"
    }
   ],
   "source": [
    "sns.kdeplot(df.Recovered)"
   ]
  },
  {
   "cell_type": "code",
   "execution_count": 32,
   "metadata": {},
   "outputs": [
    {
     "data": {
      "text/plain": [
       "<matplotlib.axes._subplots.AxesSubplot at 0x2ab5c99d588>"
      ]
     },
     "execution_count": 32,
     "metadata": {},
     "output_type": "execute_result"
    },
    {
     "data": {
      "image/png": "[encoded data removed]",
      "text/plain": [
       "<Figure size 432x288 with 1 Axes>"
      ]
     },
     "metadata": {
      "needs_background": "light"
     },
     "output_type": "display_data"
    }
   ],
   "source": [
    "sns.kdeplot(df.NewConfirmed)"
   ]
  },
  {
   "cell_type": "code",
   "execution_count": 33,
   "metadata": {},
   "outputs": [
    {
     "data": {
      "text/plain": [
       "<matplotlib.axes._subplots.AxesSubplot at 0x2ab5c9db908>"
      ]
     },
     "execution_count": 33,
     "metadata": {},
     "output_type": "execute_result"
    },
    {
     "data": {
      "image/png": "[encoded data removed]",
      "text/plain": [
       "<Figure size 432x288 with 1 Axes>"
      ]
     },
     "metadata": {
      "needs_background": "light"
     },
     "output_type": "display_data"
    }
   ],
   "source": [
    "sns.kdeplot(df.NewDeath)"
   ]
  },
  {
   "cell_type": "code",
   "execution_count": 34,
   "metadata": {},
   "outputs": [
    {
     "data": {
      "text/plain": [
       "<matplotlib.axes._subplots.AxesSubplot at 0x2ab5dc09988>"
      ]
     },
     "execution_count": 34,
     "metadata": {},
     "output_type": "execute_result"
    },
    {
     "data": {
      "image/png": "[encoded data removed]",
      "text/plain": [
       "<Figure size 432x288 with 1 Axes>"
      ]
     },
     "metadata": {
      "needs_background": "light"
     },
     "output_type": "display_data"
    }
   ],
   "source": [
    "sns.kdeplot(df.NewRecovered)"
   ]
  },
  {
   "cell_type": "code",
   "execution_count": 35,
   "metadata": {},
   "outputs": [
    {
     "data": {
      "image/png": "[encoded data removed]",
      "text/plain": [
       "<Figure size 432x288 with 6 Axes>"
      ]
     },
     "metadata": {
      "needs_background": "light"
     },
     "output_type": "display_data"
    }
   ],
   "source": [
    "df.hist()\n",
    "plt.show()"
   ]
  },
  {
   "cell_type": "code",
   "execution_count": 36,
   "metadata": {},
   "outputs": [
    {
     "data": {
      "image/png": "[encoded data removed]",
      "text/plain": [
       "<Figure size 432x288 with 36 Axes>"
      ]
     },
     "metadata": {
      "needs_background": "light"
     },
     "output_type": "display_data"
    }
   ],
   "source": [
    "scatter_matrix(df)\n",
    "plt.show()            "
   ]
  },
  {
   "cell_type": "code",
   "execution_count": 37,
   "metadata": {},
   "outputs": [
    {
     "data": {
      "image/png": "[encoded data removed]",
      "text/plain": [
       "<Figure size 432x288 with 6 Axes>"
      ]
     },
     "metadata": {
      "needs_background": "light"
     },
     "output_type": "display_data"
    }
   ],
   "source": [
    "df.plot(kind = 'box' , subplots = True , layout = (1,6) , sharex = True , sharey = True)\n",
    "plt.show()"
   ]
  },
  {
   "cell_type": "code",
   "execution_count": null,
   "metadata": {},
   "outputs": [],
   "source": [
    "series = pd.Series(3 * np.random.rand(3) , index=[\"Confirmed\" , \"Death\" , \"Recovered\"], name='series')\n",
    "series.plot.pie(figsize=(6, 6))"
   ]
  },
  {
   "cell_type": "code",
   "execution_count": null,
   "metadata": {},
   "outputs": [],
   "source": [
    "series = pd.Series(3 * np.random.rand(3) , index=[\"NewConfirmed\" , \"NewDeath\" , \"NewRecovered\"], name='series')\n",
    "series.plot.pie(figsize=(6, 6))"
   ]
  },
  {
   "cell_type": "code",
   "execution_count": null,
   "metadata": {},
   "outputs": [],
   "source": [
    "df = pd.DataFrame(np.random.randn(1000, 3), columns=[\"NewConfirmed\" , \"NewDeath\" , \"NewRecovered\"])\n",
    "scatter_matrix(df, alpha=0.2, figsize=(6, 6), diagonal='kde')"
   ]
  },
  {
   "cell_type": "code",
   "execution_count": null,
   "metadata": {},
   "outputs": [],
   "source": [
    "df = pd.DataFrame(np.random.randn(1000, 3), columns=[\"Confirmed\" , \"Death\" , \"Recovered\"])\n",
    "scatter_matrix(df, alpha=0.2, figsize=(6, 6), diagonal='kde')"
   ]
  },
  {
   "cell_type": "markdown",
   "metadata": {},
   "source": [
    "# 𝘉𝘰𝘹 𝘗𝘭𝘰𝘵 𝘊𝘩𝘢𝘳𝘵𝘴."
   ]
  },
  {
   "cell_type": "code",
   "execution_count": 38,
   "metadata": {},
   "outputs": [
    {
     "data": {
      "text/plain": [
       "<matplotlib.axes._subplots.AxesSubplot at 0x2ab5eff1c08>"
      ]
     },
     "execution_count": 38,
     "metadata": {},
     "output_type": "execute_result"
    },
    {
     "data": {
      "image/png": "[encoded data removed]",
      "text/plain": [
       "<Figure size 432x288 with 1 Axes>"
      ]
     },
     "metadata": {
      "needs_background": "light"
     },
     "output_type": "display_data"
    }
   ],
   "source": [
    "sns.boxplot([df.Death, df.Recovered])"
   ]
  },
  {
   "cell_type": "code",
   "execution_count": 39,
   "metadata": {},
   "outputs": [
    {
     "data": {
      "text/plain": [
       "<matplotlib.axes._subplots.AxesSubplot at 0x2ab5f046408>"
      ]
     },
     "execution_count": 39,
     "metadata": {},
     "output_type": "execute_result"
    },
    {
     "data": {
      "image/png": "[encoded data removed]",
      "text/plain": [
       "<Figure size 432x288 with 1 Axes>"
      ]
     },
     "metadata": {
      "needs_background": "light"
     },
     "output_type": "display_data"
    }
   ],
   "source": [
    "sns.boxplot([df.Death, df.Confirmed])"
   ]
  },
  {
   "cell_type": "code",
   "execution_count": 40,
   "metadata": {},
   "outputs": [
    {
     "data": {
      "text/plain": [
       "<matplotlib.axes._subplots.AxesSubplot at 0x2ab5ef96888>"
      ]
     },
     "execution_count": 40,
     "metadata": {},
     "output_type": "execute_result"
    },
    {
     "data": {
      "image/png": "[encoded data removed]",
      "text/plain": [
       "<Figure size 432x288 with 1 Axes>"
      ]
     },
     "metadata": {
      "needs_background": "light"
     },
     "output_type": "display_data"
    }
   ],
   "source": [
    "sns.boxplot([df.Recovered, df.Confirmed])"
   ]
  },
  {
   "cell_type": "code",
   "execution_count": 41,
   "metadata": {},
   "outputs": [
    {
     "data": {
      "text/plain": [
       "<matplotlib.axes._subplots.AxesSubplot at 0x2ab5ca312c8>"
      ]
     },
     "execution_count": 41,
     "metadata": {},
     "output_type": "execute_result"
    },
    {
     "data": {
      "image/png": "[encoded data removed]",
      "text/plain": [
       "<Figure size 432x288 with 1 Axes>"
      ]
     },
     "metadata": {
      "needs_background": "light"
     },
     "output_type": "display_data"
    }
   ],
   "source": [
    "sns.boxplot([df.NewDeath, df.NewRecovered])"
   ]
  },
  {
   "cell_type": "code",
   "execution_count": 42,
   "metadata": {},
   "outputs": [
    {
     "data": {
      "text/plain": [
       "<matplotlib.axes._subplots.AxesSubplot at 0x2ab5e4b9d08>"
      ]
     },
     "execution_count": 42,
     "metadata": {},
     "output_type": "execute_result"
    },
    {
     "data": {
      "image/png": "[encoded data removed]",
      "text/plain": [
       "<Figure size 432x288 with 1 Axes>"
      ]
     },
     "metadata": {
      "needs_background": "light"
     },
     "output_type": "display_data"
    }
   ],
   "source": [
    "sns.boxplot([df.NewDeath, df.NewConfirmed])"
   ]
  },
  {
   "cell_type": "code",
   "execution_count": 43,
   "metadata": {},
   "outputs": [
    {
     "data": {
      "text/plain": [
       "<matplotlib.axes._subplots.AxesSubplot at 0x2ab5e5670c8>"
      ]
     },
     "execution_count": 43,
     "metadata": {},
     "output_type": "execute_result"
    },
    {
     "data": {
      "image/png": "[encoded data removed]",
      "text/plain": [
       "<Figure size 432x288 with 1 Axes>"
      ]
     },
     "metadata": {
      "needs_background": "light"
     },
     "output_type": "display_data"
    }
   ],
   "source": [
    "sns.boxplot([df.NewRecovered, df.NewConfirmed])"
   ]
  },
  {
   "cell_type": "markdown",
   "metadata": {},
   "source": [
    "# 𝘝𝘪𝘰𝘭𝘪𝘯 𝘗𝘭𝘰𝘵 𝘊𝘩𝘢𝘳𝘵𝘴."
   ]
  },
  {
   "cell_type": "code",
   "execution_count": 44,
   "metadata": {},
   "outputs": [
    {
     "data": {
      "text/plain": [
       "<matplotlib.axes._subplots.AxesSubplot at 0x2ab5ef0eb88>"
      ]
     },
     "execution_count": 44,
     "metadata": {},
     "output_type": "execute_result"
    },
    {
     "data": {
      "image/png": "[encoded data removed]",
      "text/plain": [
       "<Figure size 432x288 with 1 Axes>"
      ]
     },
     "metadata": {
      "needs_background": "light"
     },
     "output_type": "display_data"
    }
   ],
   "source": [
    "sns.violinplot([df.Death, df.Recovered])\n"
   ]
  },
  {
   "cell_type": "code",
   "execution_count": 45,
   "metadata": {},
   "outputs": [
    {
     "data": {
      "text/plain": [
       "<matplotlib.axes._subplots.AxesSubplot at 0x2ab5ef5e5c8>"
      ]
     },
     "execution_count": 45,
     "metadata": {},
     "output_type": "execute_result"
    },
    {
     "data": {
      "image/png": "[encoded data removed]",
      "text/plain": [
       "<Figure size 432x288 with 1 Axes>"
      ]
     },
     "metadata": {
      "needs_background": "light"
     },
     "output_type": "display_data"
    }
   ],
   "source": [
    "sns.violinplot([df.Death, df.Confirmed])"
   ]
  },
  {
   "cell_type": "code",
   "execution_count": 46,
   "metadata": {},
   "outputs": [
    {
     "data": {
      "text/plain": [
       "<matplotlib.axes._subplots.AxesSubplot at 0x2ab5e558888>"
      ]
     },
     "execution_count": 46,
     "metadata": {},
     "output_type": "execute_result"
    },
    {
     "data": {
      "image/png": "[encoded data removed]",
      "text/plain": [
       "<Figure size 432x288 with 1 Axes>"
      ]
     },
     "metadata": {
      "needs_background": "light"
     },
     "output_type": "display_data"
    }
   ],
   "source": [
    "sns.violinplot([df.Recovered, df.Confirmed])"
   ]
  },
  {
   "cell_type": "code",
   "execution_count": 47,
   "metadata": {},
   "outputs": [
    {
     "data": {
      "text/plain": [
       "<matplotlib.axes._subplots.AxesSubplot at 0x2ab5e6898c8>"
      ]
     },
     "execution_count": 47,
     "metadata": {},
     "output_type": "execute_result"
    },
    {
     "data": {
      "image/png": "[encoded data removed]",
      "text/plain": [
       "<Figure size 432x288 with 1 Axes>"
      ]
     },
     "metadata": {
      "needs_background": "light"
     },
     "output_type": "display_data"
    }
   ],
   "source": [
    "sns.violinplot([df.Death, df.Recovered])"
   ]
  },
  {
   "cell_type": "code",
   "execution_count": 48,
   "metadata": {},
   "outputs": [
    {
     "data": {
      "text/plain": [
       "<matplotlib.axes._subplots.AxesSubplot at 0x2ab5f071988>"
      ]
     },
     "execution_count": 48,
     "metadata": {},
     "output_type": "execute_result"
    },
    {
     "data": {
      "image/png": "[encoded data removed]",
      "text/plain": [
       "<Figure size 432x288 with 1 Axes>"
      ]
     },
     "metadata": {
      "needs_background": "light"
     },
     "output_type": "display_data"
    }
   ],
   "source": [
    "sns.violinplot([df.Death, df.Confirmed])"
   ]
  },
  {
   "cell_type": "code",
   "execution_count": 49,
   "metadata": {},
   "outputs": [
    {
     "data": {
      "text/plain": [
       "<matplotlib.axes._subplots.AxesSubplot at 0x2ab5edf0888>"
      ]
     },
     "execution_count": 49,
     "metadata": {},
     "output_type": "execute_result"
    },
    {
     "data": {
      "image/png": "[encoded data removed]",
      "text/plain": [
       "<Figure size 432x288 with 1 Axes>"
      ]
     },
     "metadata": {
      "needs_background": "light"
     },
     "output_type": "display_data"
    }
   ],
   "source": [
    "sns.violinplot([df.NewRecovered, df.NewConfirmed])"
   ]
  },
  {
   "cell_type": "markdown",
   "metadata": {},
   "source": [
    "# 𝘏𝘦𝘢𝘱𝘔𝘢𝘱 𝘗𝘭𝘰𝘵 𝘊𝘩𝘢𝘳𝘵𝘴.\n"
   ]
  },
  {
   "cell_type": "code",
   "execution_count": 50,
   "metadata": {},
   "outputs": [
    {
     "data": {
      "text/plain": [
       "<matplotlib.axes._subplots.AxesSubplot at 0x2ab5de5d048>"
      ]
     },
     "execution_count": 50,
     "metadata": {},
     "output_type": "execute_result"
    },
    {
     "data": {
      "image/png": "[encoded data removed]",
      "text/plain": [
       "<Figure size 432x288 with 2 Axes>"
      ]
     },
     "metadata": {
      "needs_background": "light"
     },
     "output_type": "display_data"
    }
   ],
   "source": [
    "sns.heatmap([df.Death, df.Recovered], annot=True, fmt=\"d\")"
   ]
  },
  {
   "cell_type": "code",
   "execution_count": 51,
   "metadata": {},
   "outputs": [
    {
     "data": {
      "text/plain": [
       "<matplotlib.axes._subplots.AxesSubplot at 0x2ab5e67f1c8>"
      ]
     },
     "execution_count": 51,
     "metadata": {},
     "output_type": "execute_result"
    },
    {
     "data": {
      "image/png": "[encoded data removed]",
      "text/plain": [
       "<Figure size 432x288 with 2 Axes>"
      ]
     },
     "metadata": {
      "needs_background": "light"
     },
     "output_type": "display_data"
    }
   ],
   "source": [
    "sns.heatmap([df.Death, df.Confirmed], annot=True, fmt=\"d\")\n"
   ]
  },
  {
   "cell_type": "code",
   "execution_count": 52,
   "metadata": {},
   "outputs": [
    {
     "data": {
      "text/plain": [
       "<matplotlib.axes._subplots.AxesSubplot at 0x2ab5cb19508>"
      ]
     },
     "execution_count": 52,
     "metadata": {},
     "output_type": "execute_result"
    },
    {
     "data": {
      "image/png": "[encoded data removed]",
      "text/plain": [
       "<Figure size 432x288 with 2 Axes>"
      ]
     },
     "metadata": {
      "needs_background": "light"
     },
     "output_type": "display_data"
    }
   ],
   "source": [
    "sns.heatmap([df.Recovered, df.Confirmed], annot=True, fmt=\"d\")\n"
   ]
  },
  {
   "cell_type": "code",
   "execution_count": 53,
   "metadata": {},
   "outputs": [
    {
     "data": {
      "text/plain": [
       "<matplotlib.axes._subplots.AxesSubplot at 0x2ab5e281048>"
      ]
     },
     "execution_count": 53,
     "metadata": {},
     "output_type": "execute_result"
    },
    {
     "data": {
      "image/png": "[encoded data removed]",
      "text/plain": [
       "<Figure size 432x288 with 2 Axes>"
      ]
     },
     "metadata": {
      "needs_background": "light"
     },
     "output_type": "display_data"
    }
   ],
   "source": [
    "sns.heatmap([df.NewDeath, df.NewConfirmed], annot=True, fmt=\"d\")"
   ]
  },
  {
   "cell_type": "code",
   "execution_count": 54,
   "metadata": {},
   "outputs": [
    {
     "data": {
      "text/plain": [
       "<matplotlib.axes._subplots.AxesSubplot at 0x2ab5f1b5bc8>"
      ]
     },
     "execution_count": 54,
     "metadata": {},
     "output_type": "execute_result"
    },
    {
     "data": {
      "image/png": "[encoded data removed]",
      "text/plain": [
       "<Figure size 432x288 with 2 Axes>"
      ]
     },
     "metadata": {
      "needs_background": "light"
     },
     "output_type": "display_data"
    }
   ],
   "source": [
    "sns.heatmap([df.NewDeath, df.NewRecovered], annot=True, fmt=\"d\")\n"
   ]
  },
  {
   "cell_type": "code",
   "execution_count": 55,
   "metadata": {},
   "outputs": [
    {
     "data": {
      "text/plain": [
       "<matplotlib.axes._subplots.AxesSubplot at 0x2ab603ee108>"
      ]
     },
     "execution_count": 55,
     "metadata": {},
     "output_type": "execute_result"
    },
    {
     "data": {
      "image/png": "[encoded data removed]",
      "text/plain": [
       "<Figure size 432x288 with 2 Axes>"
      ]
     },
     "metadata": {
      "needs_background": "light"
     },
     "output_type": "display_data"
    }
   ],
   "source": [
    "sns.heatmap([df.NewRecovered, df.NewConfirmed], annot=True, fmt=\"d\")\n"
   ]
  },
  {
   "cell_type": "markdown",
   "metadata": {},
   "source": [
    "# 𝘜𝘴𝘪𝘯𝘨 𝘉𝘰𝘬𝘦𝘩 ----->\n",
    " "
   ]
  },
  {
   "cell_type": "markdown",
   "metadata": {},
   "source": [
    "𝘕𝘰𝘵𝘦 : 𝘛𝘩𝘦 𝘣𝘦𝘭𝘰𝘸 𝘰𝘶𝘵𝘱𝘶𝘵 𝘸𝘪𝘭𝘭 𝘥𝘪𝘴𝘱𝘭𝘢𝘺 𝘰𝘯𝘵𝘰 𝘵𝘩𝘦 𝘣𝘳𝘰𝘸𝘴𝘦𝘳."
   ]
  },
  {
   "cell_type": "code",
   "execution_count": 56,
   "metadata": {},
   "outputs": [],
   "source": [
    "p = figure()\n",
    "x = df['Death']\n",
    "y = df[\"Recovered\"]\n",
    "p.line(x,y,line_width = 2)\n",
    "p.circle(x,y ,size = 20)\n",
    "show(p)"
   ]
  },
  {
   "cell_type": "code",
   "execution_count": 57,
   "metadata": {},
   "outputs": [],
   "source": [
    "p = figure()\n",
    "x = df['Death']\n",
    "y = df[\"Confirmed\"]\n",
    "p.line(x,y,line_width = 2)\n",
    "p.circle(x,y ,size = 20)\n",
    "show(p)"
   ]
  },
  {
   "cell_type": "code",
   "execution_count": 58,
   "metadata": {},
   "outputs": [],
   "source": [
    "p = figure()\n",
    "x = df['Recovered']\n",
    "y = df[\"Confirmed\"]\n",
    "p.line(x,y,line_width = 2)\n",
    "p.circle(x,y ,size = 20)\n",
    "show(p)"
   ]
  },
  {
   "cell_type": "code",
   "execution_count": 59,
   "metadata": {},
   "outputs": [],
   "source": [
    "p = figure()\n",
    "x = df['NewDeath']\n",
    "y = df[\"NewRecovered\"]\n",
    "p.line(x,y,line_width = 2)\n",
    "p.circle(x,y ,size = 20)\n",
    "show(p)"
   ]
  },
  {
   "cell_type": "code",
   "execution_count": 60,
   "metadata": {},
   "outputs": [],
   "source": [
    "p = figure()\n",
    "x = df['NewDeath']\n",
    "y = df[\"NewConfirmed\"]\n",
    "p.line(x,y,line_width = 2)\n",
    "p.circle(x,y ,size = 20)\n",
    "show(p)"
   ]
  },
  {
   "cell_type": "code",
   "execution_count": 61,
   "metadata": {},
   "outputs": [],
   "source": [
    "p = figure()\n",
    "x = df['NewRecovered']\n",
    "y = df[\"NewConfirmed\"]\n",
    "p.line(x,y,line_width = 2)\n",
    "p.circle(x,y ,size = 20)\n",
    "show(p)"
   ]
  },
  {
   "cell_type": "markdown",
   "metadata": {},
   "source": [
    "# ============================================================="
   ]
  },
  {
   "cell_type": "markdown",
   "metadata": {},
   "source": [
    "# Correlation Heatmaps"
   ]
  },
  {
   "cell_type": "markdown",
   "metadata": {},
   "source": [
    "𝘊𝘰𝘳𝘳𝘦𝘭𝘢𝘵𝘪𝘰𝘯 𝘔𝘢𝘵𝘳𝘪𝘹 𝘪𝘴 𝘣𝘢𝘴𝘪𝘤𝘢𝘭𝘭𝘺 𝘢 𝘤𝘰𝘷𝘢𝘳𝘪𝘢𝘯𝘤𝘦 𝘮𝘢𝘵𝘳𝘪𝘹. 𝘈 𝘴𝘶𝘮𝘮𝘢𝘳𝘺 𝘮𝘦𝘢𝘴𝘶𝘳𝘦 𝘤𝘢𝘭𝘭𝘦𝘥 𝘵𝘩𝘦 𝘤𝘰𝘳𝘳𝘦𝘭𝘢𝘵𝘪𝘰𝘯 𝘥𝘦𝘴𝘤𝘳𝘪𝘣𝘦𝘴 𝘵𝘩𝘦 𝘴𝘵𝘳𝘦𝘯𝘨𝘵𝘩 𝘰𝘧 𝘵𝘩𝘦 𝘭𝘪𝘯𝘦𝘢𝘳 𝘢𝘴𝘴𝘰𝘤𝘪𝘢𝘵𝘪𝘰𝘯. 𝘊𝘰𝘳𝘳𝘦𝘭𝘢𝘵𝘪𝘰𝘯 𝘴𝘶𝘮𝘮𝘢𝘳𝘪𝘻𝘦𝘴 𝘵𝘩𝘦 𝘴𝘵𝘳𝘦𝘯𝘨𝘵𝘩 𝘢𝘯𝘥 𝘥𝘪𝘳𝘦𝘤𝘵𝘪𝘰𝘯 𝘰𝘧 𝘵𝘩𝘦 𝘭𝘪𝘯𝘦𝘢𝘳 (𝘴𝘵𝘳𝘢𝘪𝘨𝘩𝘵-𝘭𝘪𝘯𝘦) 𝘢𝘴𝘴𝘰𝘤𝘪𝘢𝘵𝘪𝘰𝘯 𝘣𝘦𝘵𝘸𝘦𝘦𝘯 𝘵𝘸𝘰 𝘲𝘶𝘢𝘯𝘵𝘪𝘵𝘢𝘵𝘪𝘷𝘦 𝘷𝘢𝘳𝘪𝘢𝘣𝘭𝘦𝘴. 𝘋𝘦𝘯𝘰𝘵𝘦𝘥 𝘣𝘺 𝘳, 𝘪𝘵 𝘵𝘢𝘬𝘦𝘴 𝘷𝘢𝘭𝘶𝘦𝘴 𝘣𝘦𝘵𝘸𝘦𝘦𝘯 -1 𝘢𝘯𝘥 +1.\n",
    "\n",
    "𝘌𝘢𝘤𝘩 𝘰𝘧 𝘵𝘩𝘦𝘴𝘦 𝘱𝘭𝘰𝘵𝘴 𝘴𝘩𝘰𝘸𝘴 𝘰𝘯𝘦 𝘰𝘧 𝘵𝘩𝘳𝘦𝘦 𝘥𝘪𝘧𝘧𝘦𝘳𝘦𝘯𝘵 𝘧𝘰𝘳𝘮𝘴 𝘰𝘧 𝘤𝘰𝘳𝘳𝘦𝘭𝘢𝘵𝘪𝘰𝘯:\n",
    "\n",
    "𝘕𝘦𝘨𝘢𝘵𝘪𝘷𝘦 𝘤𝘰𝘳𝘳𝘦𝘭𝘢𝘵𝘪𝘰𝘯 (𝘳𝘦𝘥 𝘥𝘰𝘵𝘴): 𝘐𝘯 𝘵𝘩𝘦 𝘱𝘭𝘰𝘵 𝘰𝘯 𝘵𝘩𝘦 𝘭𝘦𝘧𝘵, 𝘵𝘩𝘦 𝘺 𝘷𝘢𝘭𝘶𝘦𝘴 𝘵𝘦𝘯𝘥 𝘵𝘰 𝘥𝘦𝘤𝘳𝘦𝘢𝘴𝘦 𝘢𝘴 𝘵𝘩𝘦 𝘹 𝘷𝘢𝘭𝘶𝘦𝘴 𝘪𝘯𝘤𝘳𝘦𝘢𝘴𝘦. 𝘛𝘩𝘪𝘴 𝘴𝘩𝘰𝘸𝘴 𝘴𝘵𝘳𝘰𝘯𝘨 𝘯𝘦𝘨𝘢𝘵𝘪𝘷𝘦 𝘤𝘰𝘳𝘳𝘦𝘭𝘢𝘵𝘪𝘰𝘯, 𝘸𝘩𝘪𝘤𝘩 𝘰𝘤𝘤𝘶𝘳𝘴 𝘸𝘩𝘦𝘯 𝘭𝘢𝘳𝘨𝘦 𝘷𝘢𝘭𝘶𝘦𝘴 𝘰𝘧 𝘰𝘯𝘦 𝘧𝘦𝘢𝘵𝘶𝘳𝘦 𝘤𝘰𝘳𝘳𝘦𝘴𝘱𝘰𝘯𝘥 𝘵𝘰 𝘴𝘮𝘢𝘭𝘭 𝘷𝘢𝘭𝘶𝘦𝘴 𝘰𝘧 𝘵𝘩𝘦 𝘰𝘵𝘩𝘦𝘳, 𝘢𝘯𝘥 𝘷𝘪𝘤𝘦 𝘷𝘦𝘳𝘴𝘢.\n",
    "\n",
    "𝘞𝘦𝘢𝘬 𝘰𝘳 𝘯𝘰 𝘤𝘰𝘳𝘳𝘦𝘭𝘢𝘵𝘪𝘰𝘯 (𝘨𝘳𝘦𝘦𝘯 𝘥𝘰𝘵𝘴): 𝘛𝘩𝘦 𝘱𝘭𝘰𝘵 𝘪𝘯 𝘵𝘩𝘦 𝘮𝘪𝘥𝘥𝘭𝘦 𝘴𝘩𝘰𝘸𝘴 𝘯𝘰 𝘰𝘣𝘷𝘪𝘰𝘶𝘴 𝘵𝘳𝘦𝘯𝘥. 𝘛𝘩𝘪𝘴 𝘪𝘴 𝘢 𝘧𝘰𝘳𝘮 𝘰𝘧 𝘸𝘦𝘢𝘬 𝘤𝘰𝘳𝘳𝘦𝘭𝘢𝘵𝘪𝘰𝘯, 𝘸𝘩𝘪𝘤𝘩 𝘰𝘤𝘤𝘶𝘳𝘴 𝘸𝘩𝘦𝘯 𝘢𝘯 𝘢𝘴𝘴𝘰𝘤𝘪𝘢𝘵𝘪𝘰𝘯 𝘣𝘦𝘵𝘸𝘦𝘦𝘯 𝘵𝘸𝘰 𝘧𝘦𝘢𝘵𝘶𝘳𝘦𝘴 𝘪𝘴 𝘯𝘰𝘵 𝘰𝘣𝘷𝘪𝘰𝘶𝘴 𝘰𝘳 𝘪𝘴 𝘩𝘢𝘳𝘥𝘭𝘺 𝘰𝘣𝘴𝘦𝘳𝘷𝘢𝘣𝘭𝘦.\n",
    "\n",
    "𝘗𝘰𝘴𝘪𝘵𝘪𝘷𝘦 𝘤𝘰𝘳𝘳𝘦𝘭𝘢𝘵𝘪𝘰𝘯 (𝘣𝘭𝘶𝘦 𝘥𝘰𝘵𝘴): 𝘐𝘯 𝘵𝘩𝘦 𝘱𝘭𝘰𝘵 𝘰𝘯 𝘵𝘩𝘦 𝘳𝘪𝘨𝘩𝘵, 𝘵𝘩𝘦 𝘺 𝘷𝘢𝘭𝘶𝘦𝘴 𝘵𝘦𝘯𝘥 𝘵𝘰 𝘪𝘯𝘤𝘳𝘦𝘢𝘴𝘦 𝘢𝘴 𝘵𝘩𝘦 𝘹 𝘷𝘢𝘭𝘶𝘦𝘴 𝘪𝘯𝘤𝘳𝘦𝘢𝘴𝘦. 𝘛𝘩𝘪𝘴 𝘪𝘭𝘭𝘶𝘴𝘵𝘳𝘢𝘵𝘦𝘴 𝘴𝘵𝘳𝘰𝘯𝘨 𝘱𝘰𝘴𝘪𝘵𝘪𝘷𝘦 𝘤𝘰𝘳𝘳𝘦𝘭𝘢𝘵𝘪𝘰𝘯, 𝘸𝘩𝘪𝘤𝘩 𝘰𝘤𝘤𝘶𝘳𝘴 𝘸𝘩𝘦𝘯 𝘭𝘢𝘳𝘨𝘦 𝘷𝘢𝘭𝘶𝘦𝘴 𝘰𝘧 𝘰𝘯𝘦 𝘧𝘦𝘢𝘵𝘶𝘳𝘦 𝘤𝘰𝘳𝘳𝘦𝘴𝘱𝘰𝘯𝘥 𝘵𝘰 𝘭𝘢𝘳𝘨𝘦 𝘷𝘢𝘭𝘶𝘦𝘴 𝘰𝘧 𝘵𝘩𝘦 𝘰𝘵𝘩𝘦𝘳, 𝘢𝘯𝘥 𝘷𝘪𝘤𝘦 𝘷𝘦𝘳𝘴𝘢."
   ]
  },
  {
   "cell_type": "code",
   "execution_count": 62,
   "metadata": {},
   "outputs": [],
   "source": [
    "# Loading the dataset.\n",
    "data = pd.read_csv('covid_19_india.csv')"
   ]
  },
  {
   "cell_type": "code",
   "execution_count": 63,
   "metadata": {},
   "outputs": [
    {
     "data": {
      "text/html": [
       "<div>\n",
       "<style scoped>\n",
       "    .dataframe tbody tr th:only-of-type {\n",
       "        vertical-align: middle;\n",
       "    }\n",
       "\n",
       "    .dataframe tbody tr th {\n",
       "        vertical-align: top;\n",
       "    }\n",
       "\n",
       "    .dataframe thead th {\n",
       "        text-align: right;\n",
       "    }\n",
       "</style>\n",
       "<table border=\"1\" class=\"dataframe\">\n",
       "  <thead>\n",
       "    <tr style=\"text-align: right;\">\n",
       "      <th></th>\n",
       "      <th>Sno</th>\n",
       "      <th>Date</th>\n",
       "      <th>Time</th>\n",
       "      <th>State/UnionTerritory</th>\n",
       "      <th>ConfirmedIndianNational</th>\n",
       "      <th>ConfirmedForeignNational</th>\n",
       "      <th>Cured</th>\n",
       "      <th>Deaths</th>\n",
       "      <th>Confirmed</th>\n",
       "    </tr>\n",
       "  </thead>\n",
       "  <tbody>\n",
       "    <tr>\n",
       "      <th>0</th>\n",
       "      <td>1</td>\n",
       "      <td>30/01/20</td>\n",
       "      <td>6:00 PM</td>\n",
       "      <td>Kerala</td>\n",
       "      <td>1</td>\n",
       "      <td>0</td>\n",
       "      <td>0</td>\n",
       "      <td>0</td>\n",
       "      <td>1</td>\n",
       "    </tr>\n",
       "    <tr>\n",
       "      <th>1</th>\n",
       "      <td>2</td>\n",
       "      <td>31/01/20</td>\n",
       "      <td>6:00 PM</td>\n",
       "      <td>Kerala</td>\n",
       "      <td>1</td>\n",
       "      <td>0</td>\n",
       "      <td>0</td>\n",
       "      <td>0</td>\n",
       "      <td>1</td>\n",
       "    </tr>\n",
       "    <tr>\n",
       "      <th>2</th>\n",
       "      <td>3</td>\n",
       "      <td>01/02/20</td>\n",
       "      <td>6:00 PM</td>\n",
       "      <td>Kerala</td>\n",
       "      <td>2</td>\n",
       "      <td>0</td>\n",
       "      <td>0</td>\n",
       "      <td>0</td>\n",
       "      <td>2</td>\n",
       "    </tr>\n",
       "    <tr>\n",
       "      <th>3</th>\n",
       "      <td>4</td>\n",
       "      <td>02/02/20</td>\n",
       "      <td>6:00 PM</td>\n",
       "      <td>Kerala</td>\n",
       "      <td>3</td>\n",
       "      <td>0</td>\n",
       "      <td>0</td>\n",
       "      <td>0</td>\n",
       "      <td>3</td>\n",
       "    </tr>\n",
       "    <tr>\n",
       "      <th>4</th>\n",
       "      <td>5</td>\n",
       "      <td>03/02/20</td>\n",
       "      <td>6:00 PM</td>\n",
       "      <td>Kerala</td>\n",
       "      <td>3</td>\n",
       "      <td>0</td>\n",
       "      <td>0</td>\n",
       "      <td>0</td>\n",
       "      <td>3</td>\n",
       "    </tr>\n",
       "    <tr>\n",
       "      <th>...</th>\n",
       "      <td>...</td>\n",
       "      <td>...</td>\n",
       "      <td>...</td>\n",
       "      <td>...</td>\n",
       "      <td>...</td>\n",
       "      <td>...</td>\n",
       "      <td>...</td>\n",
       "      <td>...</td>\n",
       "      <td>...</td>\n",
       "    </tr>\n",
       "    <tr>\n",
       "      <th>3958</th>\n",
       "      <td>3959</td>\n",
       "      <td>10/07/20</td>\n",
       "      <td>8:00 AM</td>\n",
       "      <td>Tripura</td>\n",
       "      <td>-</td>\n",
       "      <td>-</td>\n",
       "      <td>1338</td>\n",
       "      <td>1</td>\n",
       "      <td>1776</td>\n",
       "    </tr>\n",
       "    <tr>\n",
       "      <th>3959</th>\n",
       "      <td>3960</td>\n",
       "      <td>10/07/20</td>\n",
       "      <td>8:00 AM</td>\n",
       "      <td>Uttarakhand</td>\n",
       "      <td>-</td>\n",
       "      <td>-</td>\n",
       "      <td>2672</td>\n",
       "      <td>46</td>\n",
       "      <td>3305</td>\n",
       "    </tr>\n",
       "    <tr>\n",
       "      <th>3960</th>\n",
       "      <td>3961</td>\n",
       "      <td>10/07/20</td>\n",
       "      <td>8:00 AM</td>\n",
       "      <td>Uttar Pradesh</td>\n",
       "      <td>-</td>\n",
       "      <td>-</td>\n",
       "      <td>21127</td>\n",
       "      <td>862</td>\n",
       "      <td>32362</td>\n",
       "    </tr>\n",
       "    <tr>\n",
       "      <th>3961</th>\n",
       "      <td>3962</td>\n",
       "      <td>10/07/20</td>\n",
       "      <td>8:00 AM</td>\n",
       "      <td>West Bengal</td>\n",
       "      <td>-</td>\n",
       "      <td>-</td>\n",
       "      <td>16826</td>\n",
       "      <td>854</td>\n",
       "      <td>25911</td>\n",
       "    </tr>\n",
       "    <tr>\n",
       "      <th>3962</th>\n",
       "      <td>3963</td>\n",
       "      <td>10/07/20</td>\n",
       "      <td>8:00 AM</td>\n",
       "      <td>Cases being reassigned to states</td>\n",
       "      <td>-</td>\n",
       "      <td>-</td>\n",
       "      <td>0</td>\n",
       "      <td>0</td>\n",
       "      <td>4161</td>\n",
       "    </tr>\n",
       "  </tbody>\n",
       "</table>\n",
       "<p>3963 rows × 9 columns</p>\n",
       "</div>"
      ],
      "text/plain": [
       "       Sno      Date     Time              State/UnionTerritory  \\\n",
       "0        1  30/01/20  6:00 PM                            Kerala   \n",
       "1        2  31/01/20  6:00 PM                            Kerala   \n",
       "2        3  01/02/20  6:00 PM                            Kerala   \n",
       "3        4  02/02/20  6:00 PM                            Kerala   \n",
       "4        5  03/02/20  6:00 PM                            Kerala   \n",
       "...    ...       ...      ...                               ...   \n",
       "3958  3959  10/07/20  8:00 AM                           Tripura   \n",
       "3959  3960  10/07/20  8:00 AM                       Uttarakhand   \n",
       "3960  3961  10/07/20  8:00 AM                     Uttar Pradesh   \n",
       "3961  3962  10/07/20  8:00 AM                       West Bengal   \n",
       "3962  3963  10/07/20  8:00 AM  Cases being reassigned to states   \n",
       "\n",
       "     ConfirmedIndianNational ConfirmedForeignNational  Cured  Deaths  \\\n",
       "0                          1                        0      0       0   \n",
       "1                          1                        0      0       0   \n",
       "2                          2                        0      0       0   \n",
       "3                          3                        0      0       0   \n",
       "4                          3                        0      0       0   \n",
       "...                      ...                      ...    ...     ...   \n",
       "3958                       -                        -   1338       1   \n",
       "3959                       -                        -   2672      46   \n",
       "3960                       -                        -  21127     862   \n",
       "3961                       -                        -  16826     854   \n",
       "3962                       -                        -      0       0   \n",
       "\n",
       "      Confirmed  \n",
       "0             1  \n",
       "1             1  \n",
       "2             2  \n",
       "3             3  \n",
       "4             3  \n",
       "...         ...  \n",
       "3958       1776  \n",
       "3959       3305  \n",
       "3960      32362  \n",
       "3961      25911  \n",
       "3962       4161  \n",
       "\n",
       "[3963 rows x 9 columns]"
      ]
     },
     "execution_count": 63,
     "metadata": {},
     "output_type": "execute_result"
    }
   ],
   "source": [
    "# Displaying the dataframe onto the console.\n",
    "data"
   ]
  },
  {
   "cell_type": "code",
   "execution_count": 64,
   "metadata": {},
   "outputs": [
    {
     "name": "stdout",
     "output_type": "stream",
     "text": [
      "<class 'pandas.core.frame.DataFrame'>\n",
      "RangeIndex: 3963 entries, 0 to 3962\n",
      "Data columns (total 9 columns):\n",
      " #   Column                    Non-Null Count  Dtype \n",
      "---  ------                    --------------  ----- \n",
      " 0   Sno                       3963 non-null   int64 \n",
      " 1   Date                      3963 non-null   object\n",
      " 2   Time                      3963 non-null   object\n",
      " 3   State/UnionTerritory      3963 non-null   object\n",
      " 4   ConfirmedIndianNational   3963 non-null   object\n",
      " 5   ConfirmedForeignNational  3963 non-null   object\n",
      " 6   Cured                     3963 non-null   int64 \n",
      " 7   Deaths                    3963 non-null   int64 \n",
      " 8   Confirmed                 3963 non-null   int64 \n",
      "dtypes: int64(4), object(5)\n",
      "memory usage: 278.8+ KB\n"
     ]
    }
   ],
   "source": [
    "# Let's see some information regarding the dataset like rows,columns and datatypes with info() function.\n",
    "data.info()"
   ]
  },
  {
   "cell_type": "code",
   "execution_count": 65,
   "metadata": {},
   "outputs": [
    {
     "data": {
      "text/html": [
       "<div>\n",
       "<style scoped>\n",
       "    .dataframe tbody tr th:only-of-type {\n",
       "        vertical-align: middle;\n",
       "    }\n",
       "\n",
       "    .dataframe tbody tr th {\n",
       "        vertical-align: top;\n",
       "    }\n",
       "\n",
       "    .dataframe thead th {\n",
       "        text-align: right;\n",
       "    }\n",
       "</style>\n",
       "<table border=\"1\" class=\"dataframe\">\n",
       "  <thead>\n",
       "    <tr style=\"text-align: right;\">\n",
       "      <th></th>\n",
       "      <th>Sno</th>\n",
       "      <th>Date</th>\n",
       "      <th>Time</th>\n",
       "      <th>State/UnionTerritory</th>\n",
       "      <th>ConfirmedIndianNational</th>\n",
       "      <th>ConfirmedForeignNational</th>\n",
       "      <th>Cured</th>\n",
       "      <th>Deaths</th>\n",
       "      <th>Confirmed</th>\n",
       "    </tr>\n",
       "  </thead>\n",
       "  <tbody>\n",
       "    <tr>\n",
       "      <th>0</th>\n",
       "      <td>1</td>\n",
       "      <td>30/01/20</td>\n",
       "      <td>6:00 PM</td>\n",
       "      <td>Kerala</td>\n",
       "      <td>1</td>\n",
       "      <td>0</td>\n",
       "      <td>0</td>\n",
       "      <td>0</td>\n",
       "      <td>1</td>\n",
       "    </tr>\n",
       "    <tr>\n",
       "      <th>1</th>\n",
       "      <td>2</td>\n",
       "      <td>31/01/20</td>\n",
       "      <td>6:00 PM</td>\n",
       "      <td>Kerala</td>\n",
       "      <td>1</td>\n",
       "      <td>0</td>\n",
       "      <td>0</td>\n",
       "      <td>0</td>\n",
       "      <td>1</td>\n",
       "    </tr>\n",
       "    <tr>\n",
       "      <th>2</th>\n",
       "      <td>3</td>\n",
       "      <td>01/02/20</td>\n",
       "      <td>6:00 PM</td>\n",
       "      <td>Kerala</td>\n",
       "      <td>2</td>\n",
       "      <td>0</td>\n",
       "      <td>0</td>\n",
       "      <td>0</td>\n",
       "      <td>2</td>\n",
       "    </tr>\n",
       "    <tr>\n",
       "      <th>3</th>\n",
       "      <td>4</td>\n",
       "      <td>02/02/20</td>\n",
       "      <td>6:00 PM</td>\n",
       "      <td>Kerala</td>\n",
       "      <td>3</td>\n",
       "      <td>0</td>\n",
       "      <td>0</td>\n",
       "      <td>0</td>\n",
       "      <td>3</td>\n",
       "    </tr>\n",
       "    <tr>\n",
       "      <th>4</th>\n",
       "      <td>5</td>\n",
       "      <td>03/02/20</td>\n",
       "      <td>6:00 PM</td>\n",
       "      <td>Kerala</td>\n",
       "      <td>3</td>\n",
       "      <td>0</td>\n",
       "      <td>0</td>\n",
       "      <td>0</td>\n",
       "      <td>3</td>\n",
       "    </tr>\n",
       "  </tbody>\n",
       "</table>\n",
       "</div>"
      ],
      "text/plain": [
       "   Sno      Date     Time State/UnionTerritory ConfirmedIndianNational  \\\n",
       "0    1  30/01/20  6:00 PM               Kerala                       1   \n",
       "1    2  31/01/20  6:00 PM               Kerala                       1   \n",
       "2    3  01/02/20  6:00 PM               Kerala                       2   \n",
       "3    4  02/02/20  6:00 PM               Kerala                       3   \n",
       "4    5  03/02/20  6:00 PM               Kerala                       3   \n",
       "\n",
       "  ConfirmedForeignNational  Cured  Deaths  Confirmed  \n",
       "0                        0      0       0          1  \n",
       "1                        0      0       0          1  \n",
       "2                        0      0       0          2  \n",
       "3                        0      0       0          3  \n",
       "4                        0      0       0          3  "
      ]
     },
     "execution_count": 65,
     "metadata": {},
     "output_type": "execute_result"
    }
   ],
   "source": [
    "# Let's look onto the data. The head() function displays first 5 rows of our data.\n",
    "data.head()"
   ]
  },
  {
   "cell_type": "code",
   "execution_count": 66,
   "metadata": {},
   "outputs": [
    {
     "data": {
      "text/html": [
       "<div>\n",
       "<style scoped>\n",
       "    .dataframe tbody tr th:only-of-type {\n",
       "        vertical-align: middle;\n",
       "    }\n",
       "\n",
       "    .dataframe tbody tr th {\n",
       "        vertical-align: top;\n",
       "    }\n",
       "\n",
       "    .dataframe thead th {\n",
       "        text-align: right;\n",
       "    }\n",
       "</style>\n",
       "<table border=\"1\" class=\"dataframe\">\n",
       "  <thead>\n",
       "    <tr style=\"text-align: right;\">\n",
       "      <th></th>\n",
       "      <th>Sno</th>\n",
       "      <th>Date</th>\n",
       "      <th>Time</th>\n",
       "      <th>State/UnionTerritory</th>\n",
       "      <th>ConfirmedIndianNational</th>\n",
       "      <th>ConfirmedForeignNational</th>\n",
       "      <th>Cured</th>\n",
       "      <th>Deaths</th>\n",
       "      <th>Confirmed</th>\n",
       "    </tr>\n",
       "  </thead>\n",
       "  <tbody>\n",
       "    <tr>\n",
       "      <th>3958</th>\n",
       "      <td>3959</td>\n",
       "      <td>10/07/20</td>\n",
       "      <td>8:00 AM</td>\n",
       "      <td>Tripura</td>\n",
       "      <td>-</td>\n",
       "      <td>-</td>\n",
       "      <td>1338</td>\n",
       "      <td>1</td>\n",
       "      <td>1776</td>\n",
       "    </tr>\n",
       "    <tr>\n",
       "      <th>3959</th>\n",
       "      <td>3960</td>\n",
       "      <td>10/07/20</td>\n",
       "      <td>8:00 AM</td>\n",
       "      <td>Uttarakhand</td>\n",
       "      <td>-</td>\n",
       "      <td>-</td>\n",
       "      <td>2672</td>\n",
       "      <td>46</td>\n",
       "      <td>3305</td>\n",
       "    </tr>\n",
       "    <tr>\n",
       "      <th>3960</th>\n",
       "      <td>3961</td>\n",
       "      <td>10/07/20</td>\n",
       "      <td>8:00 AM</td>\n",
       "      <td>Uttar Pradesh</td>\n",
       "      <td>-</td>\n",
       "      <td>-</td>\n",
       "      <td>21127</td>\n",
       "      <td>862</td>\n",
       "      <td>32362</td>\n",
       "    </tr>\n",
       "    <tr>\n",
       "      <th>3961</th>\n",
       "      <td>3962</td>\n",
       "      <td>10/07/20</td>\n",
       "      <td>8:00 AM</td>\n",
       "      <td>West Bengal</td>\n",
       "      <td>-</td>\n",
       "      <td>-</td>\n",
       "      <td>16826</td>\n",
       "      <td>854</td>\n",
       "      <td>25911</td>\n",
       "    </tr>\n",
       "    <tr>\n",
       "      <th>3962</th>\n",
       "      <td>3963</td>\n",
       "      <td>10/07/20</td>\n",
       "      <td>8:00 AM</td>\n",
       "      <td>Cases being reassigned to states</td>\n",
       "      <td>-</td>\n",
       "      <td>-</td>\n",
       "      <td>0</td>\n",
       "      <td>0</td>\n",
       "      <td>4161</td>\n",
       "    </tr>\n",
       "  </tbody>\n",
       "</table>\n",
       "</div>"
      ],
      "text/plain": [
       "       Sno      Date     Time              State/UnionTerritory  \\\n",
       "3958  3959  10/07/20  8:00 AM                           Tripura   \n",
       "3959  3960  10/07/20  8:00 AM                       Uttarakhand   \n",
       "3960  3961  10/07/20  8:00 AM                     Uttar Pradesh   \n",
       "3961  3962  10/07/20  8:00 AM                       West Bengal   \n",
       "3962  3963  10/07/20  8:00 AM  Cases being reassigned to states   \n",
       "\n",
       "     ConfirmedIndianNational ConfirmedForeignNational  Cured  Deaths  \\\n",
       "3958                       -                        -   1338       1   \n",
       "3959                       -                        -   2672      46   \n",
       "3960                       -                        -  21127     862   \n",
       "3961                       -                        -  16826     854   \n",
       "3962                       -                        -      0       0   \n",
       "\n",
       "      Confirmed  \n",
       "3958       1776  \n",
       "3959       3305  \n",
       "3960      32362  \n",
       "3961      25911  \n",
       "3962       4161  "
      ]
     },
     "execution_count": 66,
     "metadata": {},
     "output_type": "execute_result"
    }
   ],
   "source": [
    "# Similarly , The tail() function displays last 5 rows of our data.\n",
    "data.tail()"
   ]
  },
  {
   "cell_type": "code",
   "execution_count": 67,
   "metadata": {},
   "outputs": [
    {
     "data": {
      "text/html": [
       "<div>\n",
       "<style scoped>\n",
       "    .dataframe tbody tr th:only-of-type {\n",
       "        vertical-align: middle;\n",
       "    }\n",
       "\n",
       "    .dataframe tbody tr th {\n",
       "        vertical-align: top;\n",
       "    }\n",
       "\n",
       "    .dataframe thead th {\n",
       "        text-align: right;\n",
       "    }\n",
       "</style>\n",
       "<table border=\"1\" class=\"dataframe\">\n",
       "  <thead>\n",
       "    <tr style=\"text-align: right;\">\n",
       "      <th></th>\n",
       "      <th>Sno</th>\n",
       "      <th>Cured</th>\n",
       "      <th>Deaths</th>\n",
       "      <th>Confirmed</th>\n",
       "    </tr>\n",
       "  </thead>\n",
       "  <tbody>\n",
       "    <tr>\n",
       "      <th>count</th>\n",
       "      <td>3963.000000</td>\n",
       "      <td>3963.000000</td>\n",
       "      <td>3963.000000</td>\n",
       "      <td>3963.000000</td>\n",
       "    </tr>\n",
       "    <tr>\n",
       "      <th>mean</th>\n",
       "      <td>1982.000000</td>\n",
       "      <td>2791.492556</td>\n",
       "      <td>155.840020</td>\n",
       "      <td>5245.161746</td>\n",
       "    </tr>\n",
       "    <tr>\n",
       "      <th>std</th>\n",
       "      <td>1144.163887</td>\n",
       "      <td>9779.420988</td>\n",
       "      <td>685.676637</td>\n",
       "      <td>17698.383165</td>\n",
       "    </tr>\n",
       "    <tr>\n",
       "      <th>min</th>\n",
       "      <td>1.000000</td>\n",
       "      <td>0.000000</td>\n",
       "      <td>0.000000</td>\n",
       "      <td>0.000000</td>\n",
       "    </tr>\n",
       "    <tr>\n",
       "      <th>25%</th>\n",
       "      <td>991.500000</td>\n",
       "      <td>3.000000</td>\n",
       "      <td>0.000000</td>\n",
       "      <td>28.000000</td>\n",
       "    </tr>\n",
       "    <tr>\n",
       "      <th>50%</th>\n",
       "      <td>1982.000000</td>\n",
       "      <td>60.000000</td>\n",
       "      <td>3.000000</td>\n",
       "      <td>301.000000</td>\n",
       "    </tr>\n",
       "    <tr>\n",
       "      <th>75%</th>\n",
       "      <td>2972.500000</td>\n",
       "      <td>1224.500000</td>\n",
       "      <td>34.000000</td>\n",
       "      <td>2824.000000</td>\n",
       "    </tr>\n",
       "    <tr>\n",
       "      <th>max</th>\n",
       "      <td>3963.000000</td>\n",
       "      <td>127259.000000</td>\n",
       "      <td>9667.000000</td>\n",
       "      <td>230599.000000</td>\n",
       "    </tr>\n",
       "  </tbody>\n",
       "</table>\n",
       "</div>"
      ],
      "text/plain": [
       "               Sno          Cured       Deaths      Confirmed\n",
       "count  3963.000000    3963.000000  3963.000000    3963.000000\n",
       "mean   1982.000000    2791.492556   155.840020    5245.161746\n",
       "std    1144.163887    9779.420988   685.676637   17698.383165\n",
       "min       1.000000       0.000000     0.000000       0.000000\n",
       "25%     991.500000       3.000000     0.000000      28.000000\n",
       "50%    1982.000000      60.000000     3.000000     301.000000\n",
       "75%    2972.500000    1224.500000    34.000000    2824.000000\n",
       "max    3963.000000  127259.000000  9667.000000  230599.000000"
      ]
     },
     "execution_count": 67,
     "metadata": {},
     "output_type": "execute_result"
    }
   ],
   "source": [
    "# Let's see some basic statistics results that are predefined with describe() function.\n",
    "data.describe()"
   ]
  },
  {
   "cell_type": "code",
   "execution_count": 68,
   "metadata": {},
   "outputs": [],
   "source": [
    "# Renaming the columns for better clarification.\n",
    "data = data.rename(columns={\"State/UnionTerritory\": \"States\"})"
   ]
  },
  {
   "cell_type": "code",
   "execution_count": 69,
   "metadata": {},
   "outputs": [
    {
     "data": {
      "text/html": [
       "<div>\n",
       "<style scoped>\n",
       "    .dataframe tbody tr th:only-of-type {\n",
       "        vertical-align: middle;\n",
       "    }\n",
       "\n",
       "    .dataframe tbody tr th {\n",
       "        vertical-align: top;\n",
       "    }\n",
       "\n",
       "    .dataframe thead th {\n",
       "        text-align: right;\n",
       "    }\n",
       "</style>\n",
       "<table border=\"1\" class=\"dataframe\">\n",
       "  <thead>\n",
       "    <tr style=\"text-align: right;\">\n",
       "      <th></th>\n",
       "      <th>Sno</th>\n",
       "      <th>Date</th>\n",
       "      <th>Time</th>\n",
       "      <th>States</th>\n",
       "      <th>ConfirmedIndianNational</th>\n",
       "      <th>ConfirmedForeignNational</th>\n",
       "      <th>Cured</th>\n",
       "      <th>Deaths</th>\n",
       "      <th>Confirmed</th>\n",
       "    </tr>\n",
       "  </thead>\n",
       "  <tbody>\n",
       "    <tr>\n",
       "      <th>0</th>\n",
       "      <td>1</td>\n",
       "      <td>30/01/20</td>\n",
       "      <td>6:00 PM</td>\n",
       "      <td>Kerala</td>\n",
       "      <td>1</td>\n",
       "      <td>0</td>\n",
       "      <td>0</td>\n",
       "      <td>0</td>\n",
       "      <td>1</td>\n",
       "    </tr>\n",
       "    <tr>\n",
       "      <th>1</th>\n",
       "      <td>2</td>\n",
       "      <td>31/01/20</td>\n",
       "      <td>6:00 PM</td>\n",
       "      <td>Kerala</td>\n",
       "      <td>1</td>\n",
       "      <td>0</td>\n",
       "      <td>0</td>\n",
       "      <td>0</td>\n",
       "      <td>1</td>\n",
       "    </tr>\n",
       "    <tr>\n",
       "      <th>2</th>\n",
       "      <td>3</td>\n",
       "      <td>01/02/20</td>\n",
       "      <td>6:00 PM</td>\n",
       "      <td>Kerala</td>\n",
       "      <td>2</td>\n",
       "      <td>0</td>\n",
       "      <td>0</td>\n",
       "      <td>0</td>\n",
       "      <td>2</td>\n",
       "    </tr>\n",
       "    <tr>\n",
       "      <th>3</th>\n",
       "      <td>4</td>\n",
       "      <td>02/02/20</td>\n",
       "      <td>6:00 PM</td>\n",
       "      <td>Kerala</td>\n",
       "      <td>3</td>\n",
       "      <td>0</td>\n",
       "      <td>0</td>\n",
       "      <td>0</td>\n",
       "      <td>3</td>\n",
       "    </tr>\n",
       "    <tr>\n",
       "      <th>4</th>\n",
       "      <td>5</td>\n",
       "      <td>03/02/20</td>\n",
       "      <td>6:00 PM</td>\n",
       "      <td>Kerala</td>\n",
       "      <td>3</td>\n",
       "      <td>0</td>\n",
       "      <td>0</td>\n",
       "      <td>0</td>\n",
       "      <td>3</td>\n",
       "    </tr>\n",
       "    <tr>\n",
       "      <th>...</th>\n",
       "      <td>...</td>\n",
       "      <td>...</td>\n",
       "      <td>...</td>\n",
       "      <td>...</td>\n",
       "      <td>...</td>\n",
       "      <td>...</td>\n",
       "      <td>...</td>\n",
       "      <td>...</td>\n",
       "      <td>...</td>\n",
       "    </tr>\n",
       "    <tr>\n",
       "      <th>3958</th>\n",
       "      <td>3959</td>\n",
       "      <td>10/07/20</td>\n",
       "      <td>8:00 AM</td>\n",
       "      <td>Tripura</td>\n",
       "      <td>-</td>\n",
       "      <td>-</td>\n",
       "      <td>1338</td>\n",
       "      <td>1</td>\n",
       "      <td>1776</td>\n",
       "    </tr>\n",
       "    <tr>\n",
       "      <th>3959</th>\n",
       "      <td>3960</td>\n",
       "      <td>10/07/20</td>\n",
       "      <td>8:00 AM</td>\n",
       "      <td>Uttarakhand</td>\n",
       "      <td>-</td>\n",
       "      <td>-</td>\n",
       "      <td>2672</td>\n",
       "      <td>46</td>\n",
       "      <td>3305</td>\n",
       "    </tr>\n",
       "    <tr>\n",
       "      <th>3960</th>\n",
       "      <td>3961</td>\n",
       "      <td>10/07/20</td>\n",
       "      <td>8:00 AM</td>\n",
       "      <td>Uttar Pradesh</td>\n",
       "      <td>-</td>\n",
       "      <td>-</td>\n",
       "      <td>21127</td>\n",
       "      <td>862</td>\n",
       "      <td>32362</td>\n",
       "    </tr>\n",
       "    <tr>\n",
       "      <th>3961</th>\n",
       "      <td>3962</td>\n",
       "      <td>10/07/20</td>\n",
       "      <td>8:00 AM</td>\n",
       "      <td>West Bengal</td>\n",
       "      <td>-</td>\n",
       "      <td>-</td>\n",
       "      <td>16826</td>\n",
       "      <td>854</td>\n",
       "      <td>25911</td>\n",
       "    </tr>\n",
       "    <tr>\n",
       "      <th>3962</th>\n",
       "      <td>3963</td>\n",
       "      <td>10/07/20</td>\n",
       "      <td>8:00 AM</td>\n",
       "      <td>Cases being reassigned to states</td>\n",
       "      <td>-</td>\n",
       "      <td>-</td>\n",
       "      <td>0</td>\n",
       "      <td>0</td>\n",
       "      <td>4161</td>\n",
       "    </tr>\n",
       "  </tbody>\n",
       "</table>\n",
       "<p>3963 rows × 9 columns</p>\n",
       "</div>"
      ],
      "text/plain": [
       "       Sno      Date     Time                            States  \\\n",
       "0        1  30/01/20  6:00 PM                            Kerala   \n",
       "1        2  31/01/20  6:00 PM                            Kerala   \n",
       "2        3  01/02/20  6:00 PM                            Kerala   \n",
       "3        4  02/02/20  6:00 PM                            Kerala   \n",
       "4        5  03/02/20  6:00 PM                            Kerala   \n",
       "...    ...       ...      ...                               ...   \n",
       "3958  3959  10/07/20  8:00 AM                           Tripura   \n",
       "3959  3960  10/07/20  8:00 AM                       Uttarakhand   \n",
       "3960  3961  10/07/20  8:00 AM                     Uttar Pradesh   \n",
       "3961  3962  10/07/20  8:00 AM                       West Bengal   \n",
       "3962  3963  10/07/20  8:00 AM  Cases being reassigned to states   \n",
       "\n",
       "     ConfirmedIndianNational ConfirmedForeignNational  Cured  Deaths  \\\n",
       "0                          1                        0      0       0   \n",
       "1                          1                        0      0       0   \n",
       "2                          2                        0      0       0   \n",
       "3                          3                        0      0       0   \n",
       "4                          3                        0      0       0   \n",
       "...                      ...                      ...    ...     ...   \n",
       "3958                       -                        -   1338       1   \n",
       "3959                       -                        -   2672      46   \n",
       "3960                       -                        -  21127     862   \n",
       "3961                       -                        -  16826     854   \n",
       "3962                       -                        -      0       0   \n",
       "\n",
       "      Confirmed  \n",
       "0             1  \n",
       "1             1  \n",
       "2             2  \n",
       "3             3  \n",
       "4             3  \n",
       "...         ...  \n",
       "3958       1776  \n",
       "3959       3305  \n",
       "3960      32362  \n",
       "3961      25911  \n",
       "3962       4161  \n",
       "\n",
       "[3963 rows x 9 columns]"
      ]
     },
     "execution_count": 69,
     "metadata": {},
     "output_type": "execute_result"
    }
   ],
   "source": [
    "# Displaying dataframe onto the console.\n",
    "data"
   ]
  },
  {
   "cell_type": "code",
   "execution_count": 70,
   "metadata": {},
   "outputs": [],
   "source": [
    "# We need only West Bengal state. We are going to fiter the data.\n",
    "filt = data[\"States\"] == \"West Bengal\"\n",
    "data = data[filt]"
   ]
  },
  {
   "cell_type": "code",
   "execution_count": 71,
   "metadata": {},
   "outputs": [
    {
     "data": {
      "text/html": [
       "<div>\n",
       "<style scoped>\n",
       "    .dataframe tbody tr th:only-of-type {\n",
       "        vertical-align: middle;\n",
       "    }\n",
       "\n",
       "    .dataframe tbody tr th {\n",
       "        vertical-align: top;\n",
       "    }\n",
       "\n",
       "    .dataframe thead th {\n",
       "        text-align: right;\n",
       "    }\n",
       "</style>\n",
       "<table border=\"1\" class=\"dataframe\">\n",
       "  <thead>\n",
       "    <tr style=\"text-align: right;\">\n",
       "      <th></th>\n",
       "      <th>Sno</th>\n",
       "      <th>Date</th>\n",
       "      <th>Time</th>\n",
       "      <th>States</th>\n",
       "      <th>ConfirmedIndianNational</th>\n",
       "      <th>ConfirmedForeignNational</th>\n",
       "      <th>Cured</th>\n",
       "      <th>Deaths</th>\n",
       "      <th>Confirmed</th>\n",
       "    </tr>\n",
       "  </thead>\n",
       "  <tbody>\n",
       "    <tr>\n",
       "      <th>208</th>\n",
       "      <td>209</td>\n",
       "      <td>18/03/20</td>\n",
       "      <td>6:00 PM</td>\n",
       "      <td>West Bengal</td>\n",
       "      <td>1</td>\n",
       "      <td>0</td>\n",
       "      <td>0</td>\n",
       "      <td>0</td>\n",
       "      <td>1</td>\n",
       "    </tr>\n",
       "    <tr>\n",
       "      <th>227</th>\n",
       "      <td>228</td>\n",
       "      <td>19/03/20</td>\n",
       "      <td>6:00 PM</td>\n",
       "      <td>West Bengal</td>\n",
       "      <td>1</td>\n",
       "      <td>0</td>\n",
       "      <td>0</td>\n",
       "      <td>0</td>\n",
       "      <td>1</td>\n",
       "    </tr>\n",
       "    <tr>\n",
       "      <th>247</th>\n",
       "      <td>248</td>\n",
       "      <td>20/03/20</td>\n",
       "      <td>6:00 PM</td>\n",
       "      <td>West Bengal</td>\n",
       "      <td>2</td>\n",
       "      <td>0</td>\n",
       "      <td>0</td>\n",
       "      <td>0</td>\n",
       "      <td>2</td>\n",
       "    </tr>\n",
       "    <tr>\n",
       "      <th>269</th>\n",
       "      <td>270</td>\n",
       "      <td>21/03/20</td>\n",
       "      <td>6:00 PM</td>\n",
       "      <td>West Bengal</td>\n",
       "      <td>3</td>\n",
       "      <td>0</td>\n",
       "      <td>0</td>\n",
       "      <td>0</td>\n",
       "      <td>3</td>\n",
       "    </tr>\n",
       "    <tr>\n",
       "      <th>292</th>\n",
       "      <td>293</td>\n",
       "      <td>22/03/20</td>\n",
       "      <td>6:00 PM</td>\n",
       "      <td>West Bengal</td>\n",
       "      <td>4</td>\n",
       "      <td>0</td>\n",
       "      <td>0</td>\n",
       "      <td>0</td>\n",
       "      <td>4</td>\n",
       "    </tr>\n",
       "    <tr>\n",
       "      <th>...</th>\n",
       "      <td>...</td>\n",
       "      <td>...</td>\n",
       "      <td>...</td>\n",
       "      <td>...</td>\n",
       "      <td>...</td>\n",
       "      <td>...</td>\n",
       "      <td>...</td>\n",
       "      <td>...</td>\n",
       "      <td>...</td>\n",
       "    </tr>\n",
       "    <tr>\n",
       "      <th>3817</th>\n",
       "      <td>3818</td>\n",
       "      <td>06/07/20</td>\n",
       "      <td>8:00 AM</td>\n",
       "      <td>West Bengal</td>\n",
       "      <td>-</td>\n",
       "      <td>-</td>\n",
       "      <td>14711</td>\n",
       "      <td>757</td>\n",
       "      <td>22126</td>\n",
       "    </tr>\n",
       "    <tr>\n",
       "      <th>3853</th>\n",
       "      <td>3854</td>\n",
       "      <td>07/07/20</td>\n",
       "      <td>8:00 AM</td>\n",
       "      <td>West Bengal</td>\n",
       "      <td>-</td>\n",
       "      <td>-</td>\n",
       "      <td>15235</td>\n",
       "      <td>779</td>\n",
       "      <td>22987</td>\n",
       "    </tr>\n",
       "    <tr>\n",
       "      <th>3889</th>\n",
       "      <td>3890</td>\n",
       "      <td>08/07/20</td>\n",
       "      <td>8:00 AM</td>\n",
       "      <td>West Bengal</td>\n",
       "      <td>-</td>\n",
       "      <td>-</td>\n",
       "      <td>15790</td>\n",
       "      <td>804</td>\n",
       "      <td>23837</td>\n",
       "    </tr>\n",
       "    <tr>\n",
       "      <th>3925</th>\n",
       "      <td>3926</td>\n",
       "      <td>09/07/20</td>\n",
       "      <td>8:00 AM</td>\n",
       "      <td>West Bengal</td>\n",
       "      <td>-</td>\n",
       "      <td>-</td>\n",
       "      <td>16291</td>\n",
       "      <td>827</td>\n",
       "      <td>24823</td>\n",
       "    </tr>\n",
       "    <tr>\n",
       "      <th>3961</th>\n",
       "      <td>3962</td>\n",
       "      <td>10/07/20</td>\n",
       "      <td>8:00 AM</td>\n",
       "      <td>West Bengal</td>\n",
       "      <td>-</td>\n",
       "      <td>-</td>\n",
       "      <td>16826</td>\n",
       "      <td>854</td>\n",
       "      <td>25911</td>\n",
       "    </tr>\n",
       "  </tbody>\n",
       "</table>\n",
       "<p>115 rows × 9 columns</p>\n",
       "</div>"
      ],
      "text/plain": [
       "       Sno      Date     Time       States ConfirmedIndianNational  \\\n",
       "208    209  18/03/20  6:00 PM  West Bengal                       1   \n",
       "227    228  19/03/20  6:00 PM  West Bengal                       1   \n",
       "247    248  20/03/20  6:00 PM  West Bengal                       2   \n",
       "269    270  21/03/20  6:00 PM  West Bengal                       3   \n",
       "292    293  22/03/20  6:00 PM  West Bengal                       4   \n",
       "...    ...       ...      ...          ...                     ...   \n",
       "3817  3818  06/07/20  8:00 AM  West Bengal                       -   \n",
       "3853  3854  07/07/20  8:00 AM  West Bengal                       -   \n",
       "3889  3890  08/07/20  8:00 AM  West Bengal                       -   \n",
       "3925  3926  09/07/20  8:00 AM  West Bengal                       -   \n",
       "3961  3962  10/07/20  8:00 AM  West Bengal                       -   \n",
       "\n",
       "     ConfirmedForeignNational  Cured  Deaths  Confirmed  \n",
       "208                         0      0       0          1  \n",
       "227                         0      0       0          1  \n",
       "247                         0      0       0          2  \n",
       "269                         0      0       0          3  \n",
       "292                         0      0       0          4  \n",
       "...                       ...    ...     ...        ...  \n",
       "3817                        -  14711     757      22126  \n",
       "3853                        -  15235     779      22987  \n",
       "3889                        -  15790     804      23837  \n",
       "3925                        -  16291     827      24823  \n",
       "3961                        -  16826     854      25911  \n",
       "\n",
       "[115 rows x 9 columns]"
      ]
     },
     "execution_count": 71,
     "metadata": {},
     "output_type": "execute_result"
    }
   ],
   "source": [
    "# Displaying dataframe onto the console.\n",
    "data"
   ]
  },
  {
   "cell_type": "code",
   "execution_count": 72,
   "metadata": {},
   "outputs": [],
   "source": [
    "# Removing unncessary columns.\n",
    "del data['Sno']"
   ]
  },
  {
   "cell_type": "code",
   "execution_count": 73,
   "metadata": {},
   "outputs": [
    {
     "data": {
      "text/html": [
       "<div>\n",
       "<style scoped>\n",
       "    .dataframe tbody tr th:only-of-type {\n",
       "        vertical-align: middle;\n",
       "    }\n",
       "\n",
       "    .dataframe tbody tr th {\n",
       "        vertical-align: top;\n",
       "    }\n",
       "\n",
       "    .dataframe thead th {\n",
       "        text-align: right;\n",
       "    }\n",
       "</style>\n",
       "<table border=\"1\" class=\"dataframe\">\n",
       "  <thead>\n",
       "    <tr style=\"text-align: right;\">\n",
       "      <th></th>\n",
       "      <th>Date</th>\n",
       "      <th>Time</th>\n",
       "      <th>States</th>\n",
       "      <th>ConfirmedIndianNational</th>\n",
       "      <th>ConfirmedForeignNational</th>\n",
       "      <th>Cured</th>\n",
       "      <th>Deaths</th>\n",
       "      <th>Confirmed</th>\n",
       "    </tr>\n",
       "  </thead>\n",
       "  <tbody>\n",
       "    <tr>\n",
       "      <th>208</th>\n",
       "      <td>18/03/20</td>\n",
       "      <td>6:00 PM</td>\n",
       "      <td>West Bengal</td>\n",
       "      <td>1</td>\n",
       "      <td>0</td>\n",
       "      <td>0</td>\n",
       "      <td>0</td>\n",
       "      <td>1</td>\n",
       "    </tr>\n",
       "    <tr>\n",
       "      <th>227</th>\n",
       "      <td>19/03/20</td>\n",
       "      <td>6:00 PM</td>\n",
       "      <td>West Bengal</td>\n",
       "      <td>1</td>\n",
       "      <td>0</td>\n",
       "      <td>0</td>\n",
       "      <td>0</td>\n",
       "      <td>1</td>\n",
       "    </tr>\n",
       "    <tr>\n",
       "      <th>247</th>\n",
       "      <td>20/03/20</td>\n",
       "      <td>6:00 PM</td>\n",
       "      <td>West Bengal</td>\n",
       "      <td>2</td>\n",
       "      <td>0</td>\n",
       "      <td>0</td>\n",
       "      <td>0</td>\n",
       "      <td>2</td>\n",
       "    </tr>\n",
       "    <tr>\n",
       "      <th>269</th>\n",
       "      <td>21/03/20</td>\n",
       "      <td>6:00 PM</td>\n",
       "      <td>West Bengal</td>\n",
       "      <td>3</td>\n",
       "      <td>0</td>\n",
       "      <td>0</td>\n",
       "      <td>0</td>\n",
       "      <td>3</td>\n",
       "    </tr>\n",
       "    <tr>\n",
       "      <th>292</th>\n",
       "      <td>22/03/20</td>\n",
       "      <td>6:00 PM</td>\n",
       "      <td>West Bengal</td>\n",
       "      <td>4</td>\n",
       "      <td>0</td>\n",
       "      <td>0</td>\n",
       "      <td>0</td>\n",
       "      <td>4</td>\n",
       "    </tr>\n",
       "    <tr>\n",
       "      <th>...</th>\n",
       "      <td>...</td>\n",
       "      <td>...</td>\n",
       "      <td>...</td>\n",
       "      <td>...</td>\n",
       "      <td>...</td>\n",
       "      <td>...</td>\n",
       "      <td>...</td>\n",
       "      <td>...</td>\n",
       "    </tr>\n",
       "    <tr>\n",
       "      <th>3817</th>\n",
       "      <td>06/07/20</td>\n",
       "      <td>8:00 AM</td>\n",
       "      <td>West Bengal</td>\n",
       "      <td>-</td>\n",
       "      <td>-</td>\n",
       "      <td>14711</td>\n",
       "      <td>757</td>\n",
       "      <td>22126</td>\n",
       "    </tr>\n",
       "    <tr>\n",
       "      <th>3853</th>\n",
       "      <td>07/07/20</td>\n",
       "      <td>8:00 AM</td>\n",
       "      <td>West Bengal</td>\n",
       "      <td>-</td>\n",
       "      <td>-</td>\n",
       "      <td>15235</td>\n",
       "      <td>779</td>\n",
       "      <td>22987</td>\n",
       "    </tr>\n",
       "    <tr>\n",
       "      <th>3889</th>\n",
       "      <td>08/07/20</td>\n",
       "      <td>8:00 AM</td>\n",
       "      <td>West Bengal</td>\n",
       "      <td>-</td>\n",
       "      <td>-</td>\n",
       "      <td>15790</td>\n",
       "      <td>804</td>\n",
       "      <td>23837</td>\n",
       "    </tr>\n",
       "    <tr>\n",
       "      <th>3925</th>\n",
       "      <td>09/07/20</td>\n",
       "      <td>8:00 AM</td>\n",
       "      <td>West Bengal</td>\n",
       "      <td>-</td>\n",
       "      <td>-</td>\n",
       "      <td>16291</td>\n",
       "      <td>827</td>\n",
       "      <td>24823</td>\n",
       "    </tr>\n",
       "    <tr>\n",
       "      <th>3961</th>\n",
       "      <td>10/07/20</td>\n",
       "      <td>8:00 AM</td>\n",
       "      <td>West Bengal</td>\n",
       "      <td>-</td>\n",
       "      <td>-</td>\n",
       "      <td>16826</td>\n",
       "      <td>854</td>\n",
       "      <td>25911</td>\n",
       "    </tr>\n",
       "  </tbody>\n",
       "</table>\n",
       "<p>115 rows × 8 columns</p>\n",
       "</div>"
      ],
      "text/plain": [
       "          Date     Time       States ConfirmedIndianNational  \\\n",
       "208   18/03/20  6:00 PM  West Bengal                       1   \n",
       "227   19/03/20  6:00 PM  West Bengal                       1   \n",
       "247   20/03/20  6:00 PM  West Bengal                       2   \n",
       "269   21/03/20  6:00 PM  West Bengal                       3   \n",
       "292   22/03/20  6:00 PM  West Bengal                       4   \n",
       "...        ...      ...          ...                     ...   \n",
       "3817  06/07/20  8:00 AM  West Bengal                       -   \n",
       "3853  07/07/20  8:00 AM  West Bengal                       -   \n",
       "3889  08/07/20  8:00 AM  West Bengal                       -   \n",
       "3925  09/07/20  8:00 AM  West Bengal                       -   \n",
       "3961  10/07/20  8:00 AM  West Bengal                       -   \n",
       "\n",
       "     ConfirmedForeignNational  Cured  Deaths  Confirmed  \n",
       "208                         0      0       0          1  \n",
       "227                         0      0       0          1  \n",
       "247                         0      0       0          2  \n",
       "269                         0      0       0          3  \n",
       "292                         0      0       0          4  \n",
       "...                       ...    ...     ...        ...  \n",
       "3817                        -  14711     757      22126  \n",
       "3853                        -  15235     779      22987  \n",
       "3889                        -  15790     804      23837  \n",
       "3925                        -  16291     827      24823  \n",
       "3961                        -  16826     854      25911  \n",
       "\n",
       "[115 rows x 8 columns]"
      ]
     },
     "execution_count": 73,
     "metadata": {},
     "output_type": "execute_result"
    }
   ],
   "source": [
    "# Displaying dataframe onto the console.\n",
    "data"
   ]
  },
  {
   "cell_type": "code",
   "execution_count": 74,
   "metadata": {},
   "outputs": [
    {
     "data": {
      "text/html": [
       "<div>\n",
       "<style scoped>\n",
       "    .dataframe tbody tr th:only-of-type {\n",
       "        vertical-align: middle;\n",
       "    }\n",
       "\n",
       "    .dataframe tbody tr th {\n",
       "        vertical-align: top;\n",
       "    }\n",
       "\n",
       "    .dataframe thead th {\n",
       "        text-align: right;\n",
       "    }\n",
       "</style>\n",
       "<table border=\"1\" class=\"dataframe\">\n",
       "  <thead>\n",
       "    <tr style=\"text-align: right;\">\n",
       "      <th></th>\n",
       "      <th>Cured</th>\n",
       "      <th>Deaths</th>\n",
       "      <th>Confirmed</th>\n",
       "    </tr>\n",
       "  </thead>\n",
       "  <tbody>\n",
       "    <tr>\n",
       "      <th>Cured</th>\n",
       "      <td>1.000000</td>\n",
       "      <td>0.933587</td>\n",
       "      <td>0.987869</td>\n",
       "    </tr>\n",
       "    <tr>\n",
       "      <th>Deaths</th>\n",
       "      <td>0.933587</td>\n",
       "      <td>1.000000</td>\n",
       "      <td>0.972419</td>\n",
       "    </tr>\n",
       "    <tr>\n",
       "      <th>Confirmed</th>\n",
       "      <td>0.987869</td>\n",
       "      <td>0.972419</td>\n",
       "      <td>1.000000</td>\n",
       "    </tr>\n",
       "  </tbody>\n",
       "</table>\n",
       "</div>"
      ],
      "text/plain": [
       "              Cured    Deaths  Confirmed\n",
       "Cured      1.000000  0.933587   0.987869\n",
       "Deaths     0.933587  1.000000   0.972419\n",
       "Confirmed  0.987869  0.972419   1.000000"
      ]
     },
     "execution_count": 74,
     "metadata": {},
     "output_type": "execute_result"
    }
   ],
   "source": [
    "# Correlation of entire dataframe.\n",
    "correlation = data.corr()\n",
    "correlation"
   ]
  },
  {
   "cell_type": "markdown",
   "metadata": {},
   "source": [
    "# 𝘊𝘰𝘳𝘳𝘦𝘭𝘢𝘵𝘪𝘰𝘯 𝘝𝘪𝘴𝘶𝘢𝘭𝘪𝘻𝘢𝘵𝘪𝘰𝘯\n"
   ]
  },
  {
   "cell_type": "code",
   "execution_count": 75,
   "metadata": {},
   "outputs": [
    {
     "data": {
      "image/png": "[encoded data removed]",
      "text/plain": [
       "<Figure size 432x288 with 2 Axes>"
      ]
     },
     "metadata": {
      "needs_background": "light"
     },
     "output_type": "display_data"
    }
   ],
   "source": [
    "ax = sns.heatmap( correlation,  vmin=-1, vmax=1, center=0, cmap=sns.diverging_palette(20, 220, n=200), square=True)\n",
    "ax.set_xticklabels(ax.get_xticklabels(), rotation=45,horizontalalignment='right');"
   ]
  },
  {
   "cell_type": "code",
   "execution_count": 76,
   "metadata": {},
   "outputs": [
    {
     "data": {
      "image/png": "[encoded data removed]",
      "text/plain": [
       "<Figure size 432x288 with 1 Axes>"
      ]
     },
     "metadata": {
      "needs_background": "light"
     },
     "output_type": "display_data"
    }
   ],
   "source": [
    "def heatmap(x, y, size):\n",
    "    fig, ax = plt.subplots()\n",
    "    \n",
    "    # Mapping from column names to integer coordinates\n",
    "    x_labels = [v for v in sorted(x.unique())]\n",
    "    y_labels = [v for v in sorted(y.unique())]\n",
    "    x_to_num = {p[1]:p[0] for p in enumerate(x_labels)} \n",
    "    y_to_num = {p[1]:p[0] for p in enumerate(y_labels)} \n",
    "    \n",
    "    size_scale = 500\n",
    "    ax.scatter(\n",
    "        x=x.map(x_to_num), # Use mapping for x\n",
    "        y=y.map(y_to_num), # Use mapping for y\n",
    "        s=size * size_scale, # Vector of square sizes, proportional to size parameter\n",
    "        marker='s' # Use square as scatterplot marker\n",
    "    )\n",
    "    \n",
    "    # Show column labels on the axes\n",
    "    ax.set_xticks([x_to_num[v] for v in x_labels])\n",
    "    ax.set_xticklabels(x_labels, rotation=45, horizontalalignment='right')\n",
    "    ax.set_yticks([y_to_num[v] for v in y_labels])\n",
    "    ax.set_yticklabels(y_labels)\n",
    "    \n",
    "data = pd.read_csv('covid_19_india.csv')\n",
    "columns = [\"Confirmed\" , \"Deaths\" , \"Cured\"] \n",
    "corr = data[columns].corr()\n",
    "corr = pd.melt(corr.reset_index(), id_vars='index') # Unpivot the dataframe, so we can get pair of arrays for x and y\n",
    "corr.columns = ['x', 'y', 'value']\n",
    "heatmap(\n",
    "    x=corr['x'],\n",
    "    y=corr['y'],\n",
    "    size=corr['value'].abs()\n",
    ")"
   ]
  },
  {
   "cell_type": "code",
   "execution_count": 77,
   "metadata": {},
   "outputs": [],
   "source": [
    "del data['Sno']"
   ]
  },
  {
   "cell_type": "code",
   "execution_count": 78,
   "metadata": {},
   "outputs": [
    {
     "data": {
      "image/png": "[encoded data removed]",
      "text/plain": [
       "<Figure size 432x288 with 9 Axes>"
      ]
     },
     "metadata": {
      "needs_background": "light"
     },
     "output_type": "display_data"
    }
   ],
   "source": [
    "scatter_matrix(data)\n",
    "plt.show()"
   ]
  },
  {
   "cell_type": "code",
   "execution_count": 79,
   "metadata": {},
   "outputs": [
    {
     "data": {
      "image/png": "[encoded data removed]",
      "text/plain": [
       "<Figure size 288x288 with 1 Axes>"
      ]
     },
     "metadata": {
      "needs_background": "light"
     },
     "output_type": "display_data"
    }
   ],
   "source": [
    "plt.matshow(data.corr())\n",
    "plt.show()"
   ]
  },
  {
   "cell_type": "code",
   "execution_count": 80,
   "metadata": {},
   "outputs": [
    {
     "data": {
      "text/plain": [
       "<matplotlib.axes._subplots.AxesSubplot at 0x2ab60d77f48>"
      ]
     },
     "execution_count": 80,
     "metadata": {},
     "output_type": "execute_result"
    },
    {
     "data": {
      "image/png": "[encoded data removed]",
      "text/plain": [
       "<Figure size 432x288 with 2 Axes>"
      ]
     },
     "metadata": {
      "needs_background": "light"
     },
     "output_type": "display_data"
    }
   ],
   "source": [
    "corr = data.corr()\n",
    "sns.heatmap(corr, \n",
    "        xticklabels=corr.columns,\n",
    "        yticklabels=corr.columns)"
   ]
  },
  {
   "cell_type": "code",
   "execution_count": 81,
   "metadata": {},
   "outputs": [
    {
     "data": {
      "image/png": "[encoded data removed]",
      "text/plain": [
       "<Figure size 432x288 with 2 Axes>"
      ]
     },
     "metadata": {
      "needs_background": "light"
     },
     "output_type": "display_data"
    }
   ],
   "source": [
    "fig = plt.figure()\n",
    "ax = fig.add_subplot(111)\n",
    "cax = ax.matshow(correlation, vmin=-1, vmax=1)\n",
    "fig.colorbar(cax)\n",
    "plt.show()"
   ]
  },
  {
   "cell_type": "markdown",
   "metadata": {},
   "source": [
    "# 𝘉𝘶𝘪𝘭𝘥𝘪𝘯𝘨 𝘢 𝘮𝘰𝘥𝘦𝘭 𝘵𝘰 𝘱𝘳𝘦𝘥𝘪𝘤𝘵 𝘊𝘰𝘯𝘧𝘪𝘳𝘮𝘦𝘥 𝘢𝘯𝘥 𝘙𝘦𝘤𝘰𝘷𝘦𝘳𝘦𝘥 𝘊𝘢𝘴𝘦𝘴."
   ]
  },
  {
   "cell_type": "markdown",
   "metadata": {},
   "source": [
    "𝘗𝘳𝘦𝘥𝘪𝘤𝘵𝘪𝘷𝘦 𝘢𝘯𝘢𝘭𝘺𝘵𝘪𝘤𝘴 𝘦𝘯𝘤𝘰𝘮𝘱𝘢𝘴𝘴𝘦𝘴 𝘢 𝘷𝘢𝘳𝘪𝘦𝘵𝘺 𝘰𝘧 𝘴𝘵𝘢𝘵𝘪𝘴𝘵𝘪𝘤𝘢𝘭 𝘵𝘦𝘤𝘩𝘯𝘪𝘲𝘶𝘦𝘴 𝘧𝘳𝘰𝘮 𝘥𝘢𝘵𝘢 𝘮𝘪𝘯𝘪𝘯𝘨, 𝘱𝘳𝘦𝘥𝘪𝘤𝘵𝘪𝘷𝘦 𝘮𝘰𝘥𝘦𝘭𝘭𝘪𝘯𝘨, 𝘢𝘯𝘥 𝘮𝘢𝘤𝘩𝘪𝘯𝘦 𝘭𝘦𝘢𝘳𝘯𝘪𝘯𝘨, 𝘵𝘩𝘢𝘵 𝘢𝘯𝘢𝘭𝘺𝘻𝘦 𝘤𝘶𝘳𝘳𝘦𝘯𝘵 𝘢𝘯𝘥 𝘩𝘪𝘴𝘵𝘰𝘳𝘪𝘤𝘢𝘭 𝘧𝘢𝘤𝘵𝘴 𝘵𝘰 𝘮𝘢𝘬𝘦 𝘱𝘳𝘦𝘥𝘪𝘤𝘵𝘪𝘰𝘯𝘴 𝘢𝘣𝘰𝘶𝘵 𝘧𝘶𝘵𝘶𝘳𝘦 𝘰𝘳 𝘰𝘵𝘩𝘦𝘳𝘸𝘪𝘴𝘦 𝘶𝘯𝘬𝘯𝘰𝘸𝘯 𝘦𝘷𝘦𝘯𝘵𝘴."
   ]
  },
  {
   "cell_type": "markdown",
   "metadata": {},
   "source": [
    "𝘓𝘪𝘯𝘦𝘢𝘳 𝘙𝘦𝘨𝘳𝘦𝘴𝘴𝘪𝘰𝘯 : 𝘐𝘯 𝘴𝘵𝘢𝘵𝘪𝘴𝘵𝘪𝘤𝘴, 𝘭𝘪𝘯𝘦𝘢𝘳 𝘳𝘦𝘨𝘳𝘦𝘴𝘴𝘪𝘰𝘯 𝘪𝘴 𝘢 𝘭𝘪𝘯𝘦𝘢𝘳 𝘢𝘱𝘱𝘳𝘰𝘢𝘤𝘩 𝘵𝘰 𝘮𝘰𝘥𝘦𝘭𝘪𝘯𝘨 𝘵𝘩𝘦 𝘳𝘦𝘭𝘢𝘵𝘪𝘰𝘯𝘴𝘩𝘪𝘱 𝘣𝘦𝘵𝘸𝘦𝘦𝘯 𝘢 𝘴𝘤𝘢𝘭𝘢𝘳 𝘳𝘦𝘴𝘱𝘰𝘯𝘴𝘦 𝘢𝘯𝘥 𝘰𝘯𝘦 𝘰𝘳 𝘮𝘰𝘳𝘦 𝘦𝘹𝘱𝘭𝘢𝘯𝘢𝘵𝘰𝘳𝘺 𝘷𝘢𝘳𝘪𝘢𝘣𝘭𝘦𝘴. 𝘛𝘩𝘦 𝘤𝘢𝘴𝘦 𝘰𝘧 𝘰𝘯𝘦 𝘦𝘹𝘱𝘭𝘢𝘯𝘢𝘵𝘰𝘳𝘺 𝘷𝘢𝘳𝘪𝘢𝘣𝘭𝘦 𝘪𝘴 𝘤𝘢𝘭𝘭𝘦𝘥 𝘴𝘪𝘮𝘱𝘭𝘦 𝘭𝘪𝘯𝘦𝘢𝘳 𝘳𝘦𝘨𝘳𝘦𝘴𝘴𝘪𝘰𝘯. 𝘍𝘰𝘳 𝘮𝘰𝘳𝘦 𝘵𝘩𝘢𝘯 𝘰𝘯𝘦 𝘦𝘹𝘱𝘭𝘢𝘯𝘢𝘵𝘰𝘳𝘺 𝘷𝘢𝘳𝘪𝘢𝘣𝘭𝘦, 𝘵𝘩𝘦 𝘱𝘳𝘰𝘤𝘦𝘴𝘴 𝘪𝘴 𝘤𝘢𝘭𝘭𝘦𝘥 𝘮𝘶𝘭𝘵𝘪𝘱𝘭𝘦 𝘭𝘪𝘯𝘦𝘢𝘳 𝘳𝘦𝘨𝘳𝘦𝘴𝘴𝘪𝘰𝘯.\n",
    "\n"
   ]
  },
  {
   "cell_type": "markdown",
   "metadata": {},
   "source": [
    "𝘊𝘰𝘦𝘧𝘧𝘪𝘤𝘪𝘦𝘯𝘵 𝘰𝘧 𝘥𝘦𝘵𝘦𝘳𝘮𝘪𝘯𝘢𝘵𝘪𝘰𝘯 : 𝘐𝘵 𝘪𝘴 𝘢 𝘴𝘵𝘢𝘵𝘪𝘴𝘵𝘪𝘤 𝘶𝘴𝘦𝘥 𝘪𝘯 𝘵𝘩𝘦 𝘤𝘰𝘯𝘵𝘦𝘹𝘵 𝘰𝘧 𝘴𝘵𝘢𝘵𝘪𝘴𝘵𝘪𝘤𝘢𝘭 𝘮𝘰𝘥𝘦𝘭𝘴 𝘸𝘩𝘰𝘴𝘦 𝘮𝘢𝘪𝘯 𝘱𝘶𝘳𝘱𝘰𝘴𝘦 𝘪𝘴 𝘦𝘪𝘵𝘩𝘦𝘳 𝘵𝘩𝘦 𝘱𝘳𝘦𝘥𝘪𝘤𝘵𝘪𝘰𝘯 𝘰𝘧 𝘧𝘶𝘵𝘶𝘳𝘦 𝘰𝘶𝘵𝘤𝘰𝘮𝘦𝘴 𝘰𝘳 𝘵𝘩𝘦 𝘵𝘦𝘴𝘵𝘪𝘯𝘨 𝘰𝘧 𝘩𝘺𝘱𝘰𝘵𝘩𝘦𝘴𝘦𝘴, 𝘰𝘯 𝘵𝘩𝘦 𝘣𝘢𝘴𝘪𝘴 𝘰𝘧 𝘰𝘵𝘩𝘦𝘳 𝘳𝘦𝘭𝘢𝘵𝘦𝘥 𝘪𝘯𝘧𝘰𝘳𝘮𝘢𝘵𝘪𝘰𝘯. 𝘐𝘵 𝘱𝘳𝘰𝘷𝘪𝘥𝘦𝘴 𝘢 𝘮𝘦𝘢𝘴𝘶𝘳𝘦 𝘰𝘧 𝘩𝘰𝘸 𝘸𝘦𝘭𝘭 𝘰𝘣𝘴𝘦𝘳𝘷𝘦𝘥 𝘰𝘶𝘵𝘤𝘰𝘮𝘦𝘴 𝘢𝘳𝘦 𝘳𝘦𝘱𝘭𝘪𝘤𝘢𝘵𝘦𝘥 𝘣𝘺 𝘵𝘩𝘦 𝘮𝘰𝘥𝘦𝘭, 𝘣𝘢𝘴𝘦𝘥 𝘰𝘯 𝘵𝘩𝘦 𝘱𝘳𝘰𝘱𝘰𝘳𝘵𝘪𝘰𝘯 𝘰𝘧 𝘵𝘰𝘵𝘢𝘭 𝘷𝘢𝘳𝘪𝘢𝘵𝘪𝘰𝘯 𝘰𝘧 𝘰𝘶𝘵𝘤𝘰𝘮𝘦𝘴 𝘦𝘹𝘱𝘭𝘢𝘪𝘯𝘦𝘥 𝘣𝘺 𝘵𝘩𝘦 𝘮𝘰𝘥𝘦𝘭.\n",
    "\n",
    "𝘛𝘩𝘦𝘳𝘦 𝘢𝘳𝘦 𝘴𝘦𝘷𝘦𝘳𝘢𝘭 𝘥𝘦𝘧𝘪𝘯𝘪𝘵𝘪𝘰𝘯𝘴 𝘰𝘧 𝘙2 𝘵𝘩𝘢𝘵 𝘢𝘳𝘦 𝘰𝘯𝘭𝘺 𝘴𝘰𝘮𝘦𝘵𝘪𝘮𝘦𝘴 𝘦𝘲𝘶𝘪𝘷𝘢𝘭𝘦𝘯𝘵. 𝘖𝘯𝘦 𝘤𝘭𝘢𝘴𝘴 𝘰𝘧 𝘴𝘶𝘤𝘩 𝘤𝘢𝘴𝘦𝘴 𝘪𝘯𝘤𝘭𝘶𝘥𝘦𝘴 𝘵𝘩𝘢𝘵 𝘰𝘧 𝘴𝘪𝘮𝘱𝘭𝘦 𝘭𝘪𝘯𝘦𝘢𝘳 𝘳𝘦𝘨𝘳𝘦𝘴𝘴𝘪𝘰𝘯 𝘸𝘩𝘦𝘳𝘦 𝘳2 𝘪𝘴 𝘶𝘴𝘦𝘥 𝘪𝘯𝘴𝘵𝘦𝘢𝘥 𝘰𝘧 𝘙2. 𝘞𝘩𝘦𝘯 𝘢𝘯 𝘪𝘯𝘵𝘦𝘳𝘤𝘦𝘱𝘵 𝘪𝘴 𝘪𝘯𝘤𝘭𝘶𝘥𝘦𝘥, 𝘵𝘩𝘦𝘯 𝘳2 𝘪𝘴 𝘴𝘪𝘮𝘱𝘭𝘺 𝘵𝘩𝘦 𝘴𝘲𝘶𝘢𝘳𝘦 𝘰𝘧 𝘵𝘩𝘦 𝘴𝘢𝘮𝘱𝘭𝘦 𝘤𝘰𝘳𝘳𝘦𝘭𝘢𝘵𝘪𝘰𝘯 𝘤𝘰𝘦𝘧𝘧𝘪𝘤𝘪𝘦𝘯𝘵  (𝘪.𝘦., 𝘳) 𝘣𝘦𝘵𝘸𝘦𝘦𝘯 𝘵𝘩𝘦 𝘰𝘣𝘴𝘦𝘳𝘷𝘦𝘥 𝘰𝘶𝘵𝘤𝘰𝘮𝘦𝘴 𝘢𝘯𝘥 𝘵𝘩𝘦 𝘰𝘣𝘴𝘦𝘳𝘷𝘦𝘥 𝘱𝘳𝘦𝘥𝘪𝘤𝘵𝘰𝘳 𝘷𝘢𝘭𝘶𝘦𝘴. 𝘐𝘧 𝘢𝘥𝘥𝘪𝘵𝘪𝘰𝘯𝘢𝘭 𝘳𝘦𝘨𝘳𝘦𝘴𝘴𝘰𝘳𝘴 𝘢𝘳𝘦 𝘪𝘯𝘤𝘭𝘶𝘥𝘦𝘥, 𝘙2 𝘪𝘴 𝘵𝘩𝘦 𝘴𝘲𝘶𝘢𝘳𝘦 𝘰𝘧 𝘵𝘩𝘦 𝘤𝘰𝘦𝘧𝘧𝘪𝘤𝘪𝘦𝘯𝘵 𝘰𝘧 𝘮𝘶𝘭𝘵𝘪𝘱𝘭𝘦 𝘤𝘰𝘳𝘳𝘦𝘭𝘢𝘵𝘪𝘰𝘯. 𝘐𝘯 𝘣𝘰𝘵𝘩 𝘴𝘶𝘤𝘩 𝘤𝘢𝘴𝘦𝘴, 𝘵𝘩𝘦 𝘤𝘰𝘦𝘧𝘧𝘪𝘤𝘪𝘦𝘯𝘵 𝘰𝘧 𝘥𝘦𝘵𝘦𝘳𝘮𝘪𝘯𝘢𝘵𝘪𝘰𝘯 𝘯𝘰𝘳𝘮𝘢𝘭𝘭𝘺 𝘳𝘢𝘯𝘨𝘦𝘴 𝘧𝘳𝘰𝘮 0 𝘵𝘰 1."
   ]
  },
  {
   "cell_type": "code",
   "execution_count": 82,
   "metadata": {},
   "outputs": [],
   "source": [
    "# Essential packages.\n",
    "import pandas as pd  \n",
    "import seaborn as sns \n",
    "from sklearn.model_selection import train_test_split \n",
    "from sklearn import metrics\n",
    "%matplotlib inline\n",
    "from sklearn.linear_model import LinearRegression"
   ]
  },
  {
   "cell_type": "code",
   "execution_count": 83,
   "metadata": {},
   "outputs": [],
   "source": [
    "# Loading the dataset.\n",
    "data1 = pd.read_csv('data1')"
   ]
  },
  {
   "cell_type": "code",
   "execution_count": 84,
   "metadata": {},
   "outputs": [
    {
     "data": {
      "text/html": [
       "<div>\n",
       "<style scoped>\n",
       "    .dataframe tbody tr th:only-of-type {\n",
       "        vertical-align: middle;\n",
       "    }\n",
       "\n",
       "    .dataframe tbody tr th {\n",
       "        vertical-align: top;\n",
       "    }\n",
       "\n",
       "    .dataframe thead th {\n",
       "        text-align: right;\n",
       "    }\n",
       "</style>\n",
       "<table border=\"1\" class=\"dataframe\">\n",
       "  <thead>\n",
       "    <tr style=\"text-align: right;\">\n",
       "      <th></th>\n",
       "      <th>Sno</th>\n",
       "      <th>Date</th>\n",
       "      <th>Time</th>\n",
       "      <th>State/UnionTerritory</th>\n",
       "      <th>ConfirmedIndianNational</th>\n",
       "      <th>ConfirmedForeignNational</th>\n",
       "      <th>Cured</th>\n",
       "      <th>Deaths</th>\n",
       "      <th>Confirmed</th>\n",
       "    </tr>\n",
       "  </thead>\n",
       "  <tbody>\n",
       "    <tr>\n",
       "      <th>0</th>\n",
       "      <td>209</td>\n",
       "      <td>3/18/2020</td>\n",
       "      <td>6:00 PM</td>\n",
       "      <td>West Bengal</td>\n",
       "      <td>1</td>\n",
       "      <td>0</td>\n",
       "      <td>0</td>\n",
       "      <td>0</td>\n",
       "      <td>1</td>\n",
       "    </tr>\n",
       "    <tr>\n",
       "      <th>1</th>\n",
       "      <td>228</td>\n",
       "      <td>3/19/2020</td>\n",
       "      <td>6:00 PM</td>\n",
       "      <td>West Bengal</td>\n",
       "      <td>1</td>\n",
       "      <td>0</td>\n",
       "      <td>0</td>\n",
       "      <td>0</td>\n",
       "      <td>1</td>\n",
       "    </tr>\n",
       "    <tr>\n",
       "      <th>2</th>\n",
       "      <td>248</td>\n",
       "      <td>3/20/2020</td>\n",
       "      <td>6:00 PM</td>\n",
       "      <td>West Bengal</td>\n",
       "      <td>2</td>\n",
       "      <td>0</td>\n",
       "      <td>0</td>\n",
       "      <td>0</td>\n",
       "      <td>2</td>\n",
       "    </tr>\n",
       "    <tr>\n",
       "      <th>3</th>\n",
       "      <td>270</td>\n",
       "      <td>3/21/2020</td>\n",
       "      <td>6:00 PM</td>\n",
       "      <td>West Bengal</td>\n",
       "      <td>3</td>\n",
       "      <td>0</td>\n",
       "      <td>0</td>\n",
       "      <td>0</td>\n",
       "      <td>3</td>\n",
       "    </tr>\n",
       "    <tr>\n",
       "      <th>4</th>\n",
       "      <td>293</td>\n",
       "      <td>3/22/2020</td>\n",
       "      <td>6:00 PM</td>\n",
       "      <td>West Bengal</td>\n",
       "      <td>4</td>\n",
       "      <td>0</td>\n",
       "      <td>0</td>\n",
       "      <td>0</td>\n",
       "      <td>4</td>\n",
       "    </tr>\n",
       "    <tr>\n",
       "      <th>...</th>\n",
       "      <td>...</td>\n",
       "      <td>...</td>\n",
       "      <td>...</td>\n",
       "      <td>...</td>\n",
       "      <td>...</td>\n",
       "      <td>...</td>\n",
       "      <td>...</td>\n",
       "      <td>...</td>\n",
       "      <td>...</td>\n",
       "    </tr>\n",
       "    <tr>\n",
       "      <th>110</th>\n",
       "      <td>3818</td>\n",
       "      <td>7/6/2020</td>\n",
       "      <td>8:00 AM</td>\n",
       "      <td>West Bengal</td>\n",
       "      <td>-</td>\n",
       "      <td>-</td>\n",
       "      <td>14711</td>\n",
       "      <td>757</td>\n",
       "      <td>22126</td>\n",
       "    </tr>\n",
       "    <tr>\n",
       "      <th>111</th>\n",
       "      <td>3854</td>\n",
       "      <td>7/7/2020</td>\n",
       "      <td>8:00 AM</td>\n",
       "      <td>West Bengal</td>\n",
       "      <td>-</td>\n",
       "      <td>-</td>\n",
       "      <td>15235</td>\n",
       "      <td>779</td>\n",
       "      <td>22987</td>\n",
       "    </tr>\n",
       "    <tr>\n",
       "      <th>112</th>\n",
       "      <td>3890</td>\n",
       "      <td>7/8/2020</td>\n",
       "      <td>8:00 AM</td>\n",
       "      <td>West Bengal</td>\n",
       "      <td>-</td>\n",
       "      <td>-</td>\n",
       "      <td>15790</td>\n",
       "      <td>804</td>\n",
       "      <td>23837</td>\n",
       "    </tr>\n",
       "    <tr>\n",
       "      <th>113</th>\n",
       "      <td>3926</td>\n",
       "      <td>7/9/2020</td>\n",
       "      <td>8:00 AM</td>\n",
       "      <td>West Bengal</td>\n",
       "      <td>-</td>\n",
       "      <td>-</td>\n",
       "      <td>16291</td>\n",
       "      <td>827</td>\n",
       "      <td>24823</td>\n",
       "    </tr>\n",
       "    <tr>\n",
       "      <th>114</th>\n",
       "      <td>3962</td>\n",
       "      <td>7/10/2020</td>\n",
       "      <td>8:00 AM</td>\n",
       "      <td>West Bengal</td>\n",
       "      <td>-</td>\n",
       "      <td>-</td>\n",
       "      <td>16826</td>\n",
       "      <td>854</td>\n",
       "      <td>25911</td>\n",
       "    </tr>\n",
       "  </tbody>\n",
       "</table>\n",
       "<p>115 rows × 9 columns</p>\n",
       "</div>"
      ],
      "text/plain": [
       "      Sno       Date     Time State/UnionTerritory ConfirmedIndianNational  \\\n",
       "0     209  3/18/2020  6:00 PM          West Bengal                       1   \n",
       "1     228  3/19/2020  6:00 PM          West Bengal                       1   \n",
       "2     248  3/20/2020  6:00 PM          West Bengal                       2   \n",
       "3     270  3/21/2020  6:00 PM          West Bengal                       3   \n",
       "4     293  3/22/2020  6:00 PM          West Bengal                       4   \n",
       "..    ...        ...      ...                  ...                     ...   \n",
       "110  3818   7/6/2020  8:00 AM          West Bengal                       -   \n",
       "111  3854   7/7/2020  8:00 AM          West Bengal                       -   \n",
       "112  3890   7/8/2020  8:00 AM          West Bengal                       -   \n",
       "113  3926   7/9/2020  8:00 AM          West Bengal                       -   \n",
       "114  3962  7/10/2020  8:00 AM          West Bengal                       -   \n",
       "\n",
       "    ConfirmedForeignNational  Cured  Deaths  Confirmed  \n",
       "0                          0      0       0          1  \n",
       "1                          0      0       0          1  \n",
       "2                          0      0       0          2  \n",
       "3                          0      0       0          3  \n",
       "4                          0      0       0          4  \n",
       "..                       ...    ...     ...        ...  \n",
       "110                        -  14711     757      22126  \n",
       "111                        -  15235     779      22987  \n",
       "112                        -  15790     804      23837  \n",
       "113                        -  16291     827      24823  \n",
       "114                        -  16826     854      25911  \n",
       "\n",
       "[115 rows x 9 columns]"
      ]
     },
     "execution_count": 84,
     "metadata": {},
     "output_type": "execute_result"
    }
   ],
   "source": [
    "# Displaying the dataset onto the console.\n",
    "data1"
   ]
  },
  {
   "cell_type": "code",
   "execution_count": 85,
   "metadata": {},
   "outputs": [
    {
     "data": {
      "text/html": [
       "<div>\n",
       "<style scoped>\n",
       "    .dataframe tbody tr th:only-of-type {\n",
       "        vertical-align: middle;\n",
       "    }\n",
       "\n",
       "    .dataframe tbody tr th {\n",
       "        vertical-align: top;\n",
       "    }\n",
       "\n",
       "    .dataframe thead th {\n",
       "        text-align: right;\n",
       "    }\n",
       "</style>\n",
       "<table border=\"1\" class=\"dataframe\">\n",
       "  <thead>\n",
       "    <tr style=\"text-align: right;\">\n",
       "      <th></th>\n",
       "      <th>Sno</th>\n",
       "      <th>Date</th>\n",
       "      <th>Time</th>\n",
       "      <th>State/UnionTerritory</th>\n",
       "      <th>ConfirmedIndianNational</th>\n",
       "      <th>ConfirmedForeignNational</th>\n",
       "      <th>Cured</th>\n",
       "      <th>Deaths</th>\n",
       "      <th>Confirmed</th>\n",
       "    </tr>\n",
       "  </thead>\n",
       "  <tbody>\n",
       "    <tr>\n",
       "      <th>0</th>\n",
       "      <td>209</td>\n",
       "      <td>3/18/2020</td>\n",
       "      <td>6:00 PM</td>\n",
       "      <td>West Bengal</td>\n",
       "      <td>1</td>\n",
       "      <td>0</td>\n",
       "      <td>0</td>\n",
       "      <td>0</td>\n",
       "      <td>1</td>\n",
       "    </tr>\n",
       "    <tr>\n",
       "      <th>1</th>\n",
       "      <td>228</td>\n",
       "      <td>3/19/2020</td>\n",
       "      <td>6:00 PM</td>\n",
       "      <td>West Bengal</td>\n",
       "      <td>1</td>\n",
       "      <td>0</td>\n",
       "      <td>0</td>\n",
       "      <td>0</td>\n",
       "      <td>1</td>\n",
       "    </tr>\n",
       "    <tr>\n",
       "      <th>2</th>\n",
       "      <td>248</td>\n",
       "      <td>3/20/2020</td>\n",
       "      <td>6:00 PM</td>\n",
       "      <td>West Bengal</td>\n",
       "      <td>2</td>\n",
       "      <td>0</td>\n",
       "      <td>0</td>\n",
       "      <td>0</td>\n",
       "      <td>2</td>\n",
       "    </tr>\n",
       "    <tr>\n",
       "      <th>3</th>\n",
       "      <td>270</td>\n",
       "      <td>3/21/2020</td>\n",
       "      <td>6:00 PM</td>\n",
       "      <td>West Bengal</td>\n",
       "      <td>3</td>\n",
       "      <td>0</td>\n",
       "      <td>0</td>\n",
       "      <td>0</td>\n",
       "      <td>3</td>\n",
       "    </tr>\n",
       "    <tr>\n",
       "      <th>4</th>\n",
       "      <td>293</td>\n",
       "      <td>3/22/2020</td>\n",
       "      <td>6:00 PM</td>\n",
       "      <td>West Bengal</td>\n",
       "      <td>4</td>\n",
       "      <td>0</td>\n",
       "      <td>0</td>\n",
       "      <td>0</td>\n",
       "      <td>4</td>\n",
       "    </tr>\n",
       "  </tbody>\n",
       "</table>\n",
       "</div>"
      ],
      "text/plain": [
       "   Sno       Date     Time State/UnionTerritory ConfirmedIndianNational  \\\n",
       "0  209  3/18/2020  6:00 PM          West Bengal                       1   \n",
       "1  228  3/19/2020  6:00 PM          West Bengal                       1   \n",
       "2  248  3/20/2020  6:00 PM          West Bengal                       2   \n",
       "3  270  3/21/2020  6:00 PM          West Bengal                       3   \n",
       "4  293  3/22/2020  6:00 PM          West Bengal                       4   \n",
       "\n",
       "  ConfirmedForeignNational  Cured  Deaths  Confirmed  \n",
       "0                        0      0       0          1  \n",
       "1                        0      0       0          1  \n",
       "2                        0      0       0          2  \n",
       "3                        0      0       0          3  \n",
       "4                        0      0       0          4  "
      ]
     },
     "execution_count": 85,
     "metadata": {},
     "output_type": "execute_result"
    }
   ],
   "source": [
    "# iloc() function returns a valid output for indexing.\n",
    "X = data1.iloc[:,:-1].values \n",
    "y = data1.iloc[:,4].values \n",
    "data1.head()"
   ]
  },
  {
   "cell_type": "code",
   "execution_count": 86,
   "metadata": {},
   "outputs": [
    {
     "data": {
      "text/plain": [
       "0"
      ]
     },
     "execution_count": 86,
     "metadata": {},
     "output_type": "execute_result"
    }
   ],
   "source": [
    "# Now, let see if our data has rows and columns with missing values(NAN) with isnull() function.\n",
    "data1.isnull().sum().sum()"
   ]
  },
  {
   "cell_type": "code",
   "execution_count": 87,
   "metadata": {},
   "outputs": [
    {
     "data": {
      "text/plain": [
       "(115, 9)"
      ]
     },
     "execution_count": 87,
     "metadata": {},
     "output_type": "execute_result"
    }
   ],
   "source": [
    "# Displays a tuple with number of rows and columns.\n",
    "data1.shape"
   ]
  },
  {
   "cell_type": "code",
   "execution_count": 88,
   "metadata": {},
   "outputs": [
    {
     "data": {
      "text/html": [
       "<div>\n",
       "<style scoped>\n",
       "    .dataframe tbody tr th:only-of-type {\n",
       "        vertical-align: middle;\n",
       "    }\n",
       "\n",
       "    .dataframe tbody tr th {\n",
       "        vertical-align: top;\n",
       "    }\n",
       "\n",
       "    .dataframe thead th {\n",
       "        text-align: right;\n",
       "    }\n",
       "</style>\n",
       "<table border=\"1\" class=\"dataframe\">\n",
       "  <thead>\n",
       "    <tr style=\"text-align: right;\">\n",
       "      <th></th>\n",
       "      <th>Sno</th>\n",
       "      <th>Cured</th>\n",
       "      <th>Deaths</th>\n",
       "      <th>Confirmed</th>\n",
       "    </tr>\n",
       "  </thead>\n",
       "  <tbody>\n",
       "    <tr>\n",
       "      <th>count</th>\n",
       "      <td>115.000000</td>\n",
       "      <td>115.000000</td>\n",
       "      <td>115.000000</td>\n",
       "      <td>115.000000</td>\n",
       "    </tr>\n",
       "    <tr>\n",
       "      <th>mean</th>\n",
       "      <td>1982.156522</td>\n",
       "      <td>3069.400000</td>\n",
       "      <td>248.130435</td>\n",
       "      <td>5633.321739</td>\n",
       "    </tr>\n",
       "    <tr>\n",
       "      <th>std</th>\n",
       "      <td>1118.273635</td>\n",
       "      <td>4609.663912</td>\n",
       "      <td>253.702150</td>\n",
       "      <td>7072.178678</td>\n",
       "    </tr>\n",
       "    <tr>\n",
       "      <th>min</th>\n",
       "      <td>209.000000</td>\n",
       "      <td>0.000000</td>\n",
       "      <td>0.000000</td>\n",
       "      <td>1.000000</td>\n",
       "    </tr>\n",
       "    <tr>\n",
       "      <th>25%</th>\n",
       "      <td>1008.500000</td>\n",
       "      <td>39.500000</td>\n",
       "      <td>7.000000</td>\n",
       "      <td>222.000000</td>\n",
       "    </tr>\n",
       "    <tr>\n",
       "      <th>50%</th>\n",
       "      <td>1935.000000</td>\n",
       "      <td>702.000000</td>\n",
       "      <td>207.000000</td>\n",
       "      <td>2290.000000</td>\n",
       "    </tr>\n",
       "    <tr>\n",
       "      <th>75%</th>\n",
       "      <td>2936.000000</td>\n",
       "      <td>3883.500000</td>\n",
       "      <td>437.000000</td>\n",
       "      <td>9548.000000</td>\n",
       "    </tr>\n",
       "    <tr>\n",
       "      <th>max</th>\n",
       "      <td>3962.000000</td>\n",
       "      <td>16826.000000</td>\n",
       "      <td>854.000000</td>\n",
       "      <td>25911.000000</td>\n",
       "    </tr>\n",
       "  </tbody>\n",
       "</table>\n",
       "</div>"
      ],
      "text/plain": [
       "               Sno         Cured      Deaths     Confirmed\n",
       "count   115.000000    115.000000  115.000000    115.000000\n",
       "mean   1982.156522   3069.400000  248.130435   5633.321739\n",
       "std    1118.273635   4609.663912  253.702150   7072.178678\n",
       "min     209.000000      0.000000    0.000000      1.000000\n",
       "25%    1008.500000     39.500000    7.000000    222.000000\n",
       "50%    1935.000000    702.000000  207.000000   2290.000000\n",
       "75%    2936.000000   3883.500000  437.000000   9548.000000\n",
       "max    3962.000000  16826.000000  854.000000  25911.000000"
      ]
     },
     "execution_count": 88,
     "metadata": {},
     "output_type": "execute_result"
    }
   ],
   "source": [
    "# Let's see some basic statistics results that are predefined with describe() function.\n",
    "data1.describe()"
   ]
  },
  {
   "cell_type": "code",
   "execution_count": 89,
   "metadata": {},
   "outputs": [],
   "source": [
    "# Rehsaping our dataset for confirmed and Cured cases.\n",
    "X = data1['Confirmed'].values.reshape(-1,1)\n",
    "y = data1['Cured'].values.reshape(-1,1)"
   ]
  },
  {
   "cell_type": "code",
   "execution_count": 90,
   "metadata": {},
   "outputs": [],
   "source": [
    "# Training a model.\n",
    "X_train, X_test, y_train, y_test= train_test_split(X, y, test_size=0.2, random_state=0)"
   ]
  },
  {
   "cell_type": "code",
   "execution_count": 91,
   "metadata": {},
   "outputs": [
    {
     "data": {
      "text/plain": [
       "LinearRegression(copy_X=True, fit_intercept=True, n_jobs=None, normalize=False)"
      ]
     },
     "execution_count": 91,
     "metadata": {},
     "output_type": "execute_result"
    }
   ],
   "source": [
    "# The best algorithm in this scenerio is LinearRegression.\n",
    "regressor = LinearRegression()  \n",
    "regressor.fit(X_train, y_train)"
   ]
  },
  {
   "cell_type": "code",
   "execution_count": 92,
   "metadata": {},
   "outputs": [],
   "source": [
    "# Predicts with the regressor keyowrd.\n",
    "y_pred = regressor.predict(X_test)"
   ]
  },
  {
   "cell_type": "code",
   "execution_count": 93,
   "metadata": {},
   "outputs": [],
   "source": [
    "# This helps in displayinh actual and prediction values.\n",
    "data = pd.DataFrame({'Actual': y_test.flatten(), 'Prediction': y_pred.flatten()})"
   ]
  },
  {
   "cell_type": "code",
   "execution_count": 94,
   "metadata": {},
   "outputs": [
    {
     "data": {
      "text/html": [
       "<div>\n",
       "<style scoped>\n",
       "    .dataframe tbody tr th:only-of-type {\n",
       "        vertical-align: middle;\n",
       "    }\n",
       "\n",
       "    .dataframe tbody tr th {\n",
       "        vertical-align: top;\n",
       "    }\n",
       "\n",
       "    .dataframe thead th {\n",
       "        text-align: right;\n",
       "    }\n",
       "</style>\n",
       "<table border=\"1\" class=\"dataframe\">\n",
       "  <thead>\n",
       "    <tr style=\"text-align: right;\">\n",
       "      <th></th>\n",
       "      <th>Actual</th>\n",
       "      <th>Prediction</th>\n",
       "    </tr>\n",
       "  </thead>\n",
       "  <tbody>\n",
       "    <tr>\n",
       "      <th>0</th>\n",
       "      <td>0</td>\n",
       "      <td>-567.482616</td>\n",
       "    </tr>\n",
       "    <tr>\n",
       "      <th>1</th>\n",
       "      <td>1970</td>\n",
       "      <td>2748.193363</td>\n",
       "    </tr>\n",
       "    <tr>\n",
       "      <th>2</th>\n",
       "      <td>1221</td>\n",
       "      <td>1582.683019</td>\n",
       "    </tr>\n",
       "    <tr>\n",
       "      <th>3</th>\n",
       "      <td>364</td>\n",
       "      <td>426.247838</td>\n",
       "    </tr>\n",
       "    <tr>\n",
       "      <th>4</th>\n",
       "      <td>0</td>\n",
       "      <td>-571.371972</td>\n",
       "    </tr>\n",
       "    <tr>\n",
       "      <th>5</th>\n",
       "      <td>2580</td>\n",
       "      <td>3641.448788</td>\n",
       "    </tr>\n",
       "    <tr>\n",
       "      <th>6</th>\n",
       "      <td>6028</td>\n",
       "      <td>7142.517402</td>\n",
       "    </tr>\n",
       "    <tr>\n",
       "      <th>7</th>\n",
       "      <td>5060</td>\n",
       "      <td>6609.675632</td>\n",
       "    </tr>\n",
       "    <tr>\n",
       "      <th>8</th>\n",
       "      <td>12528</td>\n",
       "      <td>11849.286372</td>\n",
       "    </tr>\n",
       "    <tr>\n",
       "      <th>9</th>\n",
       "      <td>1006</td>\n",
       "      <td>1254.032438</td>\n",
       "    </tr>\n",
       "    <tr>\n",
       "      <th>10</th>\n",
       "      <td>51</td>\n",
       "      <td>-411.908377</td>\n",
       "    </tr>\n",
       "    <tr>\n",
       "      <th>11</th>\n",
       "      <td>0</td>\n",
       "      <td>-575.909554</td>\n",
       "    </tr>\n",
       "    <tr>\n",
       "      <th>12</th>\n",
       "      <td>7001</td>\n",
       "      <td>7677.952076</td>\n",
       "    </tr>\n",
       "    <tr>\n",
       "      <th>13</th>\n",
       "      <td>16</td>\n",
       "      <td>-510.438729</td>\n",
       "    </tr>\n",
       "    <tr>\n",
       "      <th>14</th>\n",
       "      <td>124</td>\n",
       "      <td>-85.850700</td>\n",
       "    </tr>\n",
       "    <tr>\n",
       "      <th>15</th>\n",
       "      <td>13037</td>\n",
       "      <td>12269.985045</td>\n",
       "    </tr>\n",
       "    <tr>\n",
       "      <th>16</th>\n",
       "      <td>16</td>\n",
       "      <td>-495.529531</td>\n",
       "    </tr>\n",
       "    <tr>\n",
       "      <th>17</th>\n",
       "      <td>1775</td>\n",
       "      <td>2542.705721</td>\n",
       "    </tr>\n",
       "    <tr>\n",
       "      <th>18</th>\n",
       "      <td>872</td>\n",
       "      <td>1092.624164</td>\n",
       "    </tr>\n",
       "    <tr>\n",
       "      <th>19</th>\n",
       "      <td>612</td>\n",
       "      <td>831.389087</td>\n",
       "    </tr>\n",
       "    <tr>\n",
       "      <th>20</th>\n",
       "      <td>3</td>\n",
       "      <td>-536.367768</td>\n",
       "    </tr>\n",
       "    <tr>\n",
       "      <th>21</th>\n",
       "      <td>0</td>\n",
       "      <td>-560.352130</td>\n",
       "    </tr>\n",
       "    <tr>\n",
       "      <th>22</th>\n",
       "      <td>29</td>\n",
       "      <td>-478.675655</td>\n",
       "    </tr>\n",
       "  </tbody>\n",
       "</table>\n",
       "</div>"
      ],
      "text/plain": [
       "    Actual    Prediction\n",
       "0        0   -567.482616\n",
       "1     1970   2748.193363\n",
       "2     1221   1582.683019\n",
       "3      364    426.247838\n",
       "4        0   -571.371972\n",
       "5     2580   3641.448788\n",
       "6     6028   7142.517402\n",
       "7     5060   6609.675632\n",
       "8    12528  11849.286372\n",
       "9     1006   1254.032438\n",
       "10      51   -411.908377\n",
       "11       0   -575.909554\n",
       "12    7001   7677.952076\n",
       "13      16   -510.438729\n",
       "14     124    -85.850700\n",
       "15   13037  12269.985045\n",
       "16      16   -495.529531\n",
       "17    1775   2542.705721\n",
       "18     872   1092.624164\n",
       "19     612    831.389087\n",
       "20       3   -536.367768\n",
       "21       0   -560.352130\n",
       "22      29   -478.675655"
      ]
     },
     "execution_count": 94,
     "metadata": {},
     "output_type": "execute_result"
    }
   ],
   "source": [
    "# Displaying the dataset onto the console.\n",
    "data"
   ]
  },
  {
   "cell_type": "code",
   "execution_count": 95,
   "metadata": {},
   "outputs": [
    {
     "data": {
      "text/plain": [
       "0.9681969072412739"
      ]
     },
     "execution_count": 95,
     "metadata": {},
     "output_type": "execute_result"
    }
   ],
   "source": [
    "# Hence , We are using to R2 (Coefficient of Determination)\n",
    "# Prediction analysis of Recovered Cases.\n",
    "from sklearn.metrics import r2_score\n",
    "r2_score(y_test,y_pred)"
   ]
  },
  {
   "cell_type": "code",
   "execution_count": 96,
   "metadata": {},
   "outputs": [],
   "source": [
    "# Rehsaping our dataset for confirmed and Death cases.\n",
    "X = data1['Confirmed'].values.reshape(-1,1)\n",
    "y = data1['Deaths'].values.reshape(-1,1)"
   ]
  },
  {
   "cell_type": "code",
   "execution_count": 97,
   "metadata": {},
   "outputs": [],
   "source": [
    "# Training a model.\n",
    "X_train, X_test, y_train, y_test= train_test_split(X, y, test_size=0.2, random_state=0)"
   ]
  },
  {
   "cell_type": "code",
   "execution_count": 98,
   "metadata": {},
   "outputs": [
    {
     "data": {
      "text/plain": [
       "LinearRegression(copy_X=True, fit_intercept=True, n_jobs=None, normalize=False)"
      ]
     },
     "execution_count": 98,
     "metadata": {},
     "output_type": "execute_result"
    }
   ],
   "source": [
    "# Predicts with the regressor keyowrd.\n",
    "regressor = LinearRegression() \n",
    "# Fitting the model.\n",
    "regressor.fit(X_train, y_train)"
   ]
  },
  {
   "cell_type": "code",
   "execution_count": 99,
   "metadata": {},
   "outputs": [
    {
     "name": "stdout",
     "output_type": "stream",
     "text": [
      "[[0.03468999]]\n"
     ]
    }
   ],
   "source": [
    "# Displaying the intercept(slope).\n",
    "regressor.intercept_\n",
    "# Regression Coefficient.\n",
    "print(regressor.coef_)"
   ]
  },
  {
   "cell_type": "code",
   "execution_count": 100,
   "metadata": {},
   "outputs": [],
   "source": [
    "# Predicts with the regressor keyowrd.\n",
    "y_pred = regressor.predict(X_test)"
   ]
  },
  {
   "cell_type": "code",
   "execution_count": 101,
   "metadata": {},
   "outputs": [],
   "source": [
    "# This helps in displayinh actual and prediction values.\n",
    "data2 = pd.DataFrame({'Actual': y_test.flatten(), 'Predicted': y_pred.flatten()})"
   ]
  },
  {
   "cell_type": "code",
   "execution_count": 102,
   "metadata": {},
   "outputs": [
    {
     "data": {
      "text/html": [
       "<div>\n",
       "<style scoped>\n",
       "    .dataframe tbody tr th:only-of-type {\n",
       "        vertical-align: middle;\n",
       "    }\n",
       "\n",
       "    .dataframe tbody tr th {\n",
       "        vertical-align: top;\n",
       "    }\n",
       "\n",
       "    .dataframe thead th {\n",
       "        text-align: right;\n",
       "    }\n",
       "</style>\n",
       "<table border=\"1\" class=\"dataframe\">\n",
       "  <thead>\n",
       "    <tr style=\"text-align: right;\">\n",
       "      <th></th>\n",
       "      <th>Actual</th>\n",
       "      <th>Predicted</th>\n",
       "    </tr>\n",
       "  </thead>\n",
       "  <tbody>\n",
       "    <tr>\n",
       "      <th>0</th>\n",
       "      <td>1</td>\n",
       "      <td>52.007408</td>\n",
       "    </tr>\n",
       "    <tr>\n",
       "      <th>1</th>\n",
       "      <td>309</td>\n",
       "      <td>229.446730</td>\n",
       "    </tr>\n",
       "    <tr>\n",
       "      <th>2</th>\n",
       "      <td>265</td>\n",
       "      <td>167.074120</td>\n",
       "    </tr>\n",
       "    <tr>\n",
       "      <th>3</th>\n",
       "      <td>151</td>\n",
       "      <td>105.187170</td>\n",
       "    </tr>\n",
       "    <tr>\n",
       "      <th>4</th>\n",
       "      <td>1</td>\n",
       "      <td>51.799268</td>\n",
       "    </tr>\n",
       "    <tr>\n",
       "      <th>5</th>\n",
       "      <td>345</td>\n",
       "      <td>277.249543</td>\n",
       "    </tr>\n",
       "    <tr>\n",
       "      <th>6</th>\n",
       "      <td>495</td>\n",
       "      <td>464.610203</td>\n",
       "    </tr>\n",
       "    <tr>\n",
       "      <th>7</th>\n",
       "      <td>475</td>\n",
       "      <td>436.095027</td>\n",
       "    </tr>\n",
       "    <tr>\n",
       "      <th>8</th>\n",
       "      <td>683</td>\n",
       "      <td>716.494253</td>\n",
       "    </tr>\n",
       "    <tr>\n",
       "      <th>9</th>\n",
       "      <td>244</td>\n",
       "      <td>149.486293</td>\n",
       "    </tr>\n",
       "    <tr>\n",
       "      <th>10</th>\n",
       "      <td>10</td>\n",
       "      <td>60.333007</td>\n",
       "    </tr>\n",
       "    <tr>\n",
       "      <th>11</th>\n",
       "      <td>0</td>\n",
       "      <td>51.556438</td>\n",
       "    </tr>\n",
       "    <tr>\n",
       "      <th>12</th>\n",
       "      <td>518</td>\n",
       "      <td>493.264138</td>\n",
       "    </tr>\n",
       "    <tr>\n",
       "      <th>13</th>\n",
       "      <td>5</td>\n",
       "      <td>55.060128</td>\n",
       "    </tr>\n",
       "    <tr>\n",
       "      <th>14</th>\n",
       "      <td>22</td>\n",
       "      <td>77.782074</td>\n",
       "    </tr>\n",
       "    <tr>\n",
       "      <th>15</th>\n",
       "      <td>699</td>\n",
       "      <td>739.008060</td>\n",
       "    </tr>\n",
       "    <tr>\n",
       "      <th>16</th>\n",
       "      <td>5</td>\n",
       "      <td>55.857998</td>\n",
       "    </tr>\n",
       "    <tr>\n",
       "      <th>17</th>\n",
       "      <td>302</td>\n",
       "      <td>218.450002</td>\n",
       "    </tr>\n",
       "    <tr>\n",
       "      <th>18</th>\n",
       "      <td>232</td>\n",
       "      <td>140.848484</td>\n",
       "    </tr>\n",
       "    <tr>\n",
       "      <th>19</th>\n",
       "      <td>198</td>\n",
       "      <td>126.868416</td>\n",
       "    </tr>\n",
       "    <tr>\n",
       "      <th>20</th>\n",
       "      <td>3</td>\n",
       "      <td>53.672528</td>\n",
       "    </tr>\n",
       "    <tr>\n",
       "      <th>21</th>\n",
       "      <td>2</td>\n",
       "      <td>52.388998</td>\n",
       "    </tr>\n",
       "    <tr>\n",
       "      <th>22</th>\n",
       "      <td>7</td>\n",
       "      <td>56.759937</td>\n",
       "    </tr>\n",
       "  </tbody>\n",
       "</table>\n",
       "</div>"
      ],
      "text/plain": [
       "    Actual   Predicted\n",
       "0        1   52.007408\n",
       "1      309  229.446730\n",
       "2      265  167.074120\n",
       "3      151  105.187170\n",
       "4        1   51.799268\n",
       "5      345  277.249543\n",
       "6      495  464.610203\n",
       "7      475  436.095027\n",
       "8      683  716.494253\n",
       "9      244  149.486293\n",
       "10      10   60.333007\n",
       "11       0   51.556438\n",
       "12     518  493.264138\n",
       "13       5   55.060128\n",
       "14      22   77.782074\n",
       "15     699  739.008060\n",
       "16       5   55.857998\n",
       "17     302  218.450002\n",
       "18     232  140.848484\n",
       "19     198  126.868416\n",
       "20       3   53.672528\n",
       "21       2   52.388998\n",
       "22       7   56.759937"
      ]
     },
     "execution_count": 102,
     "metadata": {},
     "output_type": "execute_result"
    }
   ],
   "source": [
    "# Displays dataset onto the console.\n",
    "data2"
   ]
  },
  {
   "cell_type": "code",
   "execution_count": 103,
   "metadata": {},
   "outputs": [
    {
     "data": {
      "text/plain": [
       "0.9284341267855505"
      ]
     },
     "execution_count": 103,
     "metadata": {},
     "output_type": "execute_result"
    }
   ],
   "source": [
    "#  Hence , We are using to R2 (Coefficient of Determination)\n",
    "# Prediction analysis of Recovered Cases.\n",
    "from sklearn.metrics import r2_score\n",
    "r2_score(y_test,y_pred)"
   ]
  },
  {
   "cell_type": "markdown",
   "metadata": {},
   "source": [
    "# ==========================================================="
   ]
  },
  {
   "cell_type": "markdown",
   "metadata": {},
   "source": [
    "# 𝘜𝘴𝘪𝘯𝘨 𝘈𝘯𝘰𝘵𝘩𝘦𝘳 𝘋𝘢𝘵𝘢𝘴𝘦𝘵.\n"
   ]
  },
  {
   "cell_type": "code",
   "execution_count": 104,
   "metadata": {},
   "outputs": [],
   "source": [
    "# Loading the dataset.\n",
    "datap2 = pd.read_csv('case_time_series.csv')"
   ]
  },
  {
   "cell_type": "code",
   "execution_count": 105,
   "metadata": {},
   "outputs": [
    {
     "data": {
      "text/html": [
       "<div>\n",
       "<style scoped>\n",
       "    .dataframe tbody tr th:only-of-type {\n",
       "        vertical-align: middle;\n",
       "    }\n",
       "\n",
       "    .dataframe tbody tr th {\n",
       "        vertical-align: top;\n",
       "    }\n",
       "\n",
       "    .dataframe thead th {\n",
       "        text-align: right;\n",
       "    }\n",
       "</style>\n",
       "<table border=\"1\" class=\"dataframe\">\n",
       "  <thead>\n",
       "    <tr style=\"text-align: right;\">\n",
       "      <th></th>\n",
       "      <th>Date</th>\n",
       "      <th>DailyConfirmed</th>\n",
       "      <th>TotalConfirmed</th>\n",
       "      <th>DailyRecovered</th>\n",
       "      <th>TotalRecovered</th>\n",
       "      <th>DailyDeceased</th>\n",
       "      <th>TotalDeceased</th>\n",
       "    </tr>\n",
       "  </thead>\n",
       "  <tbody>\n",
       "    <tr>\n",
       "      <th>0</th>\n",
       "      <td>30-Jan</td>\n",
       "      <td>1</td>\n",
       "      <td>1</td>\n",
       "      <td>0</td>\n",
       "      <td>0</td>\n",
       "      <td>0</td>\n",
       "      <td>0</td>\n",
       "    </tr>\n",
       "    <tr>\n",
       "      <th>1</th>\n",
       "      <td>31-Jan</td>\n",
       "      <td>0</td>\n",
       "      <td>1</td>\n",
       "      <td>0</td>\n",
       "      <td>0</td>\n",
       "      <td>0</td>\n",
       "      <td>0</td>\n",
       "    </tr>\n",
       "    <tr>\n",
       "      <th>2</th>\n",
       "      <td>01-Feb</td>\n",
       "      <td>0</td>\n",
       "      <td>1</td>\n",
       "      <td>0</td>\n",
       "      <td>0</td>\n",
       "      <td>0</td>\n",
       "      <td>0</td>\n",
       "    </tr>\n",
       "    <tr>\n",
       "      <th>3</th>\n",
       "      <td>02-Feb</td>\n",
       "      <td>1</td>\n",
       "      <td>2</td>\n",
       "      <td>0</td>\n",
       "      <td>0</td>\n",
       "      <td>0</td>\n",
       "      <td>0</td>\n",
       "    </tr>\n",
       "    <tr>\n",
       "      <th>4</th>\n",
       "      <td>03-Feb</td>\n",
       "      <td>1</td>\n",
       "      <td>3</td>\n",
       "      <td>0</td>\n",
       "      <td>0</td>\n",
       "      <td>0</td>\n",
       "      <td>0</td>\n",
       "    </tr>\n",
       "    <tr>\n",
       "      <th>...</th>\n",
       "      <td>...</td>\n",
       "      <td>...</td>\n",
       "      <td>...</td>\n",
       "      <td>...</td>\n",
       "      <td>...</td>\n",
       "      <td>...</td>\n",
       "      <td>...</td>\n",
       "    </tr>\n",
       "    <tr>\n",
       "      <th>159</th>\n",
       "      <td>07-Jul</td>\n",
       "      <td>23147</td>\n",
       "      <td>743496</td>\n",
       "      <td>16836</td>\n",
       "      <td>457046</td>\n",
       "      <td>479</td>\n",
       "      <td>20655</td>\n",
       "    </tr>\n",
       "    <tr>\n",
       "      <th>160</th>\n",
       "      <td>08-Jul</td>\n",
       "      <td>25561</td>\n",
       "      <td>769057</td>\n",
       "      <td>19508</td>\n",
       "      <td>476554</td>\n",
       "      <td>492</td>\n",
       "      <td>21147</td>\n",
       "    </tr>\n",
       "    <tr>\n",
       "      <th>161</th>\n",
       "      <td>09-Jul</td>\n",
       "      <td>25790</td>\n",
       "      <td>794847</td>\n",
       "      <td>19408</td>\n",
       "      <td>495962</td>\n",
       "      <td>479</td>\n",
       "      <td>21626</td>\n",
       "    </tr>\n",
       "    <tr>\n",
       "      <th>162</th>\n",
       "      <td>10-Jul</td>\n",
       "      <td>27762</td>\n",
       "      <td>822609</td>\n",
       "      <td>20289</td>\n",
       "      <td>516251</td>\n",
       "      <td>520</td>\n",
       "      <td>22146</td>\n",
       "    </tr>\n",
       "    <tr>\n",
       "      <th>163</th>\n",
       "      <td>11-Jul</td>\n",
       "      <td>27755</td>\n",
       "      <td>850364</td>\n",
       "      <td>19981</td>\n",
       "      <td>536232</td>\n",
       "      <td>543</td>\n",
       "      <td>22689</td>\n",
       "    </tr>\n",
       "  </tbody>\n",
       "</table>\n",
       "<p>164 rows × 7 columns</p>\n",
       "</div>"
      ],
      "text/plain": [
       "       Date  DailyConfirmed  TotalConfirmed  DailyRecovered  TotalRecovered  \\\n",
       "0    30-Jan               1               1               0               0   \n",
       "1    31-Jan               0               1               0               0   \n",
       "2    01-Feb               0               1               0               0   \n",
       "3    02-Feb               1               2               0               0   \n",
       "4    03-Feb               1               3               0               0   \n",
       "..      ...             ...             ...             ...             ...   \n",
       "159  07-Jul           23147          743496           16836          457046   \n",
       "160  08-Jul           25561          769057           19508          476554   \n",
       "161  09-Jul           25790          794847           19408          495962   \n",
       "162  10-Jul           27762          822609           20289          516251   \n",
       "163  11-Jul           27755          850364           19981          536232   \n",
       "\n",
       "     DailyDeceased  TotalDeceased  \n",
       "0                0              0  \n",
       "1                0              0  \n",
       "2                0              0  \n",
       "3                0              0  \n",
       "4                0              0  \n",
       "..             ...            ...  \n",
       "159            479          20655  \n",
       "160            492          21147  \n",
       "161            479          21626  \n",
       "162            520          22146  \n",
       "163            543          22689  \n",
       "\n",
       "[164 rows x 7 columns]"
      ]
     },
     "execution_count": 105,
     "metadata": {},
     "output_type": "execute_result"
    }
   ],
   "source": [
    "# Displaying dataset onto the console.\n",
    "datap2"
   ]
  },
  {
   "cell_type": "code",
   "execution_count": 106,
   "metadata": {},
   "outputs": [
    {
     "name": "stdout",
     "output_type": "stream",
     "text": [
      "     TotalConfirmed  DailyConfirmed\n",
      "140          381098           13829\n",
      "19                3               0\n",
      "8                 3               0\n",
      "42               81              10\n",
      "89            31360            1902\n",
      "25                3               0\n",
      "43               91              10\n",
      "104           78056            3726\n",
      "36               31               1\n",
      "105           82047            3991\n",
      "47              146              20\n",
      "114          131424            6667\n",
      "24                3               0\n",
      "15                3               0\n",
      "51              334              78\n",
      "60             1326             187\n",
      "50              256              58\n",
      "70             6728             813\n",
      "61             1635             309\n",
      "99            59690            3339\n",
      "84            23040            1667\n",
      "75            11485            1031\n",
      "128          246603           10408\n",
      "132          287158           11156\n",
      "26                3               0\n",
      "63             2545             486\n",
      "1                 1               0\n",
      "136          333043           11405\n",
      "143          426904           15151\n",
      "68             5350             573\n",
      "12                3               0\n",
      "94            42778            2952\n",
      "41               71               8\n",
      "110          106480            6154\n",
      "62             2059             424\n",
      "85            24448            1408\n",
      "2                 1               0\n",
      "125          216876            9689\n",
      "13                3               0\n",
      "0                 1               1\n",
      "3                 2               1\n",
      "131          276002            9981\n",
      "126          226723            9847\n",
      "90            33065            1705\n",
      "23                3               0\n",
      "119          165358            7254\n",
      "106           85855            3808\n",
      "71             7599             871\n",
      "162          822609           27762\n",
      "30                3               0\n"
     ]
    }
   ],
   "source": [
    "# iloc() function returns a valid output for indexing.\n",
    "X = datap2.loc[:, ['TotalConfirmed', 'DailyConfirmed']] \n",
    "y = datap2.TotalRecovered\n",
    "# Training the model.\n",
    "X_train, X_test, y_train, y_test = train_test_split(X, y, test_size=0.3)\n",
    "print(X_test)"
   ]
  },
  {
   "cell_type": "code",
   "execution_count": 107,
   "metadata": {},
   "outputs": [],
   "source": [
    "# The best algorithm in this scenerio is LinearRegression.\n",
    "from sklearn.linear_model import LinearRegression\n",
    "model = LinearRegression()"
   ]
  },
  {
   "cell_type": "code",
   "execution_count": 108,
   "metadata": {},
   "outputs": [
    {
     "data": {
      "text/plain": [
       "0.9916665236602001"
      ]
     },
     "execution_count": 108,
     "metadata": {},
     "output_type": "execute_result"
    }
   ],
   "source": [
    "# Fitiing the model.\n",
    "model.fit(X_train, y_train)\n",
    "y_predicted = model.predict(X_test)\n",
    "r2_score(y_test, y_predicted, multioutput='uniform_average')"
   ]
  },
  {
   "cell_type": "markdown",
   "metadata": {},
   "source": [
    "## 𝘜𝘴𝘪𝘯𝘨 𝘴𝘢𝘮𝘦 𝘥𝘢𝘵𝘢𝘴𝘦𝘵 𝘧𝘰𝘳 𝘣𝘦𝘵𝘵𝘦𝘳 𝘤𝘭𝘢𝘳𝘪𝘧𝘪𝘤𝘢𝘵𝘪𝘰𝘯.\n"
   ]
  },
  {
   "cell_type": "code",
   "execution_count": 109,
   "metadata": {},
   "outputs": [],
   "source": [
    "# Loading the dataset.\n",
    "datap3 = pd.read_csv('case_time_series.csv')"
   ]
  },
  {
   "cell_type": "code",
   "execution_count": 110,
   "metadata": {},
   "outputs": [],
   "source": [
    "# With different attributes. \n",
    "Y = datap3.loc[:,['TotalConfirmed','DailyConfirmed']]\n",
    "z = datap3.TotalDeceased\n",
    "Y_train, Y_test, z_train, z_test = train_test_split(Y, z, test_size=0.3)"
   ]
  },
  {
   "cell_type": "code",
   "execution_count": 111,
   "metadata": {},
   "outputs": [
    {
     "data": {
      "text/plain": [
       "0.9947005909204704"
      ]
     },
     "execution_count": 111,
     "metadata": {},
     "output_type": "execute_result"
    }
   ],
   "source": [
    "# Training the model using LinearRegression Algorithm.\n",
    "model_Deploy = LinearRegression()\n",
    "model_Deploy.fit(Y_train, z_train)\n",
    "z_predicted = model_Deploy.predict(Y_test)\n",
    "r2_score(z_test, z_predicted, multioutput='uniform_average')"
   ]
  },
  {
   "cell_type": "markdown",
   "metadata": {},
   "source": [
    "# 𝘗𝘳𝘦𝘥𝘪𝘤𝘵𝘪𝘷𝘦 𝘤𝘢𝘴𝘦𝘴\n"
   ]
  },
  {
   "cell_type": "code",
   "execution_count": 112,
   "metadata": {},
   "outputs": [
    {
     "data": {
      "text/plain": [
       "array([317029.99773763])"
      ]
     },
     "execution_count": 112,
     "metadata": {},
     "output_type": "execute_result"
    }
   ],
   "source": [
    "model.predict([[680000,34000]])\n"
   ]
  },
  {
   "cell_type": "code",
   "execution_count": 113,
   "metadata": {},
   "outputs": [
    {
     "data": {
      "text/plain": [
       "array([1292559.5637725])"
      ]
     },
     "execution_count": 113,
     "metadata": {},
     "output_type": "execute_result"
    }
   ],
   "source": [
    "model.predict([[1820000, 35000]])\n"
   ]
  },
  {
   "cell_type": "code",
   "execution_count": 114,
   "metadata": {},
   "outputs": [
    {
     "data": {
      "text/plain": [
       "array([24706.20712504])"
      ]
     },
     "execution_count": 114,
     "metadata": {},
     "output_type": "execute_result"
    }
   ],
   "source": [
    "model_Deploy.predict([[865000,27000]])\n"
   ]
  },
  {
   "cell_type": "code",
   "execution_count": 115,
   "metadata": {},
   "outputs": [
    {
     "data": {
      "text/plain": [
       "array([35989.04358477])"
      ]
     },
     "execution_count": 115,
     "metadata": {},
     "output_type": "execute_result"
    }
   ],
   "source": [
    "model_Deploy.predict([[1370000, 18000]])\n"
   ]
  },
  {
   "cell_type": "markdown",
   "metadata": {},
   "source": [
    "## 𝘜𝘴𝘪𝘯𝘨 𝘴𝘢𝘮𝘦 𝘥𝘢𝘵𝘢𝘴𝘦𝘵 𝘧𝘰𝘳 𝘣𝘦𝘵𝘵𝘦𝘳 𝘤𝘭𝘢𝘳𝘪𝘧𝘪𝘤𝘢𝘵𝘪𝘰𝘯.\n"
   ]
  },
  {
   "cell_type": "code",
   "execution_count": 116,
   "metadata": {},
   "outputs": [],
   "source": [
    "# Loading the dataset.\n",
    "datap4 = pd.read_csv('case_time_series.csv')"
   ]
  },
  {
   "cell_type": "code",
   "execution_count": 117,
   "metadata": {},
   "outputs": [
    {
     "name": "stdout",
     "output_type": "stream",
     "text": [
      "     TotalRecovered  DailyRecovered\n",
      "101           20970            1669\n",
      "46               14               1\n",
      "1                 0               0\n",
      "57               75              25\n",
      "9                 0               0\n",
      "89             7739             636\n",
      "73             1086             114\n",
      "97            15301            1161\n",
      "7                 0               0\n",
      "111           45422            3113\n",
      "22                3               0\n",
      "5                 0               0\n",
      "17                2               1\n",
      "125          104064            3789\n",
      "0                 0               0\n",
      "90             8429             690\n",
      "108           36795            2538\n",
      "162          516251           20289\n",
      "39                3               0\n",
      "92            10021             962\n",
      "132          140928            6275\n",
      "75             1365             167\n",
      "88             7103             580\n",
      "33                3               0\n",
      "161          495962           19408\n",
      "141          214210            9029\n",
      "58               85              10\n",
      "107           34257            4012\n",
      "51               23               0\n",
      "12                0               0\n",
      "59              102              17\n",
      "149          310147           14229\n",
      "154          379903           19999\n",
      "37                3               0\n",
      "155          394320           14417\n",
      "43               10               6\n",
      "47               15               1\n",
      "140          205181           10741\n",
      "116           60706            3012\n",
      "11                0               0\n",
      "106           30245            2234\n",
      "13                0               0\n",
      "26                3               0\n",
      "134          154235            7263\n",
      "28                3               0\n",
      "99            17887            1111\n",
      "34                3               0\n",
      "115           57694            3285\n",
      "156          409066           14746\n",
      "121           86934            4303\n"
     ]
    }
   ],
   "source": [
    "# With different attributes. \n",
    "X = datap2.loc[:, ['TotalRecovered', 'DailyRecovered']] \n",
    "y = datap2.TotalConfirmed\n",
    "\n",
    "X_train, X_test, y_train, y_test = train_test_split(X, y, test_size=0.3)\n",
    "\n",
    "print(X_test)"
   ]
  },
  {
   "cell_type": "code",
   "execution_count": 118,
   "metadata": {},
   "outputs": [],
   "source": [
    "# Using LinearRegression Algorithm for model.\n",
    "from sklearn.linear_model import LinearRegression\n",
    "model = LinearRegression()"
   ]
  },
  {
   "cell_type": "code",
   "execution_count": 119,
   "metadata": {},
   "outputs": [
    {
     "data": {
      "text/plain": [
       "0.992834776810373"
      ]
     },
     "execution_count": 119,
     "metadata": {},
     "output_type": "execute_result"
    }
   ],
   "source": [
    "# Training the model.\n",
    "model.fit(X_train, y_train)\n",
    "y_predicted = model.predict(X_test)\n",
    "r2_score(y_test, y_predicted, multioutput='uniform_average')"
   ]
  },
  {
   "cell_type": "code",
   "execution_count": 120,
   "metadata": {},
   "outputs": [],
   "source": [
    "# With different attributes. \n",
    "Y = datap3.loc[:, ['TotalRecovered','DailyRecovered']]\n",
    "z = datap3.TotalDeceased\n",
    "Y_train, Y_test, z_train, z_test = train_test_split(Y, z, test_size=0.3)"
   ]
  },
  {
   "cell_type": "code",
   "execution_count": 121,
   "metadata": {},
   "outputs": [
    {
     "data": {
      "text/plain": [
       "0.9806691361406438"
      ]
     },
     "execution_count": 121,
     "metadata": {},
     "output_type": "execute_result"
    }
   ],
   "source": [
    "# Using LinearRegression Algorithm for model.\n",
    "model_2 = LinearRegression()\n",
    "model_2.fit(Y_train, z_train)\n",
    "z_predicted = model_2.predict(Y_test)\n",
    "r2_score(z_test, z_predicted, multioutput='uniform_average')"
   ]
  },
  {
   "cell_type": "markdown",
   "metadata": {},
   "source": [
    "# 𝘗𝘳𝘦𝘥𝘪𝘤𝘵𝘪𝘷𝘦 𝘤𝘢𝘴𝘦𝘴."
   ]
  },
  {
   "cell_type": "code",
   "execution_count": 122,
   "metadata": {},
   "outputs": [
    {
     "data": {
      "text/plain": [
       "array([1173122.94837002])"
      ]
     },
     "execution_count": 122,
     "metadata": {},
     "output_type": "execute_result"
    }
   ],
   "source": [
    "model.predict([[721000,22000]])\n"
   ]
  },
  {
   "cell_type": "code",
   "execution_count": 123,
   "metadata": {},
   "outputs": [
    {
     "data": {
      "text/plain": [
       "array([2567686.47360445])"
      ]
     },
     "execution_count": 123,
     "metadata": {},
     "output_type": "execute_result"
    }
   ],
   "source": [
    "model.predict([[1720000, 21500]])\n"
   ]
  },
  {
   "cell_type": "code",
   "execution_count": 124,
   "metadata": {},
   "outputs": [
    {
     "data": {
      "text/plain": [
       "array([34260.704623])"
      ]
     },
     "execution_count": 124,
     "metadata": {},
     "output_type": "execute_result"
    }
   ],
   "source": [
    "model_2.predict([[750000,23000]])\n"
   ]
  },
  {
   "cell_type": "code",
   "execution_count": 125,
   "metadata": {},
   "outputs": [
    {
     "data": {
      "text/plain": [
       "array([134156.45560123])"
      ]
     },
     "execution_count": 125,
     "metadata": {},
     "output_type": "execute_result"
    }
   ],
   "source": [
    "model_2.predict([[1200000, 275000]])\n"
   ]
  },
  {
   "cell_type": "markdown",
   "metadata": {},
   "source": [
    "### 𝘕𝘰𝘵𝘦 :𝘍𝘰𝘳 𝘣𝘦𝘵𝘵𝘦𝘳 𝘜𝘯𝘥𝘦𝘳𝘴𝘵𝘢𝘯𝘥𝘪𝘯𝘨, 𝘐 𝘩𝘢𝘷𝘦 𝘶𝘴𝘦𝘥 𝘵𝘸𝘰 𝘥𝘪𝘧𝘧𝘦𝘳𝘦𝘯𝘵 𝘥𝘢𝘵𝘢𝘴𝘦𝘵𝘴 𝘧𝘰𝘳 𝘣𝘶𝘪𝘭𝘥𝘪𝘯𝘨 𝘵𝘩𝘦 𝘮𝘰𝘥𝘦𝘭.\n",
    "\n"
   ]
  },
  {
   "cell_type": "markdown",
   "metadata": {},
   "source": [
    "# ==========================================================="
   ]
  },
  {
   "cell_type": "markdown",
   "metadata": {},
   "source": [
    "# 𝘉𝘶𝘪𝘭𝘥𝘪𝘯𝘨 𝘢 𝘮𝘰𝘥𝘦𝘭(𝘤𝘭𝘢𝘴𝘴𝘪𝘧𝘪𝘦𝘳) 𝘶𝘴𝘪𝘯𝘨 𝘤𝘭𝘢𝘴𝘴𝘪𝘧𝘪𝘤𝘢𝘵𝘪𝘰𝘯.\n",
    " "
   ]
  },
  {
   "cell_type": "markdown",
   "metadata": {},
   "source": [
    "𝘊𝘭𝘢𝘴𝘴𝘪𝘧𝘪𝘤𝘢𝘵𝘪𝘰𝘯 𝘪𝘴 𝘢 𝘵𝘺𝘱𝘦 𝘰𝘧 𝘴𝘶𝘱𝘦𝘳𝘷𝘪𝘴𝘦𝘥 𝘭𝘦𝘢𝘳𝘯𝘪𝘯𝘨. 𝘐𝘵 𝘴𝘱𝘦𝘤𝘪𝘧𝘪𝘦𝘴 𝘵𝘩𝘦 𝘤𝘭𝘢𝘴𝘴 𝘵𝘰 𝘸𝘩𝘪𝘤𝘩 𝘥𝘢𝘵𝘢 𝘦𝘭𝘦𝘮𝘦𝘯𝘵𝘴 𝘣𝘦𝘭𝘰𝘯𝘨 𝘵𝘰 𝘢𝘯𝘥 𝘪𝘴 𝘣𝘦𝘴𝘵 𝘶𝘴𝘦𝘥 𝘸𝘩𝘦𝘯 𝘵𝘩𝘦 𝘰𝘶𝘵𝘱𝘶𝘵 𝘩𝘢𝘴 𝘧𝘪𝘯𝘪𝘵𝘦 𝘢𝘯𝘥 𝘥𝘪𝘴𝘤𝘳𝘦𝘵𝘦 𝘷𝘢𝘭𝘶𝘦𝘴. 𝘐𝘵 𝘱𝘳𝘦𝘥𝘪𝘤𝘵𝘴 𝘢 𝘤𝘭𝘢𝘴𝘴 𝘧𝘰𝘳 𝘢𝘯 𝘪𝘯𝘱𝘶𝘵 𝘷𝘢𝘳𝘪𝘢𝘣𝘭𝘦 𝘢𝘴 𝘸𝘦𝘭𝘭.\n",
    "\n",
    "𝘌𝘹𝘢𝘮𝘱𝘭𝘦𝘴 𝘰𝘧 𝘤𝘭𝘢𝘴𝘴𝘪𝘧𝘪𝘤𝘢𝘵𝘪𝘰𝘯 𝘱𝘳𝘰𝘣𝘭𝘦𝘮𝘴 𝘪𝘯𝘤𝘭𝘶𝘥𝘦:\n",
    "\n",
    "==> 𝘎𝘪𝘷𝘦𝘯 𝘢𝘯 𝘦𝘹𝘢𝘮𝘱𝘭𝘦, 𝘤𝘭𝘢𝘴𝘴𝘪𝘧𝘺 𝘪𝘧 𝘪𝘵 𝘪𝘴 𝘴𝘱𝘢𝘮 𝘰𝘳 𝘯𝘰𝘵.\n",
    "\n",
    "==> 𝘎𝘪𝘷𝘦𝘯 𝘢 𝘩𝘢𝘯𝘥𝘸𝘳𝘪𝘵𝘵𝘦𝘯 𝘤𝘩𝘢𝘳𝘢𝘤𝘵𝘦𝘳, 𝘤𝘭𝘢𝘴𝘴𝘪𝘧𝘺 𝘪𝘵 𝘢𝘴 𝘰𝘯𝘦 𝘰𝘧 𝘵𝘩𝘦 𝘬𝘯𝘰𝘸𝘯 𝘤𝘩𝘢𝘳𝘢𝘤𝘵𝘦𝘳𝘴.\n",
    "\n",
    "==> 𝘎𝘪𝘷𝘦𝘯 𝘳𝘦𝘤𝘦𝘯𝘵 𝘶𝘴𝘦𝘳 𝘣𝘦𝘩𝘢𝘷𝘪𝘰𝘳, 𝘤𝘭𝘢𝘴𝘴𝘪𝘧𝘺 𝘢𝘴 𝘤𝘩𝘶𝘳𝘯 𝘰𝘳 𝘯𝘰𝘵.\n",
    "\n",
    "\n",
    "\n",
    "𝘛𝘩𝘦𝘳𝘦 𝘢𝘳𝘦 𝘱𝘦𝘳𝘩𝘢𝘱𝘴 𝘧𝘰𝘶𝘳 𝘮𝘢𝘪𝘯 𝘵𝘺𝘱𝘦𝘴 𝘰𝘧 𝘤𝘭𝘢𝘴𝘴𝘪𝘧𝘪𝘤𝘢𝘵𝘪𝘰𝘯 𝘵𝘢𝘴𝘬𝘴; 𝘵𝘩𝘦𝘺 𝘢𝘳𝘦:\n",
    "\n",
    "==> 𝘉𝘪𝘯𝘢𝘳𝘺 𝘊𝘭𝘢𝘴𝘴𝘪𝘧𝘪𝘤𝘢𝘵𝘪𝘰𝘯.\n",
    "\n",
    "==> 𝘔𝘶𝘭𝘵𝘪-𝘊𝘭𝘢𝘴𝘴 𝘊𝘭𝘢𝘴𝘴𝘪𝘧𝘪𝘤𝘢𝘵𝘪𝘰𝘯.\n",
    "\n",
    "==> 𝘔𝘶𝘭𝘵𝘪-𝘓𝘢𝘣𝘦𝘭 𝘊𝘭𝘢𝘴𝘴𝘪𝘧𝘪𝘤𝘢𝘵𝘪𝘰𝘯.\n",
    "\n",
    "==> 𝘐𝘮𝘣𝘢𝘭𝘢𝘯𝘤𝘦𝘥 𝘊𝘭𝘢𝘴𝘴𝘪𝘧𝘪𝘤𝘢𝘵𝘪𝘰𝘯.\n"
   ]
  },
  {
   "cell_type": "markdown",
   "metadata": {},
   "source": [
    "𝘖𝘶𝘳 𝘣𝘶𝘪𝘭𝘥𝘪𝘯𝘨 𝘮𝘰𝘥𝘦𝘭 𝘪𝘴 𝘮𝘶𝘭𝘵𝘪 𝘤𝘭𝘢𝘴𝘴 𝘤𝘭𝘢𝘴𝘴𝘪𝘧𝘪𝘤𝘢𝘵𝘪𝘰𝘯.\n",
    "𝘈𝘴 𝘸𝘦 𝘩𝘢𝘷𝘦 - 𝘚𝘦𝘷𝘦𝘳𝘦 , 𝘔𝘰𝘥𝘦𝘳𝘢𝘵𝘦 𝘢𝘯𝘥 𝘔𝘪𝘭𝘥 𝘢𝘴 𝘵𝘩𝘦 𝘤𝘭𝘢𝘴𝘴𝘦𝘴."
   ]
  },
  {
   "cell_type": "markdown",
   "metadata": {},
   "source": [
    "#  𝘐𝘮𝘱𝘰𝘳𝘵𝘪𝘯𝘨 𝘢𝘭𝘭 𝘦𝘴𝘴𝘦𝘯𝘵𝘪𝘢𝘭 𝘗𝘢𝘤𝘬𝘢𝘨𝘦𝘴."
   ]
  },
  {
   "cell_type": "code",
   "execution_count": 126,
   "metadata": {},
   "outputs": [],
   "source": [
    "import pandas as pd \n",
    "import numpy as np\n",
    "import matplotlib.pyplot as plt\n",
    "import matplotlib.ticker as ticker\n",
    "from sklearn import preprocessing\n",
    "%matplotlib inline\n",
    "from sklearn.preprocessing import LabelEncoder\n",
    "import itertools"
   ]
  },
  {
   "cell_type": "code",
   "execution_count": 127,
   "metadata": {},
   "outputs": [],
   "source": [
    "# Loading the dataset.\n",
    "dataset = pd.read_csv('part4.csv')"
   ]
  },
  {
   "cell_type": "code",
   "execution_count": 128,
   "metadata": {},
   "outputs": [
    {
     "data": {
      "text/html": [
       "<div>\n",
       "<style scoped>\n",
       "    .dataframe tbody tr th:only-of-type {\n",
       "        vertical-align: middle;\n",
       "    }\n",
       "\n",
       "    .dataframe tbody tr th {\n",
       "        vertical-align: top;\n",
       "    }\n",
       "\n",
       "    .dataframe thead th {\n",
       "        text-align: right;\n",
       "    }\n",
       "</style>\n",
       "<table border=\"1\" class=\"dataframe\">\n",
       "  <thead>\n",
       "    <tr style=\"text-align: right;\">\n",
       "      <th></th>\n",
       "      <th>Date</th>\n",
       "      <th>Time</th>\n",
       "      <th>State/UnionTerritory</th>\n",
       "      <th>ConfirmedIndianNational</th>\n",
       "      <th>Gender</th>\n",
       "      <th>ConfirmedForeignNational</th>\n",
       "      <th>Age</th>\n",
       "      <th>Serious symptoms</th>\n",
       "      <th>Less common symptoms</th>\n",
       "      <th>Most common symptoms</th>\n",
       "      <th>Severity</th>\n",
       "      <th>Patient_Status</th>\n",
       "    </tr>\n",
       "  </thead>\n",
       "  <tbody>\n",
       "    <tr>\n",
       "      <th>0</th>\n",
       "      <td>30/01/20</td>\n",
       "      <td>6:00 PM</td>\n",
       "      <td>Kerala</td>\n",
       "      <td>1</td>\n",
       "      <td>Male</td>\n",
       "      <td>0</td>\n",
       "      <td>12</td>\n",
       "      <td>chest pain or pressure</td>\n",
       "      <td>sore throat</td>\n",
       "      <td>dry cough</td>\n",
       "      <td>Seviour</td>\n",
       "      <td>Covid</td>\n",
       "    </tr>\n",
       "    <tr>\n",
       "      <th>1</th>\n",
       "      <td>31/01/20</td>\n",
       "      <td>6:00 PM</td>\n",
       "      <td>Kerala</td>\n",
       "      <td>1</td>\n",
       "      <td>Male</td>\n",
       "      <td>0</td>\n",
       "      <td>48</td>\n",
       "      <td>chest pain or pressure</td>\n",
       "      <td>diarrhoea</td>\n",
       "      <td>tiredness</td>\n",
       "      <td>Mild</td>\n",
       "      <td>Covid</td>\n",
       "    </tr>\n",
       "    <tr>\n",
       "      <th>2</th>\n",
       "      <td>02/01/2020</td>\n",
       "      <td>6:00 PM</td>\n",
       "      <td>Kerala</td>\n",
       "      <td>2</td>\n",
       "      <td>Female</td>\n",
       "      <td>0</td>\n",
       "      <td>46</td>\n",
       "      <td>chest pain or pressure</td>\n",
       "      <td>aches and pains</td>\n",
       "      <td>fever</td>\n",
       "      <td>Seviour</td>\n",
       "      <td>flu</td>\n",
       "    </tr>\n",
       "    <tr>\n",
       "      <th>3</th>\n",
       "      <td>02/02/2020</td>\n",
       "      <td>6:00 PM</td>\n",
       "      <td>Kerala</td>\n",
       "      <td>3</td>\n",
       "      <td>Male</td>\n",
       "      <td>0</td>\n",
       "      <td>20</td>\n",
       "      <td>difficulty breathing or shortness of breath</td>\n",
       "      <td>loss of taste or smell</td>\n",
       "      <td>fever</td>\n",
       "      <td>Seviour</td>\n",
       "      <td>flu</td>\n",
       "    </tr>\n",
       "    <tr>\n",
       "      <th>4</th>\n",
       "      <td>02/03/2020</td>\n",
       "      <td>6:00 PM</td>\n",
       "      <td>Kerala</td>\n",
       "      <td>3</td>\n",
       "      <td>Male</td>\n",
       "      <td>0</td>\n",
       "      <td>95</td>\n",
       "      <td>chest pain or pressure</td>\n",
       "      <td>sore throat</td>\n",
       "      <td>fever</td>\n",
       "      <td>Mild</td>\n",
       "      <td>flu</td>\n",
       "    </tr>\n",
       "    <tr>\n",
       "      <th>...</th>\n",
       "      <td>...</td>\n",
       "      <td>...</td>\n",
       "      <td>...</td>\n",
       "      <td>...</td>\n",
       "      <td>...</td>\n",
       "      <td>...</td>\n",
       "      <td>...</td>\n",
       "      <td>...</td>\n",
       "      <td>...</td>\n",
       "      <td>...</td>\n",
       "      <td>...</td>\n",
       "      <td>...</td>\n",
       "    </tr>\n",
       "    <tr>\n",
       "      <th>3130</th>\n",
       "      <td>17/06/20</td>\n",
       "      <td>8:00 AM</td>\n",
       "      <td>Tripura</td>\n",
       "      <td>-</td>\n",
       "      <td>Male</td>\n",
       "      <td>-</td>\n",
       "      <td>42</td>\n",
       "      <td>chest pain or pressure</td>\n",
       "      <td>conjunctivitis</td>\n",
       "      <td>fever</td>\n",
       "      <td>Seviour</td>\n",
       "      <td>Covid</td>\n",
       "    </tr>\n",
       "    <tr>\n",
       "      <th>3131</th>\n",
       "      <td>17/06/20</td>\n",
       "      <td>8:00 AM</td>\n",
       "      <td>Uttarakhand</td>\n",
       "      <td>-</td>\n",
       "      <td>Male</td>\n",
       "      <td>-</td>\n",
       "      <td>66</td>\n",
       "      <td>difficulty breathing or shortness of breath</td>\n",
       "      <td>diarrhoea</td>\n",
       "      <td>dry cough</td>\n",
       "      <td>Moderate</td>\n",
       "      <td>flu</td>\n",
       "    </tr>\n",
       "    <tr>\n",
       "      <th>3132</th>\n",
       "      <td>17/06/20</td>\n",
       "      <td>8:00 AM</td>\n",
       "      <td>Uttar Pradesh</td>\n",
       "      <td>-</td>\n",
       "      <td>Male</td>\n",
       "      <td>-</td>\n",
       "      <td>51</td>\n",
       "      <td>loss of speech or movement</td>\n",
       "      <td>aches and pains</td>\n",
       "      <td>tiredness</td>\n",
       "      <td>Moderate</td>\n",
       "      <td>flu</td>\n",
       "    </tr>\n",
       "    <tr>\n",
       "      <th>3133</th>\n",
       "      <td>17/06/20</td>\n",
       "      <td>8:00 AM</td>\n",
       "      <td>West Bengal</td>\n",
       "      <td>-</td>\n",
       "      <td>Female</td>\n",
       "      <td>-</td>\n",
       "      <td>13</td>\n",
       "      <td>loss of speech or movement</td>\n",
       "      <td>sore throat</td>\n",
       "      <td>tiredness</td>\n",
       "      <td>Seviour</td>\n",
       "      <td>Covid</td>\n",
       "    </tr>\n",
       "    <tr>\n",
       "      <th>3134</th>\n",
       "      <td>17/06/20</td>\n",
       "      <td>8:00 AM</td>\n",
       "      <td>Cases being reassigned to states</td>\n",
       "      <td>-</td>\n",
       "      <td>Female</td>\n",
       "      <td>-</td>\n",
       "      <td>7</td>\n",
       "      <td>difficulty breathing or shortness of breath</td>\n",
       "      <td>loss of taste or smell</td>\n",
       "      <td>tiredness</td>\n",
       "      <td>Moderate</td>\n",
       "      <td>Covid</td>\n",
       "    </tr>\n",
       "  </tbody>\n",
       "</table>\n",
       "<p>3135 rows × 12 columns</p>\n",
       "</div>"
      ],
      "text/plain": [
       "            Date     Time              State/UnionTerritory  \\\n",
       "0       30/01/20  6:00 PM                            Kerala   \n",
       "1       31/01/20  6:00 PM                            Kerala   \n",
       "2     02/01/2020  6:00 PM                            Kerala   \n",
       "3     02/02/2020  6:00 PM                            Kerala   \n",
       "4     02/03/2020  6:00 PM                            Kerala   \n",
       "...          ...      ...                               ...   \n",
       "3130    17/06/20  8:00 AM                           Tripura   \n",
       "3131    17/06/20  8:00 AM                       Uttarakhand   \n",
       "3132    17/06/20  8:00 AM                     Uttar Pradesh   \n",
       "3133    17/06/20  8:00 AM                       West Bengal   \n",
       "3134    17/06/20  8:00 AM  Cases being reassigned to states   \n",
       "\n",
       "     ConfirmedIndianNational Gender  ConfirmedForeignNational  Age   \\\n",
       "0                          1   Male                         0    12   \n",
       "1                          1   Male                         0    48   \n",
       "2                          2  Female                        0    46   \n",
       "3                          3   Male                         0    20   \n",
       "4                          3   Male                         0    95   \n",
       "...                      ...     ...                      ...   ...   \n",
       "3130                       -   Male                         -    42   \n",
       "3131                       -   Male                         -    66   \n",
       "3132                       -   Male                         -    51   \n",
       "3133                       -  Female                        -    13   \n",
       "3134                       -  Female                        -     7   \n",
       "\n",
       "                                 Serious symptoms    Less common symptoms  \\\n",
       "0                          chest pain or pressure             sore throat   \n",
       "1                          chest pain or pressure               diarrhoea   \n",
       "2                          chest pain or pressure         aches and pains   \n",
       "3     difficulty breathing or shortness of breath  loss of taste or smell   \n",
       "4                          chest pain or pressure             sore throat   \n",
       "...                                           ...                     ...   \n",
       "3130                       chest pain or pressure          conjunctivitis   \n",
       "3131  difficulty breathing or shortness of breath               diarrhoea   \n",
       "3132                   loss of speech or movement         aches and pains   \n",
       "3133                   loss of speech or movement             sore throat   \n",
       "3134  difficulty breathing or shortness of breath  loss of taste or smell   \n",
       "\n",
       "     Most common symptoms  Severity Patient_Status   \n",
       "0               dry cough   Seviour           Covid  \n",
       "1               tiredness      Mild           Covid  \n",
       "2                   fever   Seviour             flu  \n",
       "3                   fever   Seviour             flu  \n",
       "4                   fever      Mild             flu  \n",
       "...                   ...       ...             ...  \n",
       "3130                fever   Seviour           Covid  \n",
       "3131            dry cough  Moderate             flu  \n",
       "3132            tiredness  Moderate             flu  \n",
       "3133            tiredness   Seviour           Covid  \n",
       "3134            tiredness  Moderate           Covid  \n",
       "\n",
       "[3135 rows x 12 columns]"
      ]
     },
     "execution_count": 128,
     "metadata": {},
     "output_type": "execute_result"
    }
   ],
   "source": [
    "# Displaying dataset onto the console.\n",
    "dataset"
   ]
  },
  {
   "cell_type": "code",
   "execution_count": 129,
   "metadata": {},
   "outputs": [
    {
     "data": {
      "text/plain": [
       "fever        1058\n",
       "tiredness    1042\n",
       "dry cough    1035\n",
       "Name: Most common symptoms, dtype: int64"
      ]
     },
     "execution_count": 129,
     "metadata": {},
     "output_type": "execute_result"
    }
   ],
   "source": [
    "# Initializing level of symptoms for the disease.\n",
    "dataset['Severity'].value_counts()\n",
    "dataset['Less common symptoms'].value_counts()\n",
    "dataset['Serious symptoms'].value_counts()\n",
    "dataset['Most common symptoms'].value_counts()"
   ]
  },
  {
   "cell_type": "code",
   "execution_count": 130,
   "metadata": {},
   "outputs": [],
   "source": [
    "# Making a copy of our dataset for classifying.\n",
    "d = dataset.copy()"
   ]
  },
  {
   "cell_type": "markdown",
   "metadata": {},
   "source": [
    "## 𝘍𝘰𝘳 𝘓𝘦𝘴𝘴 𝘤𝘰𝘮𝘮𝘰𝘯 𝘚𝘺𝘮𝘱𝘵𝘰𝘮𝘴 , 𝘞𝘦 𝘤𝘭𝘢𝘴𝘴𝘪𝘧𝘺 𝘢𝘴 𝘥𝘪𝘢𝘳𝘳𝘩𝘰𝘦𝘢  , 𝘢 𝘳𝘢𝘴𝘩 𝘰𝘯 𝘴𝘬𝘪𝘯, 𝘰𝘳 𝘥𝘪𝘴𝘤𝘰𝘭𝘰𝘶𝘳𝘢𝘵𝘪𝘰𝘯 𝘰𝘧 𝘧𝘪𝘯𝘨𝘦𝘳𝘴 𝘰𝘳 𝘵𝘰𝘦𝘴 , 𝘭𝘰𝘴𝘴 𝘰𝘧 𝘵𝘢𝘴𝘵𝘦 𝘰𝘳 𝘴𝘮𝘦𝘭𝘭 , 𝘩𝘦𝘢𝘥𝘢𝘤𝘩𝘦."
   ]
  },
  {
   "cell_type": "code",
   "execution_count": 131,
   "metadata": {},
   "outputs": [],
   "source": [
    "Enc=LabelEncoder()\n",
    "d['Less common symptoms']=Enc.fit_transform(d['Less common symptoms'].astype('str'))"
   ]
  },
  {
   "cell_type": "markdown",
   "metadata": {},
   "source": [
    "## 𝘍𝘰𝘳 𝘴𝘦𝘳𝘪𝘰𝘶𝘴 𝘴𝘺𝘮𝘱𝘵𝘰𝘮𝘴, 𝘞𝘦 𝘤𝘭𝘢𝘴𝘴𝘪𝘧𝘺 𝘢𝘴 𝘥𝘪𝘧𝘧𝘪𝘤𝘶𝘭𝘵𝘺 𝘣𝘳𝘦𝘢𝘵𝘩𝘪𝘯𝘨 𝘰𝘳 𝘴𝘩𝘰𝘳𝘵𝘯𝘦𝘴𝘴 𝘰𝘧 𝘣𝘳𝘦𝘢𝘵𝘩 , 𝘤𝘩𝘦𝘴𝘵 𝘱𝘢𝘪𝘯 𝘰𝘳 𝘱𝘳𝘦𝘴𝘴𝘶𝘳𝘦 , 𝘭𝘰𝘴𝘴 𝘰𝘧 𝘴𝘱𝘦𝘦𝘤𝘩 𝘰𝘳 𝘮𝘰𝘷𝘦𝘮𝘦𝘯𝘵\n"
   ]
  },
  {
   "cell_type": "code",
   "execution_count": 132,
   "metadata": {},
   "outputs": [
    {
     "data": {
      "text/html": [
       "<div>\n",
       "<style scoped>\n",
       "    .dataframe tbody tr th:only-of-type {\n",
       "        vertical-align: middle;\n",
       "    }\n",
       "\n",
       "    .dataframe tbody tr th {\n",
       "        vertical-align: top;\n",
       "    }\n",
       "\n",
       "    .dataframe thead th {\n",
       "        text-align: right;\n",
       "    }\n",
       "</style>\n",
       "<table border=\"1\" class=\"dataframe\">\n",
       "  <thead>\n",
       "    <tr style=\"text-align: right;\">\n",
       "      <th></th>\n",
       "      <th>Date</th>\n",
       "      <th>Time</th>\n",
       "      <th>State/UnionTerritory</th>\n",
       "      <th>ConfirmedIndianNational</th>\n",
       "      <th>Gender</th>\n",
       "      <th>ConfirmedForeignNational</th>\n",
       "      <th>Age</th>\n",
       "      <th>Serious symptoms</th>\n",
       "      <th>Less common symptoms</th>\n",
       "      <th>Most common symptoms</th>\n",
       "      <th>Severity</th>\n",
       "      <th>Patient_Status</th>\n",
       "    </tr>\n",
       "  </thead>\n",
       "  <tbody>\n",
       "    <tr>\n",
       "      <th>0</th>\n",
       "      <td>30/01/20</td>\n",
       "      <td>6:00 PM</td>\n",
       "      <td>Kerala</td>\n",
       "      <td>1</td>\n",
       "      <td>Male</td>\n",
       "      <td>0</td>\n",
       "      <td>12</td>\n",
       "      <td>0</td>\n",
       "      <td>6</td>\n",
       "      <td>dry cough</td>\n",
       "      <td>Seviour</td>\n",
       "      <td>Covid</td>\n",
       "    </tr>\n",
       "    <tr>\n",
       "      <th>1</th>\n",
       "      <td>31/01/20</td>\n",
       "      <td>6:00 PM</td>\n",
       "      <td>Kerala</td>\n",
       "      <td>1</td>\n",
       "      <td>Male</td>\n",
       "      <td>0</td>\n",
       "      <td>48</td>\n",
       "      <td>0</td>\n",
       "      <td>3</td>\n",
       "      <td>tiredness</td>\n",
       "      <td>Mild</td>\n",
       "      <td>Covid</td>\n",
       "    </tr>\n",
       "    <tr>\n",
       "      <th>2</th>\n",
       "      <td>02/01/2020</td>\n",
       "      <td>6:00 PM</td>\n",
       "      <td>Kerala</td>\n",
       "      <td>2</td>\n",
       "      <td>Female</td>\n",
       "      <td>0</td>\n",
       "      <td>46</td>\n",
       "      <td>0</td>\n",
       "      <td>1</td>\n",
       "      <td>fever</td>\n",
       "      <td>Seviour</td>\n",
       "      <td>flu</td>\n",
       "    </tr>\n",
       "    <tr>\n",
       "      <th>3</th>\n",
       "      <td>02/02/2020</td>\n",
       "      <td>6:00 PM</td>\n",
       "      <td>Kerala</td>\n",
       "      <td>3</td>\n",
       "      <td>Male</td>\n",
       "      <td>0</td>\n",
       "      <td>20</td>\n",
       "      <td>1</td>\n",
       "      <td>5</td>\n",
       "      <td>fever</td>\n",
       "      <td>Seviour</td>\n",
       "      <td>flu</td>\n",
       "    </tr>\n",
       "    <tr>\n",
       "      <th>4</th>\n",
       "      <td>02/03/2020</td>\n",
       "      <td>6:00 PM</td>\n",
       "      <td>Kerala</td>\n",
       "      <td>3</td>\n",
       "      <td>Male</td>\n",
       "      <td>0</td>\n",
       "      <td>95</td>\n",
       "      <td>0</td>\n",
       "      <td>6</td>\n",
       "      <td>fever</td>\n",
       "      <td>Mild</td>\n",
       "      <td>flu</td>\n",
       "    </tr>\n",
       "  </tbody>\n",
       "</table>\n",
       "</div>"
      ],
      "text/plain": [
       "         Date     Time State/UnionTerritory ConfirmedIndianNational Gender   \\\n",
       "0    30/01/20  6:00 PM               Kerala                       1   Male    \n",
       "1    31/01/20  6:00 PM               Kerala                       1   Male    \n",
       "2  02/01/2020  6:00 PM               Kerala                       2  Female   \n",
       "3  02/02/2020  6:00 PM               Kerala                       3   Male    \n",
       "4  02/03/2020  6:00 PM               Kerala                       3   Male    \n",
       "\n",
       "  ConfirmedForeignNational  Age   Serious symptoms  Less common symptoms  \\\n",
       "0                        0    12                 0                     6   \n",
       "1                        0    48                 0                     3   \n",
       "2                        0    46                 0                     1   \n",
       "3                        0    20                 1                     5   \n",
       "4                        0    95                 0                     6   \n",
       "\n",
       "  Most common symptoms Severity Patient_Status   \n",
       "0            dry cough  Seviour           Covid  \n",
       "1            tiredness     Mild           Covid  \n",
       "2                fever  Seviour             flu  \n",
       "3                fever  Seviour             flu  \n",
       "4                fever     Mild             flu  "
      ]
     },
     "execution_count": 132,
     "metadata": {},
     "output_type": "execute_result"
    }
   ],
   "source": [
    "d['Serious symptoms']=Enc.fit_transform(d['Serious symptoms'].astype('str'))\n",
    "d.head()"
   ]
  },
  {
   "cell_type": "markdown",
   "metadata": {},
   "source": [
    "## 𝘍𝘰𝘳 𝘔𝘰𝘴𝘵 𝘤𝘰𝘮𝘮𝘰𝘯 𝘴𝘺𝘮𝘱𝘵𝘰𝘮𝘴, 𝘸𝘦 𝘤𝘭𝘢𝘴𝘴𝘪𝘧𝘺 𝘢𝘴 𝘵𝘪𝘳𝘦𝘥𝘯𝘦𝘴𝘴 , 𝘥𝘳𝘺 𝘤𝘰𝘶𝘨𝘩 ,𝘧𝘦𝘷𝘦𝘳."
   ]
  },
  {
   "cell_type": "code",
   "execution_count": 133,
   "metadata": {},
   "outputs": [],
   "source": [
    "d['Most common symptoms']=Enc.fit_transform(d['Most common symptoms'].astype('str'))"
   ]
  },
  {
   "cell_type": "markdown",
   "metadata": {},
   "source": [
    "## 𝘍𝘰𝘳 𝘚𝘦𝘷𝘦𝘳𝘪𝘵𝘺 , 𝘞𝘦 𝘤𝘭𝘢𝘴𝘴𝘪𝘧𝘺 𝘢𝘴 𝘮𝘰𝘥𝘦𝘳𝘢𝘵𝘦 , 𝘮𝘪𝘭𝘥 𝘢𝘯𝘥 𝘴𝘦𝘷𝘦𝘳𝘦.\n"
   ]
  },
  {
   "cell_type": "code",
   "execution_count": 134,
   "metadata": {},
   "outputs": [
    {
     "data": {
      "text/html": [
       "<div>\n",
       "<style scoped>\n",
       "    .dataframe tbody tr th:only-of-type {\n",
       "        vertical-align: middle;\n",
       "    }\n",
       "\n",
       "    .dataframe tbody tr th {\n",
       "        vertical-align: top;\n",
       "    }\n",
       "\n",
       "    .dataframe thead th {\n",
       "        text-align: right;\n",
       "    }\n",
       "</style>\n",
       "<table border=\"1\" class=\"dataframe\">\n",
       "  <thead>\n",
       "    <tr style=\"text-align: right;\">\n",
       "      <th></th>\n",
       "      <th>Date</th>\n",
       "      <th>Time</th>\n",
       "      <th>State/UnionTerritory</th>\n",
       "      <th>ConfirmedIndianNational</th>\n",
       "      <th>Gender</th>\n",
       "      <th>ConfirmedForeignNational</th>\n",
       "      <th>Age</th>\n",
       "      <th>Serious symptoms</th>\n",
       "      <th>Less common symptoms</th>\n",
       "      <th>Most common symptoms</th>\n",
       "      <th>Severity</th>\n",
       "      <th>Patient_Status</th>\n",
       "    </tr>\n",
       "  </thead>\n",
       "  <tbody>\n",
       "    <tr>\n",
       "      <th>3130</th>\n",
       "      <td>17/06/20</td>\n",
       "      <td>8:00 AM</td>\n",
       "      <td>Tripura</td>\n",
       "      <td>-</td>\n",
       "      <td>Male</td>\n",
       "      <td>-</td>\n",
       "      <td>42</td>\n",
       "      <td>0</td>\n",
       "      <td>2</td>\n",
       "      <td>1</td>\n",
       "      <td>2</td>\n",
       "      <td>Covid</td>\n",
       "    </tr>\n",
       "    <tr>\n",
       "      <th>3131</th>\n",
       "      <td>17/06/20</td>\n",
       "      <td>8:00 AM</td>\n",
       "      <td>Uttarakhand</td>\n",
       "      <td>-</td>\n",
       "      <td>Male</td>\n",
       "      <td>-</td>\n",
       "      <td>66</td>\n",
       "      <td>1</td>\n",
       "      <td>3</td>\n",
       "      <td>0</td>\n",
       "      <td>1</td>\n",
       "      <td>flu</td>\n",
       "    </tr>\n",
       "    <tr>\n",
       "      <th>3132</th>\n",
       "      <td>17/06/20</td>\n",
       "      <td>8:00 AM</td>\n",
       "      <td>Uttar Pradesh</td>\n",
       "      <td>-</td>\n",
       "      <td>Male</td>\n",
       "      <td>-</td>\n",
       "      <td>51</td>\n",
       "      <td>2</td>\n",
       "      <td>1</td>\n",
       "      <td>2</td>\n",
       "      <td>1</td>\n",
       "      <td>flu</td>\n",
       "    </tr>\n",
       "    <tr>\n",
       "      <th>3133</th>\n",
       "      <td>17/06/20</td>\n",
       "      <td>8:00 AM</td>\n",
       "      <td>West Bengal</td>\n",
       "      <td>-</td>\n",
       "      <td>Female</td>\n",
       "      <td>-</td>\n",
       "      <td>13</td>\n",
       "      <td>2</td>\n",
       "      <td>6</td>\n",
       "      <td>2</td>\n",
       "      <td>2</td>\n",
       "      <td>Covid</td>\n",
       "    </tr>\n",
       "    <tr>\n",
       "      <th>3134</th>\n",
       "      <td>17/06/20</td>\n",
       "      <td>8:00 AM</td>\n",
       "      <td>Cases being reassigned to states</td>\n",
       "      <td>-</td>\n",
       "      <td>Female</td>\n",
       "      <td>-</td>\n",
       "      <td>7</td>\n",
       "      <td>1</td>\n",
       "      <td>5</td>\n",
       "      <td>2</td>\n",
       "      <td>1</td>\n",
       "      <td>Covid</td>\n",
       "    </tr>\n",
       "  </tbody>\n",
       "</table>\n",
       "</div>"
      ],
      "text/plain": [
       "          Date     Time              State/UnionTerritory  \\\n",
       "3130  17/06/20  8:00 AM                           Tripura   \n",
       "3131  17/06/20  8:00 AM                       Uttarakhand   \n",
       "3132  17/06/20  8:00 AM                     Uttar Pradesh   \n",
       "3133  17/06/20  8:00 AM                       West Bengal   \n",
       "3134  17/06/20  8:00 AM  Cases being reassigned to states   \n",
       "\n",
       "     ConfirmedIndianNational Gender  ConfirmedForeignNational  Age   \\\n",
       "3130                       -   Male                         -    42   \n",
       "3131                       -   Male                         -    66   \n",
       "3132                       -   Male                         -    51   \n",
       "3133                       -  Female                        -    13   \n",
       "3134                       -  Female                        -     7   \n",
       "\n",
       "      Serious symptoms  Less common symptoms  Most common symptoms  Severity  \\\n",
       "3130                 0                     2                     1         2   \n",
       "3131                 1                     3                     0         1   \n",
       "3132                 2                     1                     2         1   \n",
       "3133                 2                     6                     2         2   \n",
       "3134                 1                     5                     2         1   \n",
       "\n",
       "     Patient_Status   \n",
       "3130           Covid  \n",
       "3131             flu  \n",
       "3132             flu  \n",
       "3133           Covid  \n",
       "3134           Covid  "
      ]
     },
     "execution_count": 134,
     "metadata": {},
     "output_type": "execute_result"
    }
   ],
   "source": [
    "d['Severity']=Enc.fit_transform(d['Severity'].astype('str')) \n",
    "d.tail()"
   ]
  },
  {
   "cell_type": "code",
   "execution_count": 135,
   "metadata": {},
   "outputs": [],
   "source": [
    "# With State/UnionTerritory as well.\n",
    "d['State/UnionTerritory'] = Enc.fit_transform(d['State/UnionTerritory'].astype('str'))\n"
   ]
  },
  {
   "cell_type": "markdown",
   "metadata": {},
   "source": [
    "## 𝘞𝘦 𝘊𝘭𝘢𝘴𝘴𝘪𝘧𝘺 - 𝘔𝘢𝘭𝘦 𝘢𝘴 1 , 𝘍𝘦𝘮𝘢𝘭𝘦 𝘢𝘴 0 𝘢𝘯𝘥 𝘊𝘰𝘳𝘰𝘯𝘢𝘷𝘪𝘳𝘶𝘴  𝘢𝘴 1 , 𝘍𝘭𝘶 𝘢𝘴 0.\n"
   ]
  },
  {
   "cell_type": "code",
   "execution_count": 136,
   "metadata": {},
   "outputs": [],
   "source": [
    "d.update(d['Gender '].replace(to_replace =[\"Male \"], value =\"1\")) \n",
    "d.update(d['Gender '].replace(to_replace =[\"Female\"], value =\"0\")) \n",
    "d.update(d['Patient_Status '].replace(to_replace =[\"Covid\"], value =\"1\")) \n",
    "d.update(d['Patient_Status '].replace(to_replace =[\"flu\"], value =\"0\"))"
   ]
  },
  {
   "cell_type": "code",
   "execution_count": 137,
   "metadata": {},
   "outputs": [
    {
     "data": {
      "text/html": [
       "<div>\n",
       "<style scoped>\n",
       "    .dataframe tbody tr th:only-of-type {\n",
       "        vertical-align: middle;\n",
       "    }\n",
       "\n",
       "    .dataframe tbody tr th {\n",
       "        vertical-align: top;\n",
       "    }\n",
       "\n",
       "    .dataframe thead th {\n",
       "        text-align: right;\n",
       "    }\n",
       "</style>\n",
       "<table border=\"1\" class=\"dataframe\">\n",
       "  <thead>\n",
       "    <tr style=\"text-align: right;\">\n",
       "      <th></th>\n",
       "      <th>Date</th>\n",
       "      <th>Time</th>\n",
       "      <th>State/UnionTerritory</th>\n",
       "      <th>ConfirmedIndianNational</th>\n",
       "      <th>Gender</th>\n",
       "      <th>ConfirmedForeignNational</th>\n",
       "      <th>Age</th>\n",
       "      <th>Serious symptoms</th>\n",
       "      <th>Less common symptoms</th>\n",
       "      <th>Most common symptoms</th>\n",
       "      <th>Severity</th>\n",
       "      <th>Patient_Status</th>\n",
       "    </tr>\n",
       "  </thead>\n",
       "  <tbody>\n",
       "    <tr>\n",
       "      <th>0</th>\n",
       "      <td>30/01/20</td>\n",
       "      <td>6:00 PM</td>\n",
       "      <td>19</td>\n",
       "      <td>1</td>\n",
       "      <td>1</td>\n",
       "      <td>0</td>\n",
       "      <td>12</td>\n",
       "      <td>0</td>\n",
       "      <td>6</td>\n",
       "      <td>0</td>\n",
       "      <td>2</td>\n",
       "      <td>1</td>\n",
       "    </tr>\n",
       "    <tr>\n",
       "      <th>1</th>\n",
       "      <td>31/01/20</td>\n",
       "      <td>6:00 PM</td>\n",
       "      <td>19</td>\n",
       "      <td>1</td>\n",
       "      <td>1</td>\n",
       "      <td>0</td>\n",
       "      <td>48</td>\n",
       "      <td>0</td>\n",
       "      <td>3</td>\n",
       "      <td>2</td>\n",
       "      <td>0</td>\n",
       "      <td>1</td>\n",
       "    </tr>\n",
       "    <tr>\n",
       "      <th>2</th>\n",
       "      <td>02/01/2020</td>\n",
       "      <td>6:00 PM</td>\n",
       "      <td>19</td>\n",
       "      <td>2</td>\n",
       "      <td>0</td>\n",
       "      <td>0</td>\n",
       "      <td>46</td>\n",
       "      <td>0</td>\n",
       "      <td>1</td>\n",
       "      <td>1</td>\n",
       "      <td>2</td>\n",
       "      <td>0</td>\n",
       "    </tr>\n",
       "    <tr>\n",
       "      <th>3</th>\n",
       "      <td>02/02/2020</td>\n",
       "      <td>6:00 PM</td>\n",
       "      <td>19</td>\n",
       "      <td>3</td>\n",
       "      <td>1</td>\n",
       "      <td>0</td>\n",
       "      <td>20</td>\n",
       "      <td>1</td>\n",
       "      <td>5</td>\n",
       "      <td>1</td>\n",
       "      <td>2</td>\n",
       "      <td>0</td>\n",
       "    </tr>\n",
       "    <tr>\n",
       "      <th>4</th>\n",
       "      <td>02/03/2020</td>\n",
       "      <td>6:00 PM</td>\n",
       "      <td>19</td>\n",
       "      <td>3</td>\n",
       "      <td>1</td>\n",
       "      <td>0</td>\n",
       "      <td>95</td>\n",
       "      <td>0</td>\n",
       "      <td>6</td>\n",
       "      <td>1</td>\n",
       "      <td>0</td>\n",
       "      <td>0</td>\n",
       "    </tr>\n",
       "  </tbody>\n",
       "</table>\n",
       "</div>"
      ],
      "text/plain": [
       "         Date     Time  State/UnionTerritory ConfirmedIndianNational Gender   \\\n",
       "0    30/01/20  6:00 PM                    19                       1       1   \n",
       "1    31/01/20  6:00 PM                    19                       1       1   \n",
       "2  02/01/2020  6:00 PM                    19                       2       0   \n",
       "3  02/02/2020  6:00 PM                    19                       3       1   \n",
       "4  02/03/2020  6:00 PM                    19                       3       1   \n",
       "\n",
       "  ConfirmedForeignNational  Age   Serious symptoms  Less common symptoms  \\\n",
       "0                        0    12                 0                     6   \n",
       "1                        0    48                 0                     3   \n",
       "2                        0    46                 0                     1   \n",
       "3                        0    20                 1                     5   \n",
       "4                        0    95                 0                     6   \n",
       "\n",
       "   Most common symptoms  Severity Patient_Status   \n",
       "0                     0         2               1  \n",
       "1                     2         0               1  \n",
       "2                     1         2               0  \n",
       "3                     1         2               0  \n",
       "4                     1         0               0  "
      ]
     },
     "execution_count": 137,
     "metadata": {},
     "output_type": "execute_result"
    }
   ],
   "source": [
    "d.head()"
   ]
  },
  {
   "cell_type": "code",
   "execution_count": 138,
   "metadata": {},
   "outputs": [
    {
     "data": {
      "text/plain": [
       "array([[ 1.00736363, -1.47164593, -1.21099109,  1.47399699, -1.2313196 ,\n",
       "         1.24699953],\n",
       "       [ 1.00736363, -0.17081605, -1.21099109, -0.008195  ,  1.22583314,\n",
       "        -1.23118971],\n",
       "       [-0.99269019, -0.24308437, -1.21099109, -0.99632299, -0.00274323,\n",
       "         1.24699953],\n",
       "       [ 1.00736363, -1.18257263,  0.00855824,  0.97993299, -0.00274323,\n",
       "         1.24699953],\n",
       "       [ 1.00736363,  1.52748964, -1.21099109,  1.47399699, -0.00274323,\n",
       "        -1.23118971]])"
      ]
     },
     "execution_count": 138,
     "metadata": {},
     "output_type": "execute_result"
    }
   ],
   "source": [
    "# We are interpreting the data.\n",
    "X = d[['Gender ','Age ','Serious symptoms','Less common symptoms','Most common symptoms', 'Severity']]\n",
    "y = d['Patient_Status ']\n",
    "X = preprocessing.StandardScaler().fit(X).transform(X.astype(float))\n",
    "X[0:5]"
   ]
  },
  {
   "cell_type": "code",
   "execution_count": 139,
   "metadata": {},
   "outputs": [
    {
     "name": "stdout",
     "output_type": "stream",
     "text": [
      "Train set: (2194, 6) (2194,)\n",
      "Test set: (941, 6) (941,)\n"
     ]
    }
   ],
   "source": [
    "# We are using KNN classifier as our algorithm for this classification model. \n",
    "from sklearn.model_selection import train_test_split\n",
    "# Training the data.\n",
    "X_train, X_test, y_train, y_test = train_test_split( X, y, test_size=0.3, random_state = 5)\n",
    "print ('Train set:', X_train.shape,  y_train.shape)\n",
    "print ('Test set:', X_test.shape,  y_test.shape)"
   ]
  },
  {
   "cell_type": "code",
   "execution_count": 140,
   "metadata": {},
   "outputs": [],
   "source": [
    "from sklearn.neighbors import KNeighborsClassifier"
   ]
  },
  {
   "cell_type": "code",
   "execution_count": 141,
   "metadata": {},
   "outputs": [
    {
     "data": {
      "text/plain": [
       "KNeighborsClassifier(algorithm='auto', leaf_size=30, metric='minkowski',\n",
       "                     metric_params=None, n_jobs=None, n_neighbors=1, p=2,\n",
       "                     weights='uniform')"
      ]
     },
     "execution_count": 141,
     "metadata": {},
     "output_type": "execute_result"
    }
   ],
   "source": [
    "k = 1\n",
    "#Train Model and Predict  \n",
    "beside = KNeighborsClassifier(n_neighbors = k).fit(X_train,y_train)\n",
    "# Displaying beside onto the console.\n",
    "beside"
   ]
  },
  {
   "cell_type": "code",
   "execution_count": 142,
   "metadata": {},
   "outputs": [
    {
     "data": {
      "text/plain": [
       "array(['0', '0', '0', '1', '1'], dtype=object)"
      ]
     },
     "execution_count": 142,
     "metadata": {},
     "output_type": "execute_result"
    }
   ],
   "source": [
    "# Predicting the X category.\n",
    "yhat = beside.predict(X_test)\n",
    "yhat[0:5]"
   ]
  },
  {
   "cell_type": "code",
   "execution_count": 143,
   "metadata": {},
   "outputs": [
    {
     "name": "stdout",
     "output_type": "stream",
     "text": [
      "Train set Accuracy:  0.9854147675478578\n",
      "Test set Accuracy:  0.48884165781083955\n"
     ]
    }
   ],
   "source": [
    "from sklearn import metrics\n",
    "print(\"Train set Accuracy: \", metrics.accuracy_score(y_train, beside.predict(X_train)))\n",
    "print(\"Test set Accuracy: \", metrics.accuracy_score(y_test, yhat))"
   ]
  },
  {
   "cell_type": "markdown",
   "metadata": {},
   "source": [
    "# 𝘗𝘳𝘦𝘥𝘪𝘤𝘵𝘪𝘷𝘦 𝘊𝘢𝘴𝘦𝘴."
   ]
  },
  {
   "cell_type": "code",
   "execution_count": 144,
   "metadata": {},
   "outputs": [
    {
     "data": {
      "text/plain": [
       "array(['1'], dtype=object)"
      ]
     },
     "execution_count": 144,
     "metadata": {},
     "output_type": "execute_result"
    }
   ],
   "source": [
    "beside.predict([[0, 34,2,4,2,2]])\n"
   ]
  },
  {
   "cell_type": "code",
   "execution_count": 145,
   "metadata": {},
   "outputs": [
    {
     "data": {
      "text/plain": [
       "array(['0'], dtype=object)"
      ]
     },
     "execution_count": 145,
     "metadata": {},
     "output_type": "execute_result"
    }
   ],
   "source": [
    "beside.predict([[0, 32,5,3,4,2]])\n"
   ]
  },
  {
   "cell_type": "markdown",
   "metadata": {},
   "source": [
    "# =========================================================== "
   ]
  }
 ],
 "metadata": {
  "kernelspec": {
   "display_name": "Python 3",
   "language": "python",
   "name": "python3"
  },
  "language_info": {
   "codemirror_mode": {
    "name": "ipython",
    "version": 3
   },
   "file_extension": ".py",
   "mimetype": "text/x-python",
   "name": "python",
   "nbconvert_exporter": "python",
   "pygments_lexer": "ipython3",
   "version": "3.7.6"
  }
 },
 "nbformat": 4,
 "nbformat_minor": 4
}
