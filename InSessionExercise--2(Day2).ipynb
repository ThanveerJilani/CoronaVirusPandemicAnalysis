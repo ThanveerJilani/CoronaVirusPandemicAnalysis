{
 "cells": [
  {
   "cell_type": "code",
   "execution_count": 1,
   "metadata": {},
   "outputs": [],
   "source": [
    "district = \"Mumbai\"\n",
    "infected_total_till_date = 136596\n",
    "recovered_till_date = 67890\n",
    "deaths_till_date = 5732"
   ]
  },
  {
   "cell_type": "code",
   "execution_count": 2,
   "metadata": {},
   "outputs": [],
   "source": [
    "def cmrfunc(total_population_living_in_that_place):\n",
    "    CMR = (deaths_till_date/total_population_living_in_that_place)*100\n",
    "    print(CMR)"
   ]
  },
  {
   "cell_type": "code",
   "execution_count": 3,
   "metadata": {},
   "outputs": [
    {
     "name": "stdout",
     "output_type": "stream",
     "text": [
      "0.028082519493883625\n"
     ]
    }
   ],
   "source": [
    "cmrfunc(20411274)"
   ]
  },
  {
   "cell_type": "code",
   "execution_count": 4,
   "metadata": {},
   "outputs": [],
   "source": [
    "def ifrfunc():\n",
    "    IFR = (deaths_till_date/infected_total_till_date)*100\n",
    "    print(IFR)"
   ]
  },
  {
   "cell_type": "code",
   "execution_count": 5,
   "metadata": {},
   "outputs": [
    {
     "name": "stdout",
     "output_type": "stream",
     "text": [
      "4.196316143957364\n"
     ]
    }
   ],
   "source": [
    "ifrfunc()"
   ]
  }
 ],
 "metadata": {
  "kernelspec": {
   "display_name": "Python 3",
   "language": "python",
   "name": "python3"
  },
  "language_info": {
   "codemirror_mode": {
    "name": "ipython",
    "version": 3
   },
   "file_extension": ".py",
   "mimetype": "text/x-python",
   "name": "python",
   "nbconvert_exporter": "python",
   "pygments_lexer": "ipython3",
   "version": "3.7.6"
  }
 },
 "nbformat": 4,
 "nbformat_minor": 4
}
