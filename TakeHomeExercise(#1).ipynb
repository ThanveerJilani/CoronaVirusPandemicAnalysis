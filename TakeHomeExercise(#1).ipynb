{
 "cells": [
  {
   "cell_type": "code",
   "execution_count": 1,
   "metadata": {},
   "outputs": [
    {
     "name": "stdout",
     "output_type": "stream",
     "text": [
      "['Andaman And Nicobar', 'Andhra Pradesh', 'Arunachal Pradesh', 'Assam', 'Bihar', 'Chandigarh', 'Chhattisgarh', 'Dadra and Nagar Haveli', 'Delhi', 'Goa', 'Gujarat', 'Haryana', 'Himachal Pradesh', 'Jammu and Kashmir', 'Jharkhand', 'Karnataka', 'Kerala', 'Ladakh', 'Lakshadweep', 'Madhya Pradesh', 'Maharashtra', 'Manipur', 'Meghalaya', 'Mizoram', 'Nagaland', 'Odisha', 'Puducherry', 'Punjab', 'Rajasthan', 'Sikkim', 'Tamil Nadu', 'Telengana', 'Tripura', 'Uttar Pradesh', 'Uttarakhand', 'West Bengal']\n"
     ]
    },
    {
     "data": {
      "text/plain": [
       "36"
      ]
     },
     "execution_count": 1,
     "metadata": {},
     "output_type": "execute_result"
    }
   ],
   "source": [
    "# Listing out all the states in alphabetical order.\n",
    "list1 = [\"Andaman And Nicobar\" , \"Andhra Pradesh\" , \"Arunachal Pradesh\" , \"Assam\" , \"Bihar\" , \"Chandigarh\" , \"Chhattisgarh\" , \"Dadra and Nagar Haveli\" , \"Delhi\" , \"Goa\" , \"Gujarat\" ,\"Haryana\" , \"Himachal Pradesh\" , \"Jammu and Kashmir\" , \"Jharkhand\" , \"Karnataka\" , \"Kerala\" , \"Ladakh\" , \"Lakshadweep\" , \"Madhya Pradesh\" , \"Maharashtra\" , \"Manipur\" , \"Meghalaya\" , \"Mizoram\" , \"Nagaland\" , \"Odisha\" , \"Puducherry\" , \"Punjab\" , \"Rajasthan\" , \"Sikkim\" , \"Tamil Nadu\" , \"Telengana\" , \"Tripura\" , \"Uttar Pradesh\" , \"Uttarakhand\" , \"West Bengal\"]\n",
    "# Displaying the list on to the console.\n",
    "print(list1)\n",
    "# Displaying number of stated in the list.\n",
    "len(list1)"
   ]
  },
  {
   "cell_type": "code",
   "execution_count": 2,
   "metadata": {},
   "outputs": [
    {
     "name": "stdout",
     "output_type": "stream",
     "text": [
      "['100', '15252', '195', '8582', '10249', '446', '2940', '215', '89802', '1387', '33232', '14941', '979', '7695', '2521', '16514', '4593', '990', '0', '13861', '180298', '1260', '52', '160', '459', '7316', '714', '5668', '18312', '101', '94049', '17357', '1396', '24056', '2947', '19170']\n"
     ]
    },
    {
     "data": {
      "text/plain": [
       "36"
      ]
     },
     "execution_count": 2,
     "metadata": {},
     "output_type": "execute_result"
    }
   ],
   "source": [
    "# Listing out the number of infections in a state through a list.\n",
    "list2 = [\"100\" , \"15252\" , \"195\" , \"8582\" , \"10249\" , \"446\" , \"2940\" , \"215\" , \"89802\" , \"1387\" , \"33232\" , \"14941\" , \"979\" , \"7695\" , \"2521\" , \"16514\" , \"4593\" , \"990\" , \"0\" , \"13861\" , \"180298\" , \"1260\" , \"52\" , \"160\" , \"459\" , \"7316\" , \"714\" , \"5668\" , \"18312\" , \"101\" , \"94049\" , \"17357\" , \"1396\" , \"24056\" , \"2947\" , \"19170\"]\n",
    "# Displaying the list on to the console.\n",
    "print(list2)\n",
    "# Displaying number of stated in the list.\n",
    "len(list2)"
   ]
  },
  {
   "cell_type": "code",
   "execution_count": 3,
   "metadata": {},
   "outputs": [
    {
     "name": "stdout",
     "output_type": "stream",
     "text": [
      "(50, 6988, 66, 5851, 7946, 367, 2303, 86, 59992, 670, 24030, 10499, 614, 4856, 1931, 8063, 2439, 694, 0, 10655, 93154, 79, 42, 123, 168, 5353, 272, 3867, 14574, 53, 52926, 8082, 1093, 16629, 2317, 12528)\n"
     ]
    },
    {
     "data": {
      "text/plain": [
       "36"
      ]
     },
     "execution_count": 3,
     "metadata": {},
     "output_type": "execute_result"
    }
   ],
   "source": [
    "# Listing out the number of recovered through a tuple.\n",
    "tuple_recovered = (50 , 6988 , 66 , 5851 , 7946 , 367 , 2303 , 86 , 59992 , 670 , 24030 , 10499 , 614 , 4856 , 1931 , 8063 , 2439 , 694 , 0 , 10655 , 93154 , 79 , 42 , 123 , 168 ,5353 , 272 , 3867 , 14574 , 53 , 52926 , 8082 , 1093 , 16629 , 2317 , 12528)\n",
    "# Displaying the tuple on to the console.\n",
    "print(tuple_recovered)\n",
    "# Displaying number of stated in the tuple.\n",
    "len(tuple_recovered)"
   ]
  },
  {
   "cell_type": "code",
   "execution_count": 4,
   "metadata": {},
   "outputs": [
    {
     "name": "stdout",
     "output_type": "stream",
     "text": [
      "{'Andaman And Nicobar': '100', 'Andhra Pradesh': '15252', 'Arunachal Pradesh': '195', 'Assam': '8582', 'Bihar': '10249', 'Chandigarh': '446', 'Chhattisgarh': '2940', 'Dadra and Nagar Haveli': '215', 'Delhi': '89802', 'Goa': '1387', 'Gujarat': '33232', 'Haryana': '14941', 'Himachal Pradesh': '979', 'Jammu and Kashmir': '7695', 'Jharkhand': '2521', 'Karnataka': '16514', 'Kerala': '4593', 'Ladakh': '990', 'Lakshadweep': '0', 'Madhya Pradesh': '13861', 'Maharashtra': '180298', 'Manipur': '1260', 'Meghalaya': '52', 'Mizoram': '160', 'Nagaland': '459', 'Odisha': '7316', 'Puducherry': '714', 'Punjab': '5668', 'Rajasthan': '18312', 'Sikkim': '101', 'Tamil Nadu': '94049', 'Telengana': '17357', 'Tripura': '1396', 'Uttar Pradesh': '24056', 'Uttarakhand': '2947', 'West Bengal': '19170'}\n"
     ]
    },
    {
     "data": {
      "text/plain": [
       "36"
      ]
     },
     "execution_count": 4,
     "metadata": {},
     "output_type": "execute_result"
    }
   ],
   "source": [
    "# Using the zip() , Taking list1 as key and list2 as value through a dictionary.\n",
    "dictionary = {key: value for key, value in zip(list1, list2)}\n",
    "# Displaying the dictionary on to the console.\n",
    "print(dictionary)\n",
    "# Displaying number of stated in the dictionary.\n",
    "len(dictionary)"
   ]
  }
 ],
 "metadata": {
  "kernelspec": {
   "display_name": "Python 3",
   "language": "python",
   "name": "python3"
  },
  "language_info": {
   "codemirror_mode": {
    "name": "ipython",
    "version": 3
   },
   "file_extension": ".py",
   "mimetype": "text/x-python",
   "name": "python",
   "nbconvert_exporter": "python",
   "pygments_lexer": "ipython3",
   "version": "3.7.6"
  }
 },
 "nbformat": 4,
 "nbformat_minor": 4
}
