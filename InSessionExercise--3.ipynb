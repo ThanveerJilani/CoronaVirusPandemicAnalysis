{
 "cells": [
  {
   "cell_type": "markdown",
   "metadata": {},
   "source": [
    "Source for both IFR and CMR --- https://en.wikipedia.org/wiki/Mortality_rate\n"
   ]
  },
  {
   "cell_type": "code",
   "execution_count": 1,
   "metadata": {},
   "outputs": [],
   "source": [
    "# Declaring a variable called as \"district\".\n",
    "district = \"Mumbai\"\n",
    "# Declaring a variable that holds the number of infected cases till date.\n",
    "infected_total_till_date = 136596\n",
    "# Declaring a variable that holds the number of recovered till date.\n",
    "recovered_till_date = 67890\n",
    "# Declaring a variable that holds the number of deaths till date.\n",
    "deaths_till_date = 5732"
   ]
  },
  {
   "cell_type": "code",
   "execution_count": 2,
   "metadata": {},
   "outputs": [],
   "source": [
    "# Declaring a function that calculates CMR[Crude Mortality Rate]\n",
    "# Total population living in the district = 20411274. (source -- WorldPopulationReview.com)\n",
    "def cmrfunc(total_population_living_in_that_place):\n",
    "    CMR = (deaths_till_date/total_population_living_in_that_place)*100\n",
    "    print(CMR)"
   ]
  },
  {
   "cell_type": "code",
   "execution_count": 3,
   "metadata": {},
   "outputs": [
    {
     "name": "stdout",
     "output_type": "stream",
     "text": [
      "0.028082519493883625\n"
     ]
    }
   ],
   "source": [
    "# Displaying cmrfunc() on to the console.\n",
    "cmrfunc(20411274)"
   ]
  },
  {
   "cell_type": "code",
   "execution_count": 4,
   "metadata": {},
   "outputs": [],
   "source": [
    "# Declaring the function that calculated IFR[Infection Fatality Rate]\n",
    "def ifrfunc():\n",
    "    IFR = (deaths_till_date/infected_total_till_date)*100\n",
    "    print(IFR)"
   ]
  },
  {
   "cell_type": "code",
   "execution_count": 5,
   "metadata": {},
   "outputs": [
    {
     "name": "stdout",
     "output_type": "stream",
     "text": [
      "4.196316143957364\n"
     ]
    }
   ],
   "source": [
    "# Displaying ifrfunc() on to the console.\n",
    "ifrfunc()"
   ]
  }
 ],
 "metadata": {
  "kernelspec": {
   "display_name": "Python 3",
   "language": "python",
   "name": "python3"
  },
  "language_info": {
   "codemirror_mode": {
    "name": "ipython",
    "version": 3
   },
   "file_extension": ".py",
   "mimetype": "text/x-python",
   "name": "python",
   "nbconvert_exporter": "python",
   "pygments_lexer": "ipython3",
   "version": "3.7.6"
  }
 },
 "nbformat": 4,
 "nbformat_minor": 4
}
