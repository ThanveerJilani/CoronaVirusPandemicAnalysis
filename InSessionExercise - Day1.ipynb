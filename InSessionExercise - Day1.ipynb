{
 "cells": [
  {
   "cell_type": "code",
   "execution_count": 1,
   "metadata": {},
   "outputs": [],
   "source": [
    "district = \"Gwalior\"\n",
    "infected_total_till_date = 1234\n",
    "infected_on_june10 = 12\n",
    "infected_on_june11 = 2\n",
    "infected_on_june12 = 13"
   ]
  },
  {
   "cell_type": "code",
   "execution_count": 2,
   "metadata": {},
   "outputs": [
    {
     "name": "stdout",
     "output_type": "stream",
     "text": [
      "7.6923076923076925\n"
     ]
    }
   ],
   "source": [
    "percentage_change = ((infected_on_june12 - infected_on_june10)/ (infected_on_june12)) * 100\n",
    "print(percentage_change)"
   ]
  }
 ],
 "metadata": {
  "kernelspec": {
   "display_name": "Python 3",
   "language": "python",
   "name": "python3"
  },
  "language_info": {
   "codemirror_mode": {
    "name": "ipython",
    "version": 3
   },
   "file_extension": ".py",
   "mimetype": "text/x-python",
   "name": "python",
   "nbconvert_exporter": "python",
   "pygments_lexer": "ipython3",
   "version": "3.7.6"
  }
 },
 "nbformat": 4,
 "nbformat_minor": 4
}
